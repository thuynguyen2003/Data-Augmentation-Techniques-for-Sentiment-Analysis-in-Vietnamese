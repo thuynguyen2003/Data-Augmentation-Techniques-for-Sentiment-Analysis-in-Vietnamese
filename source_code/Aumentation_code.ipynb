{
  "cells": [
    {
      "cell_type": "code",
      "execution_count": null,
      "metadata": {},
      "outputs": [],
      "source": [
        "!pip install pyvi\n",
        "!pip install nlpaug==1.1.3\n",
        "!pip install py_vncorenlp\n",
        "!pip install datasets\n",
        "!pip install googletrans==4.0.0-rc1\n",
        "!pip install mtranslate\n",
        "!pip install transformers\n",
        "!pip install underthesea\n",
        "!pip install langdetect\n",
        "!pip install sentencepiece\n",
        "!pip install torch"
      ]
    },
    {
      "cell_type": "code",
      "execution_count": null,
      "metadata": {
        "colab": {
          "base_uri": "https://localhost:8080/"
        },
        "id": "SKkcnBoMfB3Z",
        "outputId": "d3735ebc-0cfc-4582-bf56-f8f1618d120f"
      },
      "outputs": [
        {
          "data": {
            "text/plain": [
              "DatasetDict({\n",
              "    train: Dataset({\n",
              "        features: ['text', 'label'],\n",
              "        num_rows: 700\n",
              "    })\n",
              "    dev: Dataset({\n",
              "        features: ['text', 'label'],\n",
              "        num_rows: 100\n",
              "    })\n",
              "    test: Dataset({\n",
              "        features: ['text', 'label'],\n",
              "        num_rows: 200\n",
              "    })\n",
              "})"
            ]
          },
          "execution_count": 4,
          "metadata": {},
          "output_type": "execute_result"
        }
      ],
      "source": [
        "import pickle\n",
        "from datasets import Dataset, DatasetDict\n",
        "dataset_name = \"Final_Mixed.pkl\"\n",
        "with open('./data/' + dataset_name, 'rb') as f:\n",
        "    data = pickle.load(f)\n",
        "data"
      ]
    },
    {
      "cell_type": "code",
      "execution_count": null,
      "metadata": {
        "colab": {
          "base_uri": "https://localhost:8080/",
          "height": 224
        },
        "id": "h9ZGX7bWfL65",
        "outputId": "0a72bd97-01b5-439f-c7b5-fa268f335bb5"
      },
      "outputs": [
        {
          "name": "stdout",
          "output_type": "stream",
          "text": [
            "Kích thước tập train: 700\n"
          ]
        },
        {
          "data": {
            "text/html": [
              "\n",
              "  <div id=\"df-b0e66221-5dd2-4305-a112-9a0bbb6efa9c\" class=\"colab-df-container\">\n",
              "    <div>\n",
              "<style scoped>\n",
              "    .dataframe tbody tr th:only-of-type {\n",
              "        vertical-align: middle;\n",
              "    }\n",
              "\n",
              "    .dataframe tbody tr th {\n",
              "        vertical-align: top;\n",
              "    }\n",
              "\n",
              "    .dataframe thead th {\n",
              "        text-align: right;\n",
              "    }\n",
              "</style>\n",
              "<table border=\"1\" class=\"dataframe\">\n",
              "  <thead>\n",
              "    <tr style=\"text-align: right;\">\n",
              "      <th></th>\n",
              "      <th>text</th>\n",
              "      <th>label</th>\n",
              "    </tr>\n",
              "  </thead>\n",
              "  <tbody>\n",
              "    <tr>\n",
              "      <th>0</th>\n",
              "      <td>trang thiết bị mới buffet ngon giường hơi nhỏ ...</td>\n",
              "      <td>1</td>\n",
              "    </tr>\n",
              "    <tr>\n",
              "      <th>1</th>\n",
              "      <td>beautiful hotels and có phong cách</td>\n",
              "      <td>2</td>\n",
              "    </tr>\n",
              "    <tr>\n",
              "      <th>2</th>\n",
              "      <td>tôi và con gái được phục vụ những meals ngon t...</td>\n",
              "      <td>2</td>\n",
              "    </tr>\n",
              "    <tr>\n",
              "      <th>3</th>\n",
              "      <td>tôi request phục vụ phòng mấy lần mà đi cả ngà...</td>\n",
              "      <td>0</td>\n",
              "    </tr>\n",
              "    <tr>\n",
              "      <th>4</th>\n",
              "      <td>ngoài furama có thể cân nhắc thêm park hyatt n...</td>\n",
              "      <td>1</td>\n",
              "    </tr>\n",
              "  </tbody>\n",
              "</table>\n",
              "</div>\n",
              "    <div class=\"colab-df-buttons\">\n",
              "\n",
              "  <div class=\"colab-df-container\">\n",
              "    <button class=\"colab-df-convert\" onclick=\"convertToInteractive('df-b0e66221-5dd2-4305-a112-9a0bbb6efa9c')\"\n",
              "            title=\"Convert this dataframe to an interactive table.\"\n",
              "            style=\"display:none;\">\n",
              "\n",
              "  <svg xmlns=\"http://www.w3.org/2000/svg\" height=\"24px\" viewBox=\"0 -960 960 960\">\n",
              "    <path d=\"M120-120v-720h720v720H120Zm60-500h600v-160H180v160Zm220 220h160v-160H400v160Zm0 220h160v-160H400v160ZM180-400h160v-160H180v160Zm440 0h160v-160H620v160ZM180-180h160v-160H180v160Zm440 0h160v-160H620v160Z\"/>\n",
              "  </svg>\n",
              "    </button>\n",
              "\n",
              "  <style>\n",
              "    .colab-df-container {\n",
              "      display:flex;\n",
              "      gap: 12px;\n",
              "    }\n",
              "\n",
              "    .colab-df-convert {\n",
              "      background-color: #E8F0FE;\n",
              "      border: none;\n",
              "      border-radius: 50%;\n",
              "      cursor: pointer;\n",
              "      display: none;\n",
              "      fill: #1967D2;\n",
              "      height: 32px;\n",
              "      padding: 0 0 0 0;\n",
              "      width: 32px;\n",
              "    }\n",
              "\n",
              "    .colab-df-convert:hover {\n",
              "      background-color: #E2EBFA;\n",
              "      box-shadow: 0px 1px 2px rgba(60, 64, 67, 0.3), 0px 1px 3px 1px rgba(60, 64, 67, 0.15);\n",
              "      fill: #174EA6;\n",
              "    }\n",
              "\n",
              "    .colab-df-buttons div {\n",
              "      margin-bottom: 4px;\n",
              "    }\n",
              "\n",
              "    [theme=dark] .colab-df-convert {\n",
              "      background-color: #3B4455;\n",
              "      fill: #D2E3FC;\n",
              "    }\n",
              "\n",
              "    [theme=dark] .colab-df-convert:hover {\n",
              "      background-color: #434B5C;\n",
              "      box-shadow: 0px 1px 3px 1px rgba(0, 0, 0, 0.15);\n",
              "      filter: drop-shadow(0px 1px 2px rgba(0, 0, 0, 0.3));\n",
              "      fill: #FFFFFF;\n",
              "    }\n",
              "  </style>\n",
              "\n",
              "    <script>\n",
              "      const buttonEl =\n",
              "        document.querySelector('#df-b0e66221-5dd2-4305-a112-9a0bbb6efa9c button.colab-df-convert');\n",
              "      buttonEl.style.display =\n",
              "        google.colab.kernel.accessAllowed ? 'block' : 'none';\n",
              "\n",
              "      async function convertToInteractive(key) {\n",
              "        const element = document.querySelector('#df-b0e66221-5dd2-4305-a112-9a0bbb6efa9c');\n",
              "        const dataTable =\n",
              "          await google.colab.kernel.invokeFunction('convertToInteractive',\n",
              "                                                    [key], {});\n",
              "        if (!dataTable) return;\n",
              "\n",
              "        const docLinkHtml = 'Like what you see? Visit the ' +\n",
              "          '<a target=\"_blank\" href=https://colab.research.google.com/notebooks/data_table.ipynb>data table notebook</a>'\n",
              "          + ' to learn more about interactive tables.';\n",
              "        element.innerHTML = '';\n",
              "        dataTable['output_type'] = 'display_data';\n",
              "        await google.colab.output.renderOutput(dataTable, element);\n",
              "        const docLink = document.createElement('div');\n",
              "        docLink.innerHTML = docLinkHtml;\n",
              "        element.appendChild(docLink);\n",
              "      }\n",
              "    </script>\n",
              "  </div>\n",
              "\n",
              "\n",
              "<div id=\"df-237a1470-9b0b-4377-b658-c686e87f6f1a\">\n",
              "  <button class=\"colab-df-quickchart\" onclick=\"quickchart('df-237a1470-9b0b-4377-b658-c686e87f6f1a')\"\n",
              "            title=\"Suggest charts.\"\n",
              "            style=\"display:none;\">\n",
              "\n",
              "<svg xmlns=\"http://www.w3.org/2000/svg\" height=\"24px\"viewBox=\"0 0 24 24\"\n",
              "     width=\"24px\">\n",
              "    <g>\n",
              "        <path d=\"M19 3H5c-1.1 0-2 .9-2 2v14c0 1.1.9 2 2 2h14c1.1 0 2-.9 2-2V5c0-1.1-.9-2-2-2zM9 17H7v-7h2v7zm4 0h-2V7h2v10zm4 0h-2v-4h2v4z\"/>\n",
              "    </g>\n",
              "</svg>\n",
              "  </button>\n",
              "\n",
              "<style>\n",
              "  .colab-df-quickchart {\n",
              "    background-color: #E8F0FE;\n",
              "    border: none;\n",
              "    border-radius: 50%;\n",
              "    cursor: pointer;\n",
              "    display: none;\n",
              "    fill: #1967D2;\n",
              "    height: 32px;\n",
              "    padding: 0 0 0 0;\n",
              "    width: 32px;\n",
              "  }\n",
              "\n",
              "  .colab-df-quickchart:hover {\n",
              "    background-color: #E2EBFA;\n",
              "    box-shadow: 0px 1px 2px rgba(60, 64, 67, 0.3), 0px 1px 3px 1px rgba(60, 64, 67, 0.15);\n",
              "    fill: #174EA6;\n",
              "  }\n",
              "\n",
              "  [theme=dark] .colab-df-quickchart {\n",
              "    background-color: #3B4455;\n",
              "    fill: #D2E3FC;\n",
              "  }\n",
              "\n",
              "  [theme=dark] .colab-df-quickchart:hover {\n",
              "    background-color: #434B5C;\n",
              "    box-shadow: 0px 1px 3px 1px rgba(0, 0, 0, 0.15);\n",
              "    filter: drop-shadow(0px 1px 2px rgba(0, 0, 0, 0.3));\n",
              "    fill: #FFFFFF;\n",
              "  }\n",
              "</style>\n",
              "\n",
              "  <script>\n",
              "    async function quickchart(key) {\n",
              "      const charts = await google.colab.kernel.invokeFunction(\n",
              "          'suggestCharts', [key], {});\n",
              "    }\n",
              "    (() => {\n",
              "      let quickchartButtonEl =\n",
              "        document.querySelector('#df-237a1470-9b0b-4377-b658-c686e87f6f1a button');\n",
              "      quickchartButtonEl.style.display =\n",
              "        google.colab.kernel.accessAllowed ? 'block' : 'none';\n",
              "    })();\n",
              "  </script>\n",
              "</div>\n",
              "    </div>\n",
              "  </div>\n"
            ],
            "text/plain": [
              "                                                text  label\n",
              "0  trang thiết bị mới buffet ngon giường hơi nhỏ ...      1\n",
              "1                 beautiful hotels and có phong cách      2\n",
              "2  tôi và con gái được phục vụ những meals ngon t...      2\n",
              "3  tôi request phục vụ phòng mấy lần mà đi cả ngà...      0\n",
              "4  ngoài furama có thể cân nhắc thêm park hyatt n...      1"
            ]
          },
          "execution_count": 5,
          "metadata": {},
          "output_type": "execute_result"
        }
      ],
      "source": [
        "data.set_format(type=\"pandas\")\n",
        "data_train = data[\"train\"][:]\n",
        "data.reset_format()\n",
        "print(\"Kích thước tập train:\", len(data_train))\n",
        "data_train.head()"
      ]
    },
    {
      "cell_type": "markdown",
      "metadata": {
        "id": "tLP6hkK4zwOi"
      },
      "source": [
        "# Các hàm"
      ]
    },
    {
      "cell_type": "code",
      "execution_count": null,
      "metadata": {
        "colab": {
          "base_uri": "https://localhost:8080/"
        },
        "id": "5-MaNqd01xib",
        "outputId": "a17b093d-67b9-4456-9481-6afd88f756ab"
      },
      "outputs": [
        {
          "name": "stdout",
          "output_type": "stream",
          "text": [
            "Ví dụ hàm word_seg: người ta có bạn_bè nhìn vui_vẻ\n"
          ]
        }
      ],
      "source": [
        "import nlpaug.augmenter.word as naw\n",
        "import pandas as pd\n",
        "import py_vncorenlp\n",
        "import pandas as pd\n",
        "py_vncorenlp.download_model(save_dir='/content/')\n",
        "vncore_nlp = py_vncorenlp.VnCoreNLP(annotators=[\"wseg\", \"pos\"], save_dir='/content/')\n",
        "\n",
        "def word_seg(text):\n",
        "  output =  vncore_nlp.annotate_text(text)\n",
        "  df = pd.DataFrame(output[0])\n",
        "  word_list = list(df['wordForm'])\n",
        "  return \" \".join(word_list)\n",
        "print(\"Ví dụ hàm word_seg:\",word_seg(\"người ta có bạn bè nhìn vui vẻ\"))\n",
        "\n",
        "# hàm tiền xử lý\n",
        "import re\n",
        "import numpy as np\n",
        "from underthesea import text_normalize\n",
        "from pyvi import ViTokenizer\n",
        "def chuan_hoa_unicode_dau_cau(text):\n",
        "  return text_normalize(text)\n",
        "\n",
        "def viet_thuong(text):\n",
        "\treturn text.lower()\n",
        "\n",
        "def chuan_hoa_cau(text):\n",
        "\ttext = re.sub(r'[^\\s\\wáàảãạăắằẳẵặâấầẩẫậéèẻẽẹêếềểễệóòỏõọôốồổỗộơớờởỡợíìỉĩịúùủũụưứừửữựýỳỷỹỵđ_]',' ',text)\n",
        "\ttext = re.sub(r'\\s+', ' ', text).strip()\n",
        "\treturn text\n",
        "\n",
        "def tien_xu_ly(sen):\n",
        "  sen = chuan_hoa_unicode_dau_cau(sen)\n",
        "  sen = viet_thuong(sen)\n",
        "  sen = chuan_hoa_cau(sen)\n",
        "  return sen"
      ]
    },
    {
      "cell_type": "code",
      "execution_count": null,
      "metadata": {
        "colab": {
          "base_uri": "https://localhost:8080/",
          "height": 151,
          "referenced_widgets": [
            "9520b7ea9f94405a92969567e71490b7",
            "beae7e19e80f44d782ec9639935eeddb",
            "b98aea617e8140ec8c4b10cf29d075a1",
            "242787d6ca7c4de098ef2ffdbd4783af",
            "f49deab74ed8458686c8a78432691144",
            "58409c3b37964ea1b22c6de7b69227fd",
            "54530d56a91744708f1b53ca0db9caa0",
            "f6345efd451b481f8511f39e8934c6da",
            "b781ac51647f40bfb6272f4197039f2c",
            "cc41ead347d7468bad26043c7b171697",
            "b00f3b6bbcd544f0b49f6f71bff005e4",
            "61a2f02f06cb4bc7a847576f19ebdb06",
            "db1536d2ee9c48b78783aff732caf57e",
            "cf532d8179d840d398cdfe1bfe4f332b",
            "20ae6d5e458449a18962401d9b787888",
            "89b01df0d207492cb182af981ac6f348",
            "9275f6dd25e847b5aabc01985afe6014",
            "bcd56b2d137c42cab51186070f5435d0",
            "aebd0fcc9b294131bc7dff503e86b67a",
            "70fef04640524143bf753b3aea3f0335",
            "e3895cd14cd44db0816fb9f2bf935976",
            "2028d0c7f68142898073c1f779bd872e",
            "09afe201309a49349045d2686a265f6f",
            "87355f3d761d4179bb677cff4c4e957d",
            "eeb0a68ab96544a5a557d7e3d27f56a3",
            "fb0972062f6b45c3937bad8370684f3a",
            "33512e712c614948a618253a649c8058",
            "3ee51731ba1f4bafb2974c05d544d00f",
            "f54c95640a7c48089a73669b2aa2abda",
            "35917a43a0124768b8139e3e5cb2b1b8",
            "877b4c6b9be34414b7d633838525d270",
            "2cfa22c438e743018d3460edacf472ba",
            "c0f8dd9a38c44905b99abaa45c7e4642"
          ]
        },
        "id": "uMy2Cb0Yx4C8",
        "outputId": "3dbfe009-c9df-4c0e-91c9-7e024a9a4dda"
      },
      "outputs": [
        {
          "data": {
            "application/vnd.jupyter.widget-view+json": {
              "model_id": "9520b7ea9f94405a92969567e71490b7",
              "version_major": 2,
              "version_minor": 0
            },
            "text/plain": [
              "Downloading (…)lve/main/config.json:   0%|          | 0.00/1.47k [00:00<?, ?B/s]"
            ]
          },
          "metadata": {},
          "output_type": "display_data"
        },
        {
          "data": {
            "application/vnd.jupyter.widget-view+json": {
              "model_id": "61a2f02f06cb4bc7a847576f19ebdb06",
              "version_major": 2,
              "version_minor": 0
            },
            "text/plain": [
              "Downloading (…)tencepiece.bpe.model:   0%|          | 0.00/1.88M [00:00<?, ?B/s]"
            ]
          },
          "metadata": {},
          "output_type": "display_data"
        },
        {
          "data": {
            "application/vnd.jupyter.widget-view+json": {
              "model_id": "09afe201309a49349045d2686a265f6f",
              "version_major": 2,
              "version_minor": 0
            },
            "text/plain": [
              "Downloading pytorch_model.bin:   0%|          | 0.00/1.79G [00:00<?, ?B/s]"
            ]
          },
          "metadata": {},
          "output_type": "display_data"
        },
        {
          "name": "stdout",
          "output_type": "stream",
          "text": [
            "[\"She said: I haven't been to a public gym before, but with my own yoga teacher or at home.\", 'When I exercise in a private space, I feel more comfortable.', 'She said: \"I\\'ve never been to a public gym before, but with my own yoga teacher or at home. When I exercise in a private space, I\\'m more comfortable.\"']\n"
          ]
        }
      ],
      "source": [
        "import torch\n",
        "from transformers import AutoTokenizer, AutoModelForSeq2SeqLM\n",
        "\n",
        "tokenizer_vi2en = AutoTokenizer.from_pretrained(\"vinai/vinai-translate-vi2en\", src_lang=\"vi_VN\")\n",
        "model_vi2en = AutoModelForSeq2SeqLM.from_pretrained(\"vinai/vinai-translate-vi2en\")\n",
        "device_vi2en = torch.device(\"cuda\")\n",
        "model_vi2en.to(device_vi2en)\n",
        "\n",
        "\n",
        "def translate_vi2en(vi_texts: str) -> str:\n",
        "    input_ids = tokenizer_vi2en(vi_texts, padding=True, return_tensors=\"pt\").to(device_vi2en)\n",
        "    output_ids = model_vi2en.generate(\n",
        "        **input_ids,\n",
        "        decoder_start_token_id=tokenizer_vi2en.lang_code_to_id[\"en_XX\"],\n",
        "        num_return_sequences=1,\n",
        "        num_beams=5,\n",
        "        early_stopping=True\n",
        "    )\n",
        "    en_texts = tokenizer_vi2en.batch_decode(output_ids, skip_special_tokens=True)\n",
        "    return en_texts\n",
        "\n",
        "# The input may consist of multiple text sequences, with the number of text sequences in the input ranging from 1 up to 8, 16, 32, or even higher, depending on the GPU memory.\n",
        "vi_texts = [\"Cô cho biết: trước giờ tôi không đến phòng tập công cộng, mà tập cùng giáo viên Yoga riêng hoặc tự tập ở nhà.\",\n",
        "            \"Khi tập thể dục trong không gian riêng tư, tôi thoải mái dễ chịu hơn.\",\n",
        "            \"cô cho biết trước giờ tôi không đến phòng tập công cộng mà tập cùng giáo viên yoga riêng hoặc tự tập ở nhà khi tập thể dục trong không gian riêng tư tôi thoải mái dễ chịu hơn\"]\n",
        "print(translate_vi2en(vi_texts))"
      ]
    },
    {
      "cell_type": "code",
      "execution_count": null,
      "metadata": {
        "colab": {
          "base_uri": "https://localhost:8080/",
          "height": 151,
          "referenced_widgets": [
            "a9a1d546d16642339442821b5215f5ff",
            "3d8586d52d41423b81a4c0ec93eb494b",
            "436976e76eed4fe78ec24673e552f684",
            "65a48b30b64a44ab8b671599e8a6194a",
            "0f4fec6e28a141079bc56a96b7e499c6",
            "e73ade784ae946d7989c9c104456bf24",
            "e7c4d255319d47e0a64d6d7218a215d7",
            "15754082b3c74638adcf30659a751383",
            "79211b62aebc417399a2191c7b3fc4f9",
            "84f223217ec6462495a1421e26459513",
            "47bb58c3d68545c7961857ce96728ee2",
            "6b73a3b2575341b3b5de7930f35bdeb7",
            "21f6b67e21ba4a32815be3cfaad6aecf",
            "7ccb55d09b5546ceb407f200341ca868",
            "a269826c0b8c4721ba77ef3570fad28b",
            "288ef994feb0492fa5508969d84d3802",
            "e7bc6e3a24d046dfb5e76f384617be84",
            "f8fd4d7033f249cd8c79c5ce002b3a65",
            "2ed4a3e8166947e78f29651abd4d65b4",
            "8aaf0fe518724b3a8cbefd2a9cbd97d8",
            "513f175b45b44818b256b7cb045085bd",
            "dab8229db5284c2085fd565b361341ac",
            "21fca1d0d8424d949d2d1ea2c89ae904",
            "67dfbbde36b044599deaca8c8d102807",
            "e82ee0bf9260413c80fb47a0de1fe915",
            "700f9fce962c45e0bce2ce5dd1e98e67",
            "283e14a3fd7146bfbaef9b443c3668bb",
            "127ae7160689495eb0583efc18fd4e26",
            "ee19aba0b3224df28759dbf99834749d",
            "e9b928dc83fb428281be4518dda986e5",
            "654de3fafef24ef5956d1b93bd333396",
            "f1b1fcb460644976867c8047e18931a0",
            "2f51de9f343243ef9ab61e6ba88f4840"
          ]
        },
        "id": "Dy_7_DgaSBXA",
        "outputId": "67e3e1ef-003c-4307-d12a-f0364288cf2b"
      },
      "outputs": [
        {
          "data": {
            "application/vnd.jupyter.widget-view+json": {
              "model_id": "a9a1d546d16642339442821b5215f5ff",
              "version_major": 2,
              "version_minor": 0
            },
            "text/plain": [
              "Downloading (…)lve/main/config.json:   0%|          | 0.00/1.47k [00:00<?, ?B/s]"
            ]
          },
          "metadata": {},
          "output_type": "display_data"
        },
        {
          "data": {
            "application/vnd.jupyter.widget-view+json": {
              "model_id": "6b73a3b2575341b3b5de7930f35bdeb7",
              "version_major": 2,
              "version_minor": 0
            },
            "text/plain": [
              "Downloading (…)tencepiece.bpe.model:   0%|          | 0.00/1.88M [00:00<?, ?B/s]"
            ]
          },
          "metadata": {},
          "output_type": "display_data"
        },
        {
          "data": {
            "application/vnd.jupyter.widget-view+json": {
              "model_id": "21fca1d0d8424d949d2d1ea2c89ae904",
              "version_major": 2,
              "version_minor": 0
            },
            "text/plain": [
              "Downloading pytorch_model.bin:   0%|          | 0.00/1.79G [00:00<?, ?B/s]"
            ]
          },
          "metadata": {},
          "output_type": "display_data"
        },
        {
          "name": "stdout",
          "output_type": "stream",
          "text": [
            "['Tôi chưa từng đến phòng tập công cộng bao giờ.', 'Khi tôi tập thể dục trong không gian riêng tư, tôi cảm thấy thoải mái hơn.', 'Tôi chưa từng đến phòng tập thể dục công cộng trước đây. Khi tôi tập thể dục trong một không gian riêng tư, tôi cảm thấy thoải mái hơn.']\n"
          ]
        }
      ],
      "source": [
        "import torch\n",
        "from transformers import AutoTokenizer, AutoModelForSeq2SeqLM\n",
        "\n",
        "tokenizer_en2vi = AutoTokenizer.from_pretrained(\"vinai/vinai-translate-en2vi\", src_lang=\"en_XX\")\n",
        "model_en2vi = AutoModelForSeq2SeqLM.from_pretrained(\"vinai/vinai-translate-en2vi\")\n",
        "device_en2vi = torch.device(\"cuda\")\n",
        "model_en2vi.to(device_en2vi)\n",
        "\n",
        "\n",
        "def translate_en2vi(en_texts: str) -> str:\n",
        "    input_ids = tokenizer_en2vi(en_texts, padding=True, return_tensors=\"pt\").to(device_en2vi)\n",
        "    output_ids = model_en2vi.generate(\n",
        "        **input_ids,\n",
        "        decoder_start_token_id=tokenizer_en2vi.lang_code_to_id[\"vi_VN\"],\n",
        "        num_return_sequences=1,\n",
        "        num_beams=5,\n",
        "        early_stopping=True\n",
        "    )\n",
        "    vi_texts = tokenizer_en2vi.batch_decode(output_ids, skip_special_tokens=True)\n",
        "    return vi_texts\n",
        "\n",
        "# The input may consist of multiple text sequences, with the number of text sequences in the input ranging from 1 up to 8, 16, 32, or even higher, depending on the GPU memory.\n",
        "en_texts = [\"I haven't been to a public gym before.\",\n",
        "            \"When I exercise in a private space, I feel more comfortable.\",\n",
        "            \"i haven't been to a public gym before when i exercise in a private space i feel more comfortable\"]\n",
        "print(translate_en2vi(en_texts))"
      ]
    },
    {
      "cell_type": "code",
      "execution_count": null,
      "metadata": {
        "colab": {
          "base_uri": "https://localhost:8080/"
        },
        "id": "X-SKrcWzw8pb",
        "outputId": "9f818084-962d-44bb-b7d2-68de615f474a"
      },
      "outputs": [
        {
          "name": "stdout",
          "output_type": "stream",
          "text": [
            "Ví dụ với hàm translate_en2vi: ['food']\n"
          ]
        }
      ],
      "source": [
        "print(\"Ví dụ với hàm translate_en2vi:\", translate_vi2en(\"food\"))"
      ]
    },
    {
      "cell_type": "code",
      "execution_count": null,
      "metadata": {
        "colab": {
          "base_uri": "https://localhost:8080/"
        },
        "id": "oWtbFtgChggT",
        "outputId": "d2776517-77f5-491f-b211-aaa7fb48db39"
      },
      "outputs": [
        {
          "data": {
            "text/plain": [
              "['giá cả justifiable',\n",
              " 'không đeo nameplate',\n",
              " 'relative hotel cũ kĩ phòng view looking out at the sea cũng không trọn vẹn vì có 1 hành lang to bên ngoài khi 2 tòa nhà bên cạnh mà xây cao thì coi như ko nhìn thấy gì cả',\n",
              " 'việc tính giá thứ sáu bằng thứ bảy chủ nhật là bất hợp lý',\n",
              " 'tuy nhiên khách vào xông hơi thì không courteous chút nào']"
            ]
          },
          "execution_count": 11,
          "metadata": {},
          "output_type": "execute_result"
        }
      ],
      "source": [
        "import pickle\n",
        "from datasets import Dataset, DatasetDict\n",
        "sentences = []\n",
        "data.set_format(type = \"pandas\")\n",
        "train_df = data['train'][:]\n",
        "dev_df = data['dev'][:]\n",
        "dev_sentences = list(dev_df['text'])\n",
        "train_sentences = list(train_df['text'])\n",
        "data.reset_format()\n",
        "sentences += dev_sentences + train_sentences\n",
        "sentences[:5]"
      ]
    },
    {
      "cell_type": "code",
      "execution_count": null,
      "metadata": {
        "colab": {
          "base_uri": "https://localhost:8080/"
        },
        "id": "hqfQ_Yk9hggT",
        "outputId": "81713866-9bd7-40eb-85a3-f07c8b098a8c"
      },
      "outputs": [
        {
          "data": {
            "text/plain": [
              "DatasetDict({\n",
              "    train: Dataset({\n",
              "        features: ['text', 'label'],\n",
              "        num_rows: 700\n",
              "    })\n",
              "    dev: Dataset({\n",
              "        features: ['text', 'label'],\n",
              "        num_rows: 100\n",
              "    })\n",
              "    test: Dataset({\n",
              "        features: ['text', 'label'],\n",
              "        num_rows: 200\n",
              "    })\n",
              "})"
            ]
          },
          "execution_count": 12,
          "metadata": {},
          "output_type": "execute_result"
        }
      ],
      "source": [
        "data"
      ]
    },
    {
      "cell_type": "code",
      "execution_count": null,
      "metadata": {
        "id": "TEqFzjVPhggU"
      },
      "outputs": [],
      "source": [
        "# tách từ trước khi huấn luyện\n",
        "clean_sentences = []\n",
        "data_sentences = []\n",
        "for i in sentences:\n",
        "  clean = tien_xu_ly(i)\n",
        "  output =  vncore_nlp.annotate_text(clean)\n",
        "  try:\n",
        "    df = pd.DataFrame(output[0])\n",
        "    word_list = list(df['wordForm'])\n",
        "    #pos_list = list(df['posTag'])\n",
        "    clean_sentences.append(clean)\n",
        "    data_sentences.append(word_list)\n",
        "  except:\n",
        "    pass\n",
        "#data_sentences = [ViTokenizer.tokenize(i).split() for i in clean_sentences]\n"
      ]
    },
    {
      "cell_type": "code",
      "execution_count": null,
      "metadata": {
        "colab": {
          "base_uri": "https://localhost:8080/"
        },
        "id": "qe615gFlhggU",
        "outputId": "b717a3b6-6276-46ae-b442-ef03e1cc87fe"
      },
      "outputs": [
        {
          "name": "stdout",
          "output_type": "stream",
          "text": [
            "kích thước sentence 800\n",
            "kích thước clean_sentences 800\n",
            "kích thước data_sentences 800\n"
          ]
        }
      ],
      "source": [
        "print(\"kích thước sentence\", len(sentences))\n",
        "print(\"kích thước clean_sentences\", len(clean_sentences))\n",
        "print(\"kích thước data_sentences\", len(data_sentences))\n"
      ]
    },
    {
      "cell_type": "code",
      "execution_count": null,
      "metadata": {
        "id": "xE_z81eThggU"
      },
      "outputs": [],
      "source": [
        "import sklearn.datasets\n",
        "import re\n",
        "\n",
        "import nlpaug.augmenter.word as naw\n",
        "import nlpaug.model.word_stats as nmw\n",
        "\n",
        "# Train TF-IDF model\n",
        "#corpus = [\" \".join(i) for i in data_sentences]\n",
        "tfidf_model = nmw.TfIdf()\n",
        "tfidf_model.train(data_sentences)\n",
        "tfidf_model.save('/content/drive/MyDrive/NLP/Data augmentation/data/Code-mixed dataset with label/Mixed_TFIDF')"
      ]
    },
    {
      "cell_type": "markdown",
      "metadata": {
        "id": "-v2UCGrL864u"
      },
      "source": [
        "# Swap word randomly"
      ]
    },
    {
      "cell_type": "code",
      "execution_count": null,
      "metadata": {
        "colab": {
          "base_uri": "https://localhost:8080/"
        },
        "id": "MTSA-INy855e",
        "outputId": "0551912d-f89e-4cac-bc29-d05eba7cd922"
      },
      "outputs": [
        {
          "name": "stdout",
          "output_type": "stream",
          "text": [
            "Ví dụ hàm swap_aug: người ta có bạn_bè vui_vẻ nhìn\n"
          ]
        }
      ],
      "source": [
        "swap_aug = naw.RandomWordAug(action=\"swap\", aug_min = 1, aug_max=10, aug_p=0.3)\n",
        "print(\"Ví dụ hàm swap_aug:\", swap_aug.augment(\"người ta có bạn_bè nhìn vui_vẻ\"))\n"
      ]
    },
    {
      "cell_type": "code",
      "execution_count": null,
      "metadata": {
        "id": "d9FKvrbm3yJe"
      },
      "outputs": [],
      "source": [
        "data_aug_swap = data_train.copy()\n",
        "data_aug_swap['text'] = data_aug_swap['text'].apply(word_seg)\n",
        "data_aug_swap['text'] = data_aug_swap['text'].apply(swap_aug.augment)"
      ]
    },
    {
      "cell_type": "code",
      "execution_count": null,
      "metadata": {
        "colab": {
          "base_uri": "https://localhost:8080/"
        },
        "id": "EbOJdy3N4mLh",
        "outputId": "e6e9e0fc-921e-46a0-e2ca-83d9b4a00f7c"
      },
      "outputs": [
        {
          "name": "stdout",
          "output_type": "stream",
          "text": [
            "trang thiết bị mới buffet ngon giường hơi nhỏ nếu bạn có 2 bé\n",
            "mới trang_thiết_bị buffet giường ngon hơi nếu nhỏ bạn có 2 bé\n",
            "beautiful hotels and có phong cách\n",
            "Hotels beautiful and có phong_cách\n",
            "tôi và con gái được phục vụ những meals ngon tận phòng khi có nhu cầu đi bơi ở bể bơi spa gym chỉ với vài bước chân and felt incredibly. convenient when muốn ra biển tắm\n",
            "tôi và gái con được phục_vụ những meals ngon tận khi có phòng đi bơi nhu_cầu bể_bơi ở spa gym với vài chỉ bước chân and felt incredibly. convenient when ra muốn tắm biển\n"
          ]
        }
      ],
      "source": [
        "for i in range(0, 3):\n",
        "  print(data_train['text'][i])\n",
        "  print(data_aug_swap['text'][i])"
      ]
    },
    {
      "cell_type": "code",
      "execution_count": null,
      "metadata": {
        "id": "ChhVxMZ_6Hst"
      },
      "outputs": [],
      "source": [
        "import pandas as pd\n",
        "concat_swap = pd.concat([data_aug_swap, data_train]).sample(frac = 1, random_state = 42)\n",
        "concat_swap['text'] = concat_swap['text'].apply(lambda x: x.replace('_', \" \"))\n",
        "concat_swap = concat_swap.drop_duplicates()\n",
        "concat_swap['text'] = concat_swap['text'].apply(str.lower)\n",
        "swap_dict = {'text': list(concat_swap['text']), 'label': list(concat_swap['label'])}\n",
        "swap_dataset = Dataset.from_dict(swap_dict)\n",
        "data['aug_swap'] = swap_dataset"
      ]
    },
    {
      "cell_type": "code",
      "execution_count": null,
      "metadata": {
        "colab": {
          "base_uri": "https://localhost:8080/"
        },
        "id": "aGvyVrgY7NlY",
        "outputId": "7b3037b6-f6f6-45af-a203-b868dbcc4e16"
      },
      "outputs": [
        {
          "data": {
            "text/plain": [
              "DatasetDict({\n",
              "    train: Dataset({\n",
              "        features: ['text', 'label'],\n",
              "        num_rows: 700\n",
              "    })\n",
              "    dev: Dataset({\n",
              "        features: ['text', 'label'],\n",
              "        num_rows: 100\n",
              "    })\n",
              "    test: Dataset({\n",
              "        features: ['text', 'label'],\n",
              "        num_rows: 200\n",
              "    })\n",
              "    aug_swap: Dataset({\n",
              "        features: ['text', 'label'],\n",
              "        num_rows: 1384\n",
              "    })\n",
              "})"
            ]
          },
          "execution_count": 22,
          "metadata": {},
          "output_type": "execute_result"
        }
      ],
      "source": [
        "data"
      ]
    },
    {
      "cell_type": "markdown",
      "metadata": {
        "id": "D9T1poQhAPPg"
      },
      "source": [
        "# Delete random"
      ]
    },
    {
      "cell_type": "code",
      "execution_count": null,
      "metadata": {
        "colab": {
          "base_uri": "https://localhost:8080/"
        },
        "id": "utWaN2Ui8mhV",
        "outputId": "e62fd96f-618e-40c8-8701-e4fa756aa7f1"
      },
      "outputs": [
        {
          "name": "stdout",
          "output_type": "stream",
          "text": [
            "Ví dụ hàm delete_aug: người ta có bạn_bè thật vui_vẻ\n"
          ]
        }
      ],
      "source": [
        "delete_aug = naw.RandomWordAug(action = \"delete\", aug_min = 1, aug_max=10, aug_p = 0.3)\n",
        "print(\"Ví dụ hàm delete_aug:\",delete_aug.augment(\"nhìn người ta có bạn_bè thật là vui_vẻ\"))"
      ]
    },
    {
      "cell_type": "code",
      "execution_count": null,
      "metadata": {
        "colab": {
          "base_uri": "https://localhost:8080/",
          "height": 143
        },
        "id": "jsb-ofxw4P0k",
        "outputId": "73b8d397-3a9b-4d78-eafb-ef0a7ef8a8c9"
      },
      "outputs": [
        {
          "data": {
            "text/html": [
              "\n",
              "  <div id=\"df-18c375da-d1cc-40ed-adf3-f0c250f9d606\" class=\"colab-df-container\">\n",
              "    <div>\n",
              "<style scoped>\n",
              "    .dataframe tbody tr th:only-of-type {\n",
              "        vertical-align: middle;\n",
              "    }\n",
              "\n",
              "    .dataframe tbody tr th {\n",
              "        vertical-align: top;\n",
              "    }\n",
              "\n",
              "    .dataframe thead th {\n",
              "        text-align: right;\n",
              "    }\n",
              "</style>\n",
              "<table border=\"1\" class=\"dataframe\">\n",
              "  <thead>\n",
              "    <tr style=\"text-align: right;\">\n",
              "      <th></th>\n",
              "      <th>text</th>\n",
              "      <th>label</th>\n",
              "    </tr>\n",
              "  </thead>\n",
              "  <tbody>\n",
              "    <tr>\n",
              "      <th>0</th>\n",
              "      <td>trang_thiết_bị mới buffet giường hơi nhỏ bạn có 2</td>\n",
              "      <td>1</td>\n",
              "    </tr>\n",
              "    <tr>\n",
              "      <th>1</th>\n",
              "      <td>beautiful hotels có phong_cách</td>\n",
              "      <td>2</td>\n",
              "    </tr>\n",
              "    <tr>\n",
              "      <th>2</th>\n",
              "      <td>tôi con được phục_vụ meals ngon có nhu_cầu đi ...</td>\n",
              "      <td>2</td>\n",
              "    </tr>\n",
              "  </tbody>\n",
              "</table>\n",
              "</div>\n",
              "    <div class=\"colab-df-buttons\">\n",
              "\n",
              "  <div class=\"colab-df-container\">\n",
              "    <button class=\"colab-df-convert\" onclick=\"convertToInteractive('df-18c375da-d1cc-40ed-adf3-f0c250f9d606')\"\n",
              "            title=\"Convert this dataframe to an interactive table.\"\n",
              "            style=\"display:none;\">\n",
              "\n",
              "  <svg xmlns=\"http://www.w3.org/2000/svg\" height=\"24px\" viewBox=\"0 -960 960 960\">\n",
              "    <path d=\"M120-120v-720h720v720H120Zm60-500h600v-160H180v160Zm220 220h160v-160H400v160Zm0 220h160v-160H400v160ZM180-400h160v-160H180v160Zm440 0h160v-160H620v160ZM180-180h160v-160H180v160Zm440 0h160v-160H620v160Z\"/>\n",
              "  </svg>\n",
              "    </button>\n",
              "\n",
              "  <style>\n",
              "    .colab-df-container {\n",
              "      display:flex;\n",
              "      gap: 12px;\n",
              "    }\n",
              "\n",
              "    .colab-df-convert {\n",
              "      background-color: #E8F0FE;\n",
              "      border: none;\n",
              "      border-radius: 50%;\n",
              "      cursor: pointer;\n",
              "      display: none;\n",
              "      fill: #1967D2;\n",
              "      height: 32px;\n",
              "      padding: 0 0 0 0;\n",
              "      width: 32px;\n",
              "    }\n",
              "\n",
              "    .colab-df-convert:hover {\n",
              "      background-color: #E2EBFA;\n",
              "      box-shadow: 0px 1px 2px rgba(60, 64, 67, 0.3), 0px 1px 3px 1px rgba(60, 64, 67, 0.15);\n",
              "      fill: #174EA6;\n",
              "    }\n",
              "\n",
              "    .colab-df-buttons div {\n",
              "      margin-bottom: 4px;\n",
              "    }\n",
              "\n",
              "    [theme=dark] .colab-df-convert {\n",
              "      background-color: #3B4455;\n",
              "      fill: #D2E3FC;\n",
              "    }\n",
              "\n",
              "    [theme=dark] .colab-df-convert:hover {\n",
              "      background-color: #434B5C;\n",
              "      box-shadow: 0px 1px 3px 1px rgba(0, 0, 0, 0.15);\n",
              "      filter: drop-shadow(0px 1px 2px rgba(0, 0, 0, 0.3));\n",
              "      fill: #FFFFFF;\n",
              "    }\n",
              "  </style>\n",
              "\n",
              "    <script>\n",
              "      const buttonEl =\n",
              "        document.querySelector('#df-18c375da-d1cc-40ed-adf3-f0c250f9d606 button.colab-df-convert');\n",
              "      buttonEl.style.display =\n",
              "        google.colab.kernel.accessAllowed ? 'block' : 'none';\n",
              "\n",
              "      async function convertToInteractive(key) {\n",
              "        const element = document.querySelector('#df-18c375da-d1cc-40ed-adf3-f0c250f9d606');\n",
              "        const dataTable =\n",
              "          await google.colab.kernel.invokeFunction('convertToInteractive',\n",
              "                                                    [key], {});\n",
              "        if (!dataTable) return;\n",
              "\n",
              "        const docLinkHtml = 'Like what you see? Visit the ' +\n",
              "          '<a target=\"_blank\" href=https://colab.research.google.com/notebooks/data_table.ipynb>data table notebook</a>'\n",
              "          + ' to learn more about interactive tables.';\n",
              "        element.innerHTML = '';\n",
              "        dataTable['output_type'] = 'display_data';\n",
              "        await google.colab.output.renderOutput(dataTable, element);\n",
              "        const docLink = document.createElement('div');\n",
              "        docLink.innerHTML = docLinkHtml;\n",
              "        element.appendChild(docLink);\n",
              "      }\n",
              "    </script>\n",
              "  </div>\n",
              "\n",
              "    </div>\n",
              "  </div>\n"
            ],
            "text/plain": [
              "                                                text  label\n",
              "0  trang_thiết_bị mới buffet giường hơi nhỏ bạn có 2      1\n",
              "1                     beautiful hotels có phong_cách      2\n",
              "2  tôi con được phục_vụ meals ngon có nhu_cầu đi ...      2"
            ]
          },
          "execution_count": 24,
          "metadata": {},
          "output_type": "execute_result"
        }
      ],
      "source": [
        "data_aug_delete = data_train.copy()\n",
        "data_aug_delete['text'] = data_aug_delete['text'].apply(word_seg)\n",
        "data_aug_delete['text'] = data_aug_delete['text'].apply(delete_aug.augment)\n"
      ]
    },
    {
      "cell_type": "code",
      "execution_count": null,
      "metadata": {
        "colab": {
          "base_uri": "https://localhost:8080/"
        },
        "id": "MlH2TQTf1otN",
        "outputId": "9bb41fa1-3a6f-40e1-bcfd-c9160d16dbac"
      },
      "outputs": [
        {
          "name": "stdout",
          "output_type": "stream",
          "text": [
            "trang thiết bị mới buffet ngon giường hơi nhỏ nếu bạn có 2 bé\n",
            "trang_thiết_bị mới buffet giường hơi nhỏ bạn có 2\n",
            "beautiful hotels and có phong cách\n",
            "beautiful hotels có phong_cách\n",
            "tôi và con gái được phục vụ những meals ngon tận phòng khi có nhu cầu đi bơi ở bể bơi spa gym chỉ với vài bước chân and felt incredibly. convenient when muốn ra biển tắm\n",
            "tôi con được phục_vụ meals ngon có nhu_cầu đi bơi ở bể_bơi spa gym chỉ vài bước chân incredibly. convenient muốn ra biển tắm\n"
          ]
        }
      ],
      "source": [
        "for i in range(0, 3):\n",
        "  print(data_train['text'][i])\n",
        "  print(data_aug_delete['text'][i])"
      ]
    },
    {
      "cell_type": "code",
      "execution_count": null,
      "metadata": {
        "colab": {
          "base_uri": "https://localhost:8080/"
        },
        "id": "9Wm8xM8I8QHF",
        "outputId": "977c0f1a-3d1f-4d69-9c8a-b2289527dada"
      },
      "outputs": [
        {
          "data": {
            "text/plain": [
              "DatasetDict({\n",
              "    train: Dataset({\n",
              "        features: ['text', 'label'],\n",
              "        num_rows: 700\n",
              "    })\n",
              "    dev: Dataset({\n",
              "        features: ['text', 'label'],\n",
              "        num_rows: 100\n",
              "    })\n",
              "    test: Dataset({\n",
              "        features: ['text', 'label'],\n",
              "        num_rows: 200\n",
              "    })\n",
              "    aug_swap: Dataset({\n",
              "        features: ['text', 'label'],\n",
              "        num_rows: 1384\n",
              "    })\n",
              "    aug_delete: Dataset({\n",
              "        features: ['text', 'label'],\n",
              "        num_rows: 1398\n",
              "    })\n",
              "})"
            ]
          },
          "execution_count": 27,
          "metadata": {},
          "output_type": "execute_result"
        }
      ],
      "source": [
        "import pandas as pd\n",
        "concat_delete = pd.concat([data_aug_delete, data_train]).sample(frac = 1, random_state = 42)\n",
        "concat_delete['text'] = concat_delete['text'].apply(lambda x: x.replace('_', \" \"))\n",
        "concat_delete = concat_delete.drop_duplicates()\n",
        "concat_delete['text'] = concat_delete['text'].apply(str.lower)\n",
        "delete_dict = {'text': list(concat_delete['text']), 'label': list(concat_delete['label'])}\n",
        "delete_dataset = Dataset.from_dict(delete_dict)\n",
        "data['aug_delete'] = delete_dataset\n",
        "data"
      ]
    },
    {
      "cell_type": "markdown",
      "metadata": {
        "id": "t7fCaIbHPZc-"
      },
      "source": [
        "# Insert"
      ]
    },
    {
      "cell_type": "markdown",
      "metadata": {
        "id": "KMd6tRhukTnY"
      },
      "source": [
        "## Insert synonyms"
      ]
    },
    {
      "cell_type": "code",
      "execution_count": null,
      "metadata": {
        "colab": {
          "base_uri": "https://localhost:8080/"
        },
        "id": "5TtU7YhGdCyn",
        "outputId": "cd7df78d-7e00-4ea5-862d-9d55e9d404f5"
      },
      "outputs": [
        {
          "name": "stderr",
          "output_type": "stream",
          "text": [
            "[nltk_data] Downloading package wordnet to /root/nltk_data...\n",
            "[nltk_data]   Package wordnet is already up-to-date!\n"
          ]
        },
        {
          "name": "stdout",
          "output_type": "stream",
          "text": [
            "ví dụ hàm aug_insert:\n",
            "câu ban đầu:  Khi tập thể dục trong không gian riêng tư, tôi thoải mái dễ chịu hơn.\n",
            "câu mới: khi tập_thể_dục trong không_gian riêng_tư trong các khi nào tôi thoải_mái dễ_chịu hơn\n"
          ]
        }
      ],
      "source": [
        "import random\n",
        "from googletrans import Translator\n",
        "import nltk\n",
        "from nltk.corpus import wordnet\n",
        "from mtranslate import translate\n",
        "# Khởi tạo nltk (nếu chưa được khởi tạo trước đó)\n",
        "nltk.download('wordnet')\n",
        "\n",
        "# Khởi tạo Translator\n",
        "translator = Translator()\n",
        "\n",
        "def aug_insert(text):\n",
        "  output =  vncore_nlp.annotate_text(text)\n",
        "  df = pd.DataFrame(output[0])\n",
        "  word_list = list(df['wordForm'])\n",
        "  copy_wordlist = word_list.copy()\n",
        "  #pos_list = list(df['posTag'])\n",
        "  numbers = list(range(0, len(word_list)))\n",
        "  l_max = max(1,int(len(word_list)*0.3))\n",
        "  # Lặp để chọn ngẫu nhiên và xóa số vừa được chọn ra khỏi danh sách\n",
        "  l = 0\n",
        "  while numbers and l < l_max :\n",
        "      random_number = random.choice(numbers)\n",
        "      word = copy_wordlist[random_number].replace('_', ' ')\n",
        "      #print(\"word:\", word)\n",
        "      en_word = translate_vi2en(word)[0]\n",
        "      #en_word = translator.translate(word, src='vi', dest='en').text\n",
        "      synsets = wordnet.synsets(en_word)\n",
        "      if synsets:\n",
        "          first_synset = synsets[0]\n",
        "          en_word = first_synset.lemmas()[0].name()\n",
        "      vi_word = translate_en2vi(en_word)[0].lower()\n",
        "      #vi_word = translator.translate(word, src='en', dest='vi').text.lower()\n",
        "      vi_word = tien_xu_ly(vi_word)\n",
        "      if vi_word != word:\n",
        "        #print(vi_word, word)\n",
        "        idx = random.randint(0, len(word_list) -1)\n",
        "        word_list.insert(idx, vi_word)\n",
        "        text = \" \".join(word_list)\n",
        "        l += 1\n",
        "      numbers.remove(random_number)\n",
        "  return tien_xu_ly(text)\n",
        "print(\"ví dụ hàm aug_insert:\")\n",
        "print(\"câu ban đầu: \", \"Khi tập thể dục trong không gian riêng tư, tôi thoải mái dễ chịu hơn.\")\n",
        "print(\"câu mới:\", aug_insert(\"Khi tập thể dục trong không gian riêng tư, tôi thoải mái dễ chịu hơn.\"))"
      ]
    },
    {
      "cell_type": "code",
      "execution_count": null,
      "metadata": {
        "colab": {
          "base_uri": "https://localhost:8080/"
        },
        "id": "qupGVoPdmqt9",
        "outputId": "817b46e1-369e-4fa6-9b33-b28788605bb3"
      },
      "outputs": [
        {
          "name": "stdout",
          "output_type": "stream",
          "text": [
            "[INFOR] processing 0 0\n",
            "[INFOR] processing 50 0\n",
            "[INFOR] processing 100 0\n",
            "[INFOR] processing 150 0\n",
            "[INFOR] processing 200 0\n",
            "[INFOR] processing 250 0\n",
            "[INFOR] processing 300 0\n",
            "[INFOR] processing 350 0\n",
            "[INFOR] processing 400 0\n",
            "[INFOR] processing 450 0\n",
            "[INFOR] processing 500 0\n",
            "[INFOR] processing 550 0\n",
            "[INFOR] processing 600 0\n",
            "[INFOR] processing 650 0\n"
          ]
        }
      ],
      "source": [
        "data_aug_insert = data_train.copy()\n",
        "#data_aug_insert_vi['text'] = data_aug_insert_vi['text'].apply(aug_insert)\n",
        "l = 0\n",
        "for i in range(0, len(data_aug_insert['text'])):\n",
        "  text = data_aug_insert['text'][i]\n",
        "  try:\n",
        "    data_aug_insert.loc[i, 'text'] = aug_insert(text)\n",
        "  except:\n",
        "    l += 1\n",
        "    print(\"lỗi:\", i, l)\n",
        "    break\n",
        "  if i % 50 == 0:\n",
        "    print(\"[INFOR] processing\", i, l)"
      ]
    },
    {
      "cell_type": "code",
      "execution_count": null,
      "metadata": {
        "colab": {
          "base_uri": "https://localhost:8080/"
        },
        "id": "WmYdyeQlsQEe",
        "outputId": "544b948b-a347-4dda-d9cc-c184ebc0494c"
      },
      "outputs": [
        {
          "data": {
            "text/plain": [
              "DatasetDict({\n",
              "    train: Dataset({\n",
              "        features: ['text', 'label'],\n",
              "        num_rows: 700\n",
              "    })\n",
              "    dev: Dataset({\n",
              "        features: ['text', 'label'],\n",
              "        num_rows: 100\n",
              "    })\n",
              "    test: Dataset({\n",
              "        features: ['text', 'label'],\n",
              "        num_rows: 200\n",
              "    })\n",
              "    aug_swap: Dataset({\n",
              "        features: ['text', 'label'],\n",
              "        num_rows: 1366\n",
              "    })\n",
              "    aug_delete: Dataset({\n",
              "        features: ['text', 'label'],\n",
              "        num_rows: 1383\n",
              "    })\n",
              "    aug_insert_synonym: Dataset({\n",
              "        features: ['text', 'label'],\n",
              "        num_rows: 1387\n",
              "    })\n",
              "    aug_insert_w2v: Dataset({\n",
              "        features: ['text', 'label'],\n",
              "        num_rows: 1334\n",
              "    })\n",
              "    aug_insert_tfidf: Dataset({\n",
              "        features: ['text', 'label'],\n",
              "        num_rows: 1387\n",
              "    })\n",
              "    aug_insert_BERT: Dataset({\n",
              "        features: ['text', 'label'],\n",
              "        num_rows: 1387\n",
              "    })\n",
              "    aug_replace_synonym: Dataset({\n",
              "        features: ['text', 'label'],\n",
              "        num_rows: 1374\n",
              "    })\n",
              "    aug_replace_w2v: Dataset({\n",
              "        features: ['text', 'label'],\n",
              "        num_rows: 1334\n",
              "    })\n",
              "    aug_replace_tfidf: Dataset({\n",
              "        features: ['text', 'label'],\n",
              "        num_rows: 1387\n",
              "    })\n",
              "    aug_replace_BERT: Dataset({\n",
              "        features: ['text', 'label'],\n",
              "        num_rows: 1387\n",
              "    })\n",
              "    aug_backtranslation: Dataset({\n",
              "        features: ['text', 'label'],\n",
              "        num_rows: 1372\n",
              "    })\n",
              "})"
            ]
          },
          "execution_count": 29,
          "metadata": {},
          "output_type": "execute_result"
        }
      ],
      "source": [
        "import pandas as pd\n",
        "concat_insert = pd.concat([data_aug_insert, data_train]).sample(frac = 1, random_state = 42)\n",
        "concat_insert['text'] = concat_insert['text'].apply(lambda x: x.replace('_', \" \"))\n",
        "concat_insert = concat_insert.drop_duplicates()\n",
        "concat_insert['text'] = concat_insert['text'].apply(str.lower)\n",
        "insert_dict = {'text': list(concat_insert['text']), 'label': list(concat_insert['label'])}\n",
        "insert_dataset = Dataset.from_dict(insert_dict)\n",
        "data['aug_insert_synonym'] = insert_dataset\n",
        "import pickle\n",
        "with open('/content/drive/MyDrive/NLP/Data augmentation/data/Code-mixed dataset with label/'+ dataset_name, 'wb') as f:\n",
        "    pickle.dump(data, f)\n",
        "data"
      ]
    },
    {
      "cell_type": "code",
      "execution_count": null,
      "metadata": {
        "colab": {
          "base_uri": "https://localhost:8080/"
        },
        "id": "8chlrKcc5aXi",
        "outputId": "04f31b74-eca3-4b90-c2f2-9676ca70af51"
      },
      "outputs": [
        {
          "data": {
            "text/plain": [
              "['chúng tôi ở đây 2 đêm và hai rất hài lòng của các hài lòng về sự hài lòng đây đây về chúng tôi lựa chọn của mình',\n",
              " 'về nhà nghỉ ngơi tôi nghỉ ngơi khá chuyến đi hài lòng với chuyến du lịch cùng cả cũng vậy thôi nhà khi nghỉ tôi ở khách sạn chuyến đi này',\n",
              " 'thái độ phục vụ của các của nhân viên rất tuyệt tuyệt vời',\n",
              " 'chắc bản thân mình không không ko may không không gặp may',\n",
              " 'rất xa bố làm ơn ba làm ơn giúp đỡ rất xa có thể nói là khách sạn thái độ phục vụ của nhân viên khách sạn khách sạn kém khách sạn xa so với các khách sạn tư nhân khách sạn 3 4 giúp đỡ sao tại tp hồ chí minh']"
            ]
          },
          "execution_count": 33,
          "metadata": {},
          "output_type": "execute_result"
        }
      ],
      "source": [
        "data['aug_insert_synonym']['text'][:5]"
      ]
    },
    {
      "cell_type": "markdown",
      "metadata": {
        "id": "qJhBAVYwctws"
      },
      "source": [
        "## insert word2vec"
      ]
    },
    {
      "cell_type": "code",
      "execution_count": null,
      "metadata": {
        "colab": {
          "base_uri": "https://localhost:8080/"
        },
        "id": "2nbRzMeJfWJp",
        "outputId": "6a9e241a-7e61-4da2-beb6-8a6d08b7b661"
      },
      "outputs": [
        {
          "data": {
            "text/plain": [
              "[('nhà_hàng', 0.9023407697677612), ('ks', 0.8946298360824585)]"
            ]
          },
          "execution_count": 30,
          "metadata": {},
          "output_type": "execute_result"
        }
      ],
      "source": [
        "from gensim.models import Word2Vec\n",
        "model = Word2Vec.load(\"/content/drive/MyDrive/NLP/Data augmentation/data/Code-mixed dataset with label/vncore_word2vec_model.bin\")\n",
        "model.wv.most_similar(positive=['khách_sạn'], topn=2)"
      ]
    },
    {
      "cell_type": "code",
      "execution_count": null,
      "metadata": {
        "id": "vq43elzDfWJp"
      },
      "outputs": [],
      "source": [
        "from gensim.models import Word2Vec\n",
        "import random\n",
        "model = Word2Vec.load(\"/content/drive/MyDrive/NLP/Data augmentation/data/Code-mixed dataset with label/vncore_word2vec_model.bin\")\n",
        "\n",
        "def aug_insert_w2v(text):\n",
        "  output =  vncore_nlp.annotate_text(text)\n",
        "  df = pd.DataFrame(output[0])\n",
        "  word_list = list(df['wordForm'])\n",
        "  copy_word_list = word_list.copy()\n",
        "  pos_list = list(df['posTag'])\n",
        "  numbers = list(range(0, len(word_list)))\n",
        "  # Lặp để chọn ngẫu nhiên và xóa số vừa được chọn ra khỏi danh sách\n",
        "  l = 0\n",
        "  max_l = max(1,int(len(word_list)*0.3))\n",
        "  while numbers and l < max_l:\n",
        "      random_number = random.choice(numbers)\n",
        "      word = copy_word_list[random_number]\n",
        "      new_word = model.wv.most_similar(positive=[word], topn=1)[0][0]\n",
        "      #print(word, new_word)\n",
        "      new_random_number = random.randint(0, len(word_list) -1)\n",
        "      word_list.insert(new_random_number, new_word)\n",
        "      l += 1\n",
        "      numbers.remove(random_number)\n",
        "  text = \" \".join(word_list)\n",
        "  return tien_xu_ly(text.replace('_', ' '))"
      ]
    },
    {
      "cell_type": "code",
      "execution_count": null,
      "metadata": {
        "colab": {
          "base_uri": "https://localhost:8080/",
          "height": 36
        },
        "id": "ZTAmjNRefWJp",
        "outputId": "b767ad41-7c3f-4a12-cea9-86bd7abcd91c"
      },
      "outputs": [
        {
          "data": {
            "application/vnd.google.colaboratory.intrinsic+json": {
              "type": "string"
            },
            "text/plain": [
              "'tôi rất ã thích ở giá thành khách sạn chất lượng tuyệt vời'"
            ]
          },
          "execution_count": 49,
          "metadata": {},
          "output_type": "execute_result"
        }
      ],
      "source": [
        "aug_insert_w2v(\"tôi rất thích ở khách sạn chất lượng tuyệt vời\")"
      ]
    },
    {
      "cell_type": "code",
      "execution_count": null,
      "metadata": {
        "id": "QdhO--gFQCmX"
      },
      "outputs": [],
      "source": [
        "data_aug_insert_w2v = data_train.copy()"
      ]
    },
    {
      "cell_type": "code",
      "execution_count": null,
      "metadata": {
        "colab": {
          "base_uri": "https://localhost:8080/"
        },
        "id": "OhBSX9lFfWJq",
        "outputId": "42dee9bd-26bf-4f73-85be-75336b775b9c"
      },
      "outputs": [
        {
          "name": "stdout",
          "output_type": "stream",
          "text": [
            "[INFOR] processing 0 0\n",
            "Lỗi 10 1\n",
            "Lỗi 18 2\n",
            "Lỗi 41 3\n",
            "Lỗi 44 4\n",
            "[INFOR] processing 50 4\n",
            "Lỗi 64 5\n",
            "Lỗi 68 6\n",
            "Lỗi 85 7\n",
            "[INFOR] processing 100 7\n",
            "Lỗi 108 8\n",
            "Lỗi 118 9\n",
            "Lỗi 129 10\n",
            "[INFOR] processing 150 10\n",
            "Lỗi 158 11\n",
            "Lỗi 170 12\n",
            "Lỗi 180 13\n",
            "[INFOR] processing 200 13\n",
            "Lỗi 202 14\n",
            "Lỗi 231 15\n",
            "Lỗi 239 16\n",
            "Lỗi 241 17\n",
            "Lỗi 244 18\n",
            "[INFOR] processing 250 18\n",
            "Lỗi 256 19\n",
            "Lỗi 266 20\n",
            "Lỗi 276 21\n",
            "Lỗi 279 22\n",
            "[INFOR] processing 300 22\n",
            "Lỗi 310 23\n",
            "Lỗi 320 24\n",
            "Lỗi 322 25\n",
            "[INFOR] processing 350 25\n",
            "Lỗi 359 26\n",
            "Lỗi 362 27\n",
            "Lỗi 376 28\n",
            "Lỗi 390 29\n",
            "[INFOR] processing 400 29\n",
            "[INFOR] processing 450 29\n",
            "Lỗi 487 30\n",
            "[INFOR] processing 500 30\n",
            "Lỗi 541 31\n",
            "[INFOR] processing 550 31\n",
            "Lỗi 559 32\n",
            "[INFOR] processing 600 32\n",
            "Lỗi 603 33\n",
            "Lỗi 647 34\n",
            "[INFOR] processing 650 34\n",
            "Lỗi 687 35\n",
            "Lỗi 693 36\n"
          ]
        }
      ],
      "source": [
        "\n",
        "#data_aug_replace_vi['text'] = data_aug_replace_vi['text'].apply(aug_replace)\n",
        "l = 0\n",
        "for i in range(0, len(data_aug_insert_w2v['text'])):\n",
        "  text = data_aug_insert_w2v['text'][i]\n",
        "  try:\n",
        "    data_aug_insert_w2v.loc[i, 'text'] = aug_insert_w2v(text)\n",
        "  except:\n",
        "    l += 1\n",
        "    print(\"Lỗi\", i, l)\n",
        "  if i % 50 == 0:\n",
        "    print(\"[INFOR] processing\", i, l)"
      ]
    },
    {
      "cell_type": "code",
      "execution_count": null,
      "metadata": {
        "colab": {
          "base_uri": "https://localhost:8080/"
        },
        "id": "UFwohBqifWJq",
        "outputId": "bcd9fc53-a88d-4899-a02a-f2f5433deab4"
      },
      "outputs": [
        {
          "name": "stdout",
          "output_type": "stream",
          "text": [
            "sau 2 ngày đêm ở khách sạn khác chúng tôi quyết định chuyển đến khách sạn camellia thêm 3 ngày đêm nữa\n",
            "sau 2 ngày đêm ở 3 khách sạn khác chúng tôi quyết định nhà hàng chuyển đến nx khách sạn camellia nhau thêm 3 ngày đêm nữa\n",
            "khách sạn mới được nâng cấp nội thất mới phòng hơi chật và thấp thông gió chưa tốt nhân viên chu đáo vị trí gần sông hàn và khu trung tâm\n",
            "khách sạn tận tình mới được cao ms nâng cấp chớp nội thất mới shiper phòng hơi chật và thấp chiến thắng thông gió chưa tốt nhân viên tuy nhiên chu đáo vị trí gần sông hàn và khu trung tâm\n",
            "nhất là bữa cơm tất niên của gđ mình\n",
            "mlb nhất là báu vật bữa cơm tất niên của gđ mình\n",
            "thức ăn tươi ngon rẻ đặc biệt là hải sản tôm cua cá\n",
            "thức ăn tươi ngon tien rẻ đặc biệt là sườn hải sản tôm cua nấm cá\n",
            "trước khi đi mình mong muốn có một không gian lãng mạng và ấm cúng ở khách sạn này nhưng khi đến mình nhận ra ngay sai lầm\n",
            "ã trước khi vài đi mình như vậy miêu tả tuy nhiên mong muốn có một không gian lãng mạng và ấm cúng ở tui khách sạn này nhưng khi đến mình nhận ra ngay sai lầm\n"
          ]
        }
      ],
      "source": [
        "for i in range(0, 5):\n",
        "  print(data_train['text'][i])\n",
        "  print(data_aug_insert_w2v['text'][i])"
      ]
    },
    {
      "cell_type": "code",
      "execution_count": null,
      "metadata": {
        "id": "7cNYDltqfWJq"
      },
      "outputs": [],
      "source": [
        "#[INFOR] processing 100 0\n",
        "#[INFOR] processing 250 1\n",
        "#[INFOR] processing 800 8\n",
        "#[INFOR] processing 850 8\n",
        "#[INFOR] processing 1100\n",
        "# [INFOR] processing 2050\n",
        "# [INFOR] processing 2200 14"
      ]
    },
    {
      "cell_type": "code",
      "execution_count": null,
      "metadata": {
        "colab": {
          "base_uri": "https://localhost:8080/"
        },
        "id": "CkQQ5XqYfWJq",
        "outputId": "ad995ab6-62fe-4744-9fd0-630adce5bb2b"
      },
      "outputs": [
        {
          "data": {
            "text/plain": [
              "DatasetDict({\n",
              "    train: Dataset({\n",
              "        features: ['text', 'label'],\n",
              "        num_rows: 700\n",
              "    })\n",
              "    dev: Dataset({\n",
              "        features: ['text', 'label'],\n",
              "        num_rows: 100\n",
              "    })\n",
              "    test: Dataset({\n",
              "        features: ['text', 'label'],\n",
              "        num_rows: 200\n",
              "    })\n",
              "    aug_swap: Dataset({\n",
              "        features: ['text', 'label'],\n",
              "        num_rows: 1366\n",
              "    })\n",
              "    aug_delete: Dataset({\n",
              "        features: ['text', 'label'],\n",
              "        num_rows: 1383\n",
              "    })\n",
              "    aug_insert_synonym: Dataset({\n",
              "        features: ['text', 'label'],\n",
              "        num_rows: 1387\n",
              "    })\n",
              "    aug_insert_w2v: Dataset({\n",
              "        features: ['text', 'label'],\n",
              "        num_rows: 1351\n",
              "    })\n",
              "    aug_insert_tfidf: Dataset({\n",
              "        features: ['text', 'label'],\n",
              "        num_rows: 1387\n",
              "    })\n",
              "    aug_insert_BERT: Dataset({\n",
              "        features: ['text', 'label'],\n",
              "        num_rows: 1387\n",
              "    })\n",
              "    aug_replace_synonym: Dataset({\n",
              "        features: ['text', 'label'],\n",
              "        num_rows: 1374\n",
              "    })\n",
              "    aug_replace_w2v: Dataset({\n",
              "        features: ['text', 'label'],\n",
              "        num_rows: 1334\n",
              "    })\n",
              "    aug_replace_tfidf: Dataset({\n",
              "        features: ['text', 'label'],\n",
              "        num_rows: 1387\n",
              "    })\n",
              "    aug_replace_BERT: Dataset({\n",
              "        features: ['text', 'label'],\n",
              "        num_rows: 1387\n",
              "    })\n",
              "    aug_backtranslation: Dataset({\n",
              "        features: ['text', 'label'],\n",
              "        num_rows: 1372\n",
              "    })\n",
              "})"
            ]
          },
          "execution_count": 53,
          "metadata": {},
          "output_type": "execute_result"
        }
      ],
      "source": [
        "import pandas as pd\n",
        "concat_insert_w2v = pd.concat([data_aug_insert_w2v, data_train]).sample(frac = 1, random_state = 42)\n",
        "concat_insert_w2v['text'] = concat_insert_w2v['text'].apply(lambda x: x.replace('_', \" \"))\n",
        "concat_insert_w2v = concat_insert_w2v.drop_duplicates()\n",
        "concat_insert_w2v['text'] = concat_insert_w2v['text'].apply(str.lower)\n",
        "insert_w2v_dict = {'text': list(concat_insert_w2v['text']), 'label': list(concat_insert_w2v['label'])}\n",
        "insert_w2v_dataset = Dataset.from_dict(insert_w2v_dict)\n",
        "data['aug_insert_w2v'] = insert_w2v_dataset\n",
        "# replace_vi_dict = {'text': list(data_aug_replace_vi['text']), 'label': list(data_aug_replace_vi['label'])}\n",
        "# replace_vi_dataset = Dataset.from_dict(replace_vi_dict)\n",
        "# Mixed['aug_replace_vi_small'] = replace_vi_dataset\n",
        "import pickle\n",
        "with open('/content/drive/MyDrive/NLP/Data augmentation/data/Code-mixed dataset with label/'+dataset_name, 'wb') as f:\n",
        "    pickle.dump(data, f)\n",
        "data"
      ]
    },
    {
      "cell_type": "markdown",
      "metadata": {
        "id": "lDk4U3FoghCt"
      },
      "source": [
        "## insert TFIDF"
      ]
    },
    {
      "cell_type": "code",
      "execution_count": null,
      "metadata": {
        "id": "C6Et5tMIgkIq"
      },
      "outputs": [],
      "source": [
        "# Load TF-IDF augmenter\n",
        "aug_insert = naw.TfIdfAug(model_path='/content/drive/MyDrive/NLP/Data augmentation/data/Code-mixed dataset with label/', aug_p = 0.3, aug_min = 1, action=\"insert\")\n",
        "\n",
        "def aug_insert_tfidf(text):\n",
        "  clean = tien_xu_ly(text)\n",
        "  output =  vncore_nlp.annotate_text(clean)\n",
        "  try:\n",
        "    df = pd.DataFrame(output[0])\n",
        "    word_list = list(df['wordForm'])\n",
        "    text = \" \".join(word_list)\n",
        "    #print(text)\n",
        "    text = aug_insert.augment(text)\n",
        "    #print(text)\n",
        "  except:\n",
        "    pass\n",
        "  return text"
      ]
    },
    {
      "cell_type": "code",
      "execution_count": null,
      "metadata": {
        "colab": {
          "base_uri": "https://localhost:8080/"
        },
        "id": "CZnBLygBjF4a",
        "outputId": "7e952f4b-5bc0-4b01-ef78-1523c8072bf9"
      },
      "outputs": [
        {
          "name": "stdout",
          "output_type": "stream",
          "text": [
            "[INFOR] processing 0 0\n",
            "[INFOR] processing 50 0\n",
            "[INFOR] processing 100 0\n",
            "[INFOR] processing 150 0\n",
            "[INFOR] processing 200 0\n",
            "[INFOR] processing 250 0\n",
            "[INFOR] processing 300 0\n",
            "[INFOR] processing 350 0\n",
            "[INFOR] processing 400 0\n",
            "[INFOR] processing 450 0\n",
            "[INFOR] processing 500 0\n",
            "[INFOR] processing 550 0\n",
            "[INFOR] processing 600 0\n",
            "[INFOR] processing 650 0\n"
          ]
        }
      ],
      "source": [
        "data_aug_insert = data_train.copy()\n",
        "#data_aug_insert_vi['text'] = data_aug_insert_vi['text'].apply(aug_insert)\n",
        "l = 0\n",
        "for i in range(0, len(data_aug_insert['text'])):\n",
        "  text = data_aug_insert['text'][i]\n",
        "  try:\n",
        "    data_aug_insert.loc[i, 'text'] = aug_insert_tfidf(text)\n",
        "  except:\n",
        "    l += 1\n",
        "  if i % 50 == 0:\n",
        "    if l > 30:\n",
        "      print(\"Lỗi gọi hàm dịch\")\n",
        "      break\n",
        "    else:\n",
        "      print(\"[INFOR] processing\", i, l)\n",
        "      l = 0"
      ]
    },
    {
      "cell_type": "code",
      "execution_count": null,
      "metadata": {
        "colab": {
          "base_uri": "https://localhost:8080/",
          "height": 206
        },
        "id": "BQnLVGIfjctQ",
        "outputId": "917ff24a-3d48-46c0-9731-72a0074bf32a"
      },
      "outputs": [
        {
          "data": {
            "text/html": [
              "\n",
              "  <div id=\"df-a9e85198-812a-41a4-b147-7ff3de8f4d73\" class=\"colab-df-container\">\n",
              "    <div>\n",
              "<style scoped>\n",
              "    .dataframe tbody tr th:only-of-type {\n",
              "        vertical-align: middle;\n",
              "    }\n",
              "\n",
              "    .dataframe tbody tr th {\n",
              "        vertical-align: top;\n",
              "    }\n",
              "\n",
              "    .dataframe thead th {\n",
              "        text-align: right;\n",
              "    }\n",
              "</style>\n",
              "<table border=\"1\" class=\"dataframe\">\n",
              "  <thead>\n",
              "    <tr style=\"text-align: right;\">\n",
              "      <th></th>\n",
              "      <th>text</th>\n",
              "      <th>label</th>\n",
              "    </tr>\n",
              "  </thead>\n",
              "  <tbody>\n",
              "    <tr>\n",
              "      <th>0</th>\n",
              "      <td>sau 2 ngày_đêm ở hải_sản khách_sạn khác chúng_...</td>\n",
              "      <td>1</td>\n",
              "    </tr>\n",
              "    <tr>\n",
              "      <th>1</th>\n",
              "      <td>khách_sạn mới mãi được nâng_cấp 12 nội_thất mớ...</td>\n",
              "      <td>1</td>\n",
              "    </tr>\n",
              "    <tr>\n",
              "      <th>2</th>\n",
              "      <td>nhất_là xe bữa cơm tất_niên của thơ_mộng gđ mình</td>\n",
              "      <td>1</td>\n",
              "    </tr>\n",
              "    <tr>\n",
              "      <th>3</th>\n",
              "      <td>thức_ăn tươi ngon đảm_bảo rẻ còn đặc_biệt là h...</td>\n",
              "      <td>2</td>\n",
              "    </tr>\n",
              "    <tr>\n",
              "      <th>4</th>\n",
              "      <td>trước khi đi phải_chăng mình mong_muốn có một ...</td>\n",
              "      <td>0</td>\n",
              "    </tr>\n",
              "  </tbody>\n",
              "</table>\n",
              "</div>\n",
              "    <div class=\"colab-df-buttons\">\n",
              "\n",
              "  <div class=\"colab-df-container\">\n",
              "    <button class=\"colab-df-convert\" onclick=\"convertToInteractive('df-a9e85198-812a-41a4-b147-7ff3de8f4d73')\"\n",
              "            title=\"Convert this dataframe to an interactive table.\"\n",
              "            style=\"display:none;\">\n",
              "\n",
              "  <svg xmlns=\"http://www.w3.org/2000/svg\" height=\"24px\" viewBox=\"0 -960 960 960\">\n",
              "    <path d=\"M120-120v-720h720v720H120Zm60-500h600v-160H180v160Zm220 220h160v-160H400v160Zm0 220h160v-160H400v160ZM180-400h160v-160H180v160Zm440 0h160v-160H620v160ZM180-180h160v-160H180v160Zm440 0h160v-160H620v160Z\"/>\n",
              "  </svg>\n",
              "    </button>\n",
              "\n",
              "  <style>\n",
              "    .colab-df-container {\n",
              "      display:flex;\n",
              "      gap: 12px;\n",
              "    }\n",
              "\n",
              "    .colab-df-convert {\n",
              "      background-color: #E8F0FE;\n",
              "      border: none;\n",
              "      border-radius: 50%;\n",
              "      cursor: pointer;\n",
              "      display: none;\n",
              "      fill: #1967D2;\n",
              "      height: 32px;\n",
              "      padding: 0 0 0 0;\n",
              "      width: 32px;\n",
              "    }\n",
              "\n",
              "    .colab-df-convert:hover {\n",
              "      background-color: #E2EBFA;\n",
              "      box-shadow: 0px 1px 2px rgba(60, 64, 67, 0.3), 0px 1px 3px 1px rgba(60, 64, 67, 0.15);\n",
              "      fill: #174EA6;\n",
              "    }\n",
              "\n",
              "    .colab-df-buttons div {\n",
              "      margin-bottom: 4px;\n",
              "    }\n",
              "\n",
              "    [theme=dark] .colab-df-convert {\n",
              "      background-color: #3B4455;\n",
              "      fill: #D2E3FC;\n",
              "    }\n",
              "\n",
              "    [theme=dark] .colab-df-convert:hover {\n",
              "      background-color: #434B5C;\n",
              "      box-shadow: 0px 1px 3px 1px rgba(0, 0, 0, 0.15);\n",
              "      filter: drop-shadow(0px 1px 2px rgba(0, 0, 0, 0.3));\n",
              "      fill: #FFFFFF;\n",
              "    }\n",
              "  </style>\n",
              "\n",
              "    <script>\n",
              "      const buttonEl =\n",
              "        document.querySelector('#df-a9e85198-812a-41a4-b147-7ff3de8f4d73 button.colab-df-convert');\n",
              "      buttonEl.style.display =\n",
              "        google.colab.kernel.accessAllowed ? 'block' : 'none';\n",
              "\n",
              "      async function convertToInteractive(key) {\n",
              "        const element = document.querySelector('#df-a9e85198-812a-41a4-b147-7ff3de8f4d73');\n",
              "        const dataTable =\n",
              "          await google.colab.kernel.invokeFunction('convertToInteractive',\n",
              "                                                    [key], {});\n",
              "        if (!dataTable) return;\n",
              "\n",
              "        const docLinkHtml = 'Like what you see? Visit the ' +\n",
              "          '<a target=\"_blank\" href=https://colab.research.google.com/notebooks/data_table.ipynb>data table notebook</a>'\n",
              "          + ' to learn more about interactive tables.';\n",
              "        element.innerHTML = '';\n",
              "        dataTable['output_type'] = 'display_data';\n",
              "        await google.colab.output.renderOutput(dataTable, element);\n",
              "        const docLink = document.createElement('div');\n",
              "        docLink.innerHTML = docLinkHtml;\n",
              "        element.appendChild(docLink);\n",
              "      }\n",
              "    </script>\n",
              "  </div>\n",
              "\n",
              "\n",
              "<div id=\"df-098092e8-a155-465c-8855-3028ac4ee192\">\n",
              "  <button class=\"colab-df-quickchart\" onclick=\"quickchart('df-098092e8-a155-465c-8855-3028ac4ee192')\"\n",
              "            title=\"Suggest charts.\"\n",
              "            style=\"display:none;\">\n",
              "\n",
              "<svg xmlns=\"http://www.w3.org/2000/svg\" height=\"24px\"viewBox=\"0 0 24 24\"\n",
              "     width=\"24px\">\n",
              "    <g>\n",
              "        <path d=\"M19 3H5c-1.1 0-2 .9-2 2v14c0 1.1.9 2 2 2h14c1.1 0 2-.9 2-2V5c0-1.1-.9-2-2-2zM9 17H7v-7h2v7zm4 0h-2V7h2v10zm4 0h-2v-4h2v4z\"/>\n",
              "    </g>\n",
              "</svg>\n",
              "  </button>\n",
              "\n",
              "<style>\n",
              "  .colab-df-quickchart {\n",
              "    background-color: #E8F0FE;\n",
              "    border: none;\n",
              "    border-radius: 50%;\n",
              "    cursor: pointer;\n",
              "    display: none;\n",
              "    fill: #1967D2;\n",
              "    height: 32px;\n",
              "    padding: 0 0 0 0;\n",
              "    width: 32px;\n",
              "  }\n",
              "\n",
              "  .colab-df-quickchart:hover {\n",
              "    background-color: #E2EBFA;\n",
              "    box-shadow: 0px 1px 2px rgba(60, 64, 67, 0.3), 0px 1px 3px 1px rgba(60, 64, 67, 0.15);\n",
              "    fill: #174EA6;\n",
              "  }\n",
              "\n",
              "  [theme=dark] .colab-df-quickchart {\n",
              "    background-color: #3B4455;\n",
              "    fill: #D2E3FC;\n",
              "  }\n",
              "\n",
              "  [theme=dark] .colab-df-quickchart:hover {\n",
              "    background-color: #434B5C;\n",
              "    box-shadow: 0px 1px 3px 1px rgba(0, 0, 0, 0.15);\n",
              "    filter: drop-shadow(0px 1px 2px rgba(0, 0, 0, 0.3));\n",
              "    fill: #FFFFFF;\n",
              "  }\n",
              "</style>\n",
              "\n",
              "  <script>\n",
              "    async function quickchart(key) {\n",
              "      const charts = await google.colab.kernel.invokeFunction(\n",
              "          'suggestCharts', [key], {});\n",
              "    }\n",
              "    (() => {\n",
              "      let quickchartButtonEl =\n",
              "        document.querySelector('#df-098092e8-a155-465c-8855-3028ac4ee192 button');\n",
              "      quickchartButtonEl.style.display =\n",
              "        google.colab.kernel.accessAllowed ? 'block' : 'none';\n",
              "    })();\n",
              "  </script>\n",
              "</div>\n",
              "    </div>\n",
              "  </div>\n"
            ],
            "text/plain": [
              "                                                text  label\n",
              "0  sau 2 ngày_đêm ở hải_sản khách_sạn khác chúng_...      1\n",
              "1  khách_sạn mới mãi được nâng_cấp 12 nội_thất mớ...      1\n",
              "2   nhất_là xe bữa cơm tất_niên của thơ_mộng gđ mình      1\n",
              "3  thức_ăn tươi ngon đảm_bảo rẻ còn đặc_biệt là h...      2\n",
              "4  trước khi đi phải_chăng mình mong_muốn có một ...      0"
            ]
          },
          "execution_count": 57,
          "metadata": {},
          "output_type": "execute_result"
        }
      ],
      "source": [
        "data_aug_insert[:5]"
      ]
    },
    {
      "cell_type": "code",
      "execution_count": null,
      "metadata": {
        "colab": {
          "base_uri": "https://localhost:8080/"
        },
        "id": "4hSYtkCPjF4b",
        "outputId": "7f86def7-fb36-46b5-e476-25e9f205581f"
      },
      "outputs": [
        {
          "data": {
            "text/plain": [
              "DatasetDict({\n",
              "    train: Dataset({\n",
              "        features: ['text', 'label'],\n",
              "        num_rows: 700\n",
              "    })\n",
              "    dev: Dataset({\n",
              "        features: ['text', 'label'],\n",
              "        num_rows: 100\n",
              "    })\n",
              "    test: Dataset({\n",
              "        features: ['text', 'label'],\n",
              "        num_rows: 200\n",
              "    })\n",
              "    aug_swap: Dataset({\n",
              "        features: ['text', 'label'],\n",
              "        num_rows: 1366\n",
              "    })\n",
              "    aug_delete: Dataset({\n",
              "        features: ['text', 'label'],\n",
              "        num_rows: 1383\n",
              "    })\n",
              "    aug_insert_synonym: Dataset({\n",
              "        features: ['text', 'label'],\n",
              "        num_rows: 1387\n",
              "    })\n",
              "    aug_insert_w2v: Dataset({\n",
              "        features: ['text', 'label'],\n",
              "        num_rows: 1351\n",
              "    })\n",
              "    aug_insert_tfidf: Dataset({\n",
              "        features: ['text', 'label'],\n",
              "        num_rows: 1387\n",
              "    })\n",
              "    aug_insert_BERT: Dataset({\n",
              "        features: ['text', 'label'],\n",
              "        num_rows: 1387\n",
              "    })\n",
              "    aug_replace_synonym: Dataset({\n",
              "        features: ['text', 'label'],\n",
              "        num_rows: 1374\n",
              "    })\n",
              "    aug_replace_w2v: Dataset({\n",
              "        features: ['text', 'label'],\n",
              "        num_rows: 1334\n",
              "    })\n",
              "    aug_replace_tfidf: Dataset({\n",
              "        features: ['text', 'label'],\n",
              "        num_rows: 1387\n",
              "    })\n",
              "    aug_replace_BERT: Dataset({\n",
              "        features: ['text', 'label'],\n",
              "        num_rows: 1387\n",
              "    })\n",
              "    aug_backtranslation: Dataset({\n",
              "        features: ['text', 'label'],\n",
              "        num_rows: 1372\n",
              "    })\n",
              "})"
            ]
          },
          "execution_count": 58,
          "metadata": {},
          "output_type": "execute_result"
        }
      ],
      "source": [
        "import pandas as pd\n",
        "concat_insert = pd.concat([data_aug_insert, data_train]).sample(frac = 1, random_state = 42)\n",
        "concat_insert['text'] = concat_insert['text'].apply(lambda x: x.replace('_', \" \"))\n",
        "concat_insert = concat_insert.drop_duplicates()\n",
        "concat_insert['text'] = concat_insert['text'].apply(str.lower)\n",
        "insert_dict = {'text': list(concat_insert['text']), 'label': list(concat_insert['label'])}\n",
        "insert_dataset = Dataset.from_dict(insert_dict)\n",
        "data['aug_insert_tfidf'] = insert_dataset\n",
        "import pickle\n",
        "with open('/content/drive/MyDrive/NLP/Data augmentation/data/Code-mixed dataset with label/'+ dataset_name, 'wb') as f:\n",
        "    pickle.dump(data, f)\n",
        "data"
      ]
    },
    {
      "cell_type": "markdown",
      "metadata": {
        "id": "iOPkMnfgj1Rm"
      },
      "source": [
        "## insert BERT"
      ]
    },
    {
      "cell_type": "code",
      "execution_count": null,
      "metadata": {
        "colab": {
          "base_uri": "https://localhost:8080/",
          "height": 270,
          "referenced_widgets": [
            "cc52a75de72442c2a529b659d0debf9d",
            "c40429823fc84d199ad24146ab6e46bc",
            "625df141d2214f5683abb07f0bbc0c00",
            "16099c0a97b4471f957a2f3c4e971398",
            "aed9c440889b4ac283b40434f0d68a06",
            "a4683849fe5742d8b537bb9ef25c352a",
            "95bb197516aa4deaa8d895c46c17fd5b",
            "874f66397a8a49d18b190ba3ffcf939c",
            "ada26aee88e247ebb01d11e29151bf4c",
            "f6817af75eac43e2987075b323f36a2e",
            "6327219b26b84bac9edb8eb3e3e70c55",
            "16f4c428887b46799ee599a1483048c0",
            "6e642c4b84244d06913a3bea82ee1d4a",
            "c31b06416c3841149dfa0b8d6d0b956c",
            "952d648e26c146348ee43307c8fdcc5d",
            "e07fda3b6c4e46d78ace2b04a21d49a1",
            "54793d8614a34ce69be55e98fdf0d638",
            "efcda6fa41644cc9ac1a5ba04e07b0b3",
            "aae0da0e78d24113947872678f338120",
            "a282a0daabba43f1bc8d17cada844408",
            "bcd672a1adf544d4828c9deef2eefe76",
            "fbe4a4511aae4aec88d3312c3fffe8e9",
            "ddee008b52fa47c8aa2527661a708ec6",
            "d09d6d2da3bb4a189816f4fd2e74a76d",
            "fe7e605840ff41cab1030264f7ac1f64",
            "fea0e847a49c415b85ed6772b51d7fc1",
            "079164a3837b4a8e977ec3658cb8f39d",
            "257b56590f344073bee70416596a28f1",
            "cc61433135fd4276843936af104ec0bc",
            "faa74a32e2ea4d1dbfe4eff4ffcee7ae",
            "44ad3992ea18480499bde87aa54eb561",
            "4de3091d20ed49b08eeaff5ed40dc81b",
            "6024740a8cc4483eb26d259e1e9d929b",
            "8048f94ccb1048008b58f98762c12e86",
            "452d0165c33e4782889968c23bde980f",
            "981b535d5af0434eadcbe4714ef963b9",
            "8ce70fdf21ab4f508054cc8d3be5b2da",
            "7815b32534634349ab4181d05892cf49",
            "7fdfde4c25424d5badb816bf433d5272",
            "8f909eaf03e2402d832f521bff317f54",
            "ccdd2f4945094a2097cd33b1909ba524",
            "fdba5956e010404f8bdb999f1067b122",
            "c67cdf85b5cf4feeb4488ba5a1b2d9b3",
            "698f6bf9289643d79606f0879f9c349a",
            "0b8f82177d8b406c9a2e463f07c1fb2d",
            "494321a78c09418088b60f674b08ce7a",
            "40d5523fc4054183aa5ffc64bb8cb47c",
            "941a29f0f4574cddb66a3522e28c3882",
            "d582fb7c18684921acf0dd3606857b7e",
            "3338d859d3cd40df85ff7a4ec5a5f0da",
            "0dea983dd55d487daaa771e580dd4934",
            "1e068afc612044d3859e119b5c53e2bd",
            "a5b91ad68cbc41efb2f8ebd46fb6018b",
            "385be8639cd144ea8459f183423d5a54",
            "fc126a727b0744afbb6fd210c31472ff"
          ]
        },
        "id": "AFgrGLrJkANa",
        "outputId": "16178b3c-69f6-4770-aea0-ca2f7d562379"
      },
      "outputs": [
        {
          "data": {
            "application/vnd.jupyter.widget-view+json": {
              "model_id": "cc52a75de72442c2a529b659d0debf9d",
              "version_major": 2,
              "version_minor": 0
            },
            "text/plain": [
              "Downloading (…)solve/main/vocab.txt:   0%|          | 0.00/232k [00:00<?, ?B/s]"
            ]
          },
          "metadata": {},
          "output_type": "display_data"
        },
        {
          "data": {
            "application/vnd.jupyter.widget-view+json": {
              "model_id": "16f4c428887b46799ee599a1483048c0",
              "version_major": 2,
              "version_minor": 0
            },
            "text/plain": [
              "Downloading (…)okenizer_config.json:   0%|          | 0.00/28.0 [00:00<?, ?B/s]"
            ]
          },
          "metadata": {},
          "output_type": "display_data"
        },
        {
          "data": {
            "application/vnd.jupyter.widget-view+json": {
              "model_id": "ddee008b52fa47c8aa2527661a708ec6",
              "version_major": 2,
              "version_minor": 0
            },
            "text/plain": [
              "Downloading (…)lve/main/config.json:   0%|          | 0.00/570 [00:00<?, ?B/s]"
            ]
          },
          "metadata": {},
          "output_type": "display_data"
        },
        {
          "data": {
            "application/vnd.jupyter.widget-view+json": {
              "model_id": "8048f94ccb1048008b58f98762c12e86",
              "version_major": 2,
              "version_minor": 0
            },
            "text/plain": [
              "Downloading model.safetensors:   0%|          | 0.00/440M [00:00<?, ?B/s]"
            ]
          },
          "metadata": {},
          "output_type": "display_data"
        },
        {
          "name": "stderr",
          "output_type": "stream",
          "text": [
            "Some weights of the model checkpoint at bert-base-uncased were not used when initializing BertForMaskedLM: ['cls.seq_relationship.bias', 'bert.pooler.dense.weight', 'bert.pooler.dense.bias', 'cls.seq_relationship.weight']\n",
            "- This IS expected if you are initializing BertForMaskedLM from the checkpoint of a model trained on another task or with another architecture (e.g. initializing a BertForSequenceClassification model from a BertForPreTraining model).\n",
            "- This IS NOT expected if you are initializing BertForMaskedLM from the checkpoint of a model that you expect to be exactly identical (initializing a BertForSequenceClassification model from a BertForSequenceClassification model).\n"
          ]
        },
        {
          "data": {
            "application/vnd.jupyter.widget-view+json": {
              "model_id": "0b8f82177d8b406c9a2e463f07c1fb2d",
              "version_major": 2,
              "version_minor": 0
            },
            "text/plain": [
              "Downloading (…)/main/tokenizer.json:   0%|          | 0.00/466k [00:00<?, ?B/s]"
            ]
          },
          "metadata": {},
          "output_type": "display_data"
        },
        {
          "name": "stdout",
          "output_type": "stream",
          "text": [
            "Ví dụ với hàm aug_insert_BERT: khách sạn rất đẹp phong cảnh quyến rũ với nhân viên quầy bar nhiệt tình vui vẻ\n"
          ]
        }
      ],
      "source": [
        "import nlpaug.augmenter.word as naw\n",
        "from transformers import BertTokenizer, BertForMaskedLM, MarianTokenizer, MarianMTModel\n",
        "import torch\n",
        "\n",
        "# Chuẩn bị mô hình BERT và tokenizer cho tiếng Anh\n",
        "bert_model_name = \"bert-base-uncased\"\n",
        "bert_tokenizer = BertTokenizer.from_pretrained(bert_model_name)\n",
        "bert_model = BertForMaskedLM.from_pretrained(bert_model_name)\n",
        "\n",
        "# Tạo đối tượng ContextualWordEmbsAug với BERT tiếng Anh\n",
        "aug_insert = naw.ContextualWordEmbsAug(\n",
        "    model_path=bert_model_name, action=\"insert\", aug_min=1, aug_p=0.3\n",
        ")\n",
        "# Câu ban đầu tiếng Việt\n",
        "def aug_insert_BERT(text):\n",
        "  # Dịch sang tiếng Anh\n",
        "  en_sentence = translate_vi2en(text)[0]\n",
        "\n",
        "  # Tạo các câu tăng cường từ câu tiếng Anh đã dịch\n",
        "  aug_sentence_en = aug_insert.augment(en_sentence, n=1)\n",
        "\n",
        "  # Dịch các câu tăng cường tiếng Anh sang tiếng Việt\n",
        "  vi_sentence = translate_en2vi(aug_sentence_en)[0]\n",
        "\n",
        "  return tien_xu_ly(vi_sentence)\n",
        "\n",
        "print(\"Ví dụ với hàm aug_insert_BERT:\", aug_insert_BERT(\"khách sạn đẹp phong cảnh hữu tình nhân viên nhiệt tình vui vẻ\"))"
      ]
    },
    {
      "cell_type": "code",
      "execution_count": null,
      "metadata": {
        "colab": {
          "base_uri": "https://localhost:8080/"
        },
        "id": "KUPKW1Z5kANb",
        "outputId": "fd6642d3-221c-4ed1-aecc-fc7cbd9204ea"
      },
      "outputs": [
        {
          "name": "stdout",
          "output_type": "stream",
          "text": [
            "INFOR processing 0\n",
            "INFOR processing 19\n",
            "INFOR processing 39\n",
            "INFOR processing 59\n",
            "INFOR processing 79\n",
            "INFOR processing 99\n",
            "INFOR processing 119\n",
            "INFOR processing 139\n",
            "INFOR processing 159\n",
            "INFOR processing 179\n",
            "INFOR processing 199\n",
            "INFOR processing 219\n",
            "INFOR processing 239\n",
            "INFOR processing 259\n",
            "INFOR processing 279\n",
            "INFOR processing 299\n",
            "INFOR processing 319\n",
            "INFOR processing 339\n",
            "INFOR processing 359\n",
            "INFOR processing 379\n",
            "INFOR processing 399\n",
            "INFOR processing 419\n",
            "INFOR processing 439\n",
            "INFOR processing 459\n",
            "INFOR processing 479\n",
            "INFOR processing 499\n",
            "INFOR processing 519\n",
            "INFOR processing 539\n",
            "INFOR processing 559\n",
            "INFOR processing 579\n",
            "INFOR processing 599\n",
            "INFOR processing 619\n",
            "INFOR processing 639\n",
            "INFOR processing 659\n",
            "INFOR processing 679\n",
            "INFOR processing 699\n"
          ]
        }
      ],
      "source": [
        "data_aug_insert= data_train.copy()\n",
        "count = 0\n",
        "for i in range(0,len(data_aug_insert)):\n",
        "  text = data_aug_insert.iloc[i]['text']\n",
        "  try:\n",
        "    data_aug_insert.loc[i,'text'] = aug_insert_BERT(text)\n",
        "  except:\n",
        "    count +=1\n",
        "    print(\"Lỗi\", i, count)\n",
        "    break\n",
        "  if (i+1) % 20 == 0 or i == 0:\n",
        "    print(\"INFOR processing\", i)"
      ]
    },
    {
      "cell_type": "code",
      "execution_count": null,
      "metadata": {
        "colab": {
          "base_uri": "https://localhost:8080/"
        },
        "id": "i4VH-Tx6mdcu",
        "outputId": "ef4c977e-9afc-49ec-ebb8-568d7b00435d"
      },
      "outputs": [
        {
          "name": "stdout",
          "output_type": "stream",
          "text": [
            "ngay sau hai hai ngày đêm tại một khách sạn khác chúng tôi chính thức quyết định chuyển đến khách sạn camellia cove thêm ba ngày và mười bốn đêm nữa\n",
            "sau 2 ngày đêm ở khách sạn khác chúng tôi quyết định chuyển đến khách sạn camellia thêm 3 ngày đêm nữa\n",
            "nhưng khách sạn mới đã được nâng cấp nội thất mới nhiệt độ phòng nói chung hơi chật và thấp thông gió kém nhân viên chu đáo vị trí trung tâm gần thác sông hàn lớn và trung tâm quận\n",
            "khách sạn mới được nâng cấp nội thất mới phòng hơi chật và thấp thông gió chưa tốt nhân viên chu đáo vị trí gần sông hàn và khu trung tâm\n",
            "có lẽ đặc biệt là tại bữa tối chào mừng hàng năm của ông chủ chúng tôi\n",
            "nhất là bữa cơm tất niên của gđ mình\n"
          ]
        }
      ],
      "source": [
        "for i in range(3):\n",
        "  print(data_aug_insert['text'][i])\n",
        "  print(data_train['text'][i])"
      ]
    },
    {
      "cell_type": "code",
      "execution_count": null,
      "metadata": {
        "colab": {
          "base_uri": "https://localhost:8080/"
        },
        "id": "ciQID6FjkANb",
        "outputId": "fca65b31-b80c-47d0-9915-7a401fd7fe5d"
      },
      "outputs": [
        {
          "data": {
            "text/plain": [
              "DatasetDict({\n",
              "    train: Dataset({\n",
              "        features: ['text', 'label'],\n",
              "        num_rows: 700\n",
              "    })\n",
              "    dev: Dataset({\n",
              "        features: ['text', 'label'],\n",
              "        num_rows: 100\n",
              "    })\n",
              "    test: Dataset({\n",
              "        features: ['text', 'label'],\n",
              "        num_rows: 200\n",
              "    })\n",
              "    aug_swap: Dataset({\n",
              "        features: ['text', 'label'],\n",
              "        num_rows: 1366\n",
              "    })\n",
              "    aug_delete: Dataset({\n",
              "        features: ['text', 'label'],\n",
              "        num_rows: 1383\n",
              "    })\n",
              "    aug_insert_synonym: Dataset({\n",
              "        features: ['text', 'label'],\n",
              "        num_rows: 1387\n",
              "    })\n",
              "    aug_insert_w2v: Dataset({\n",
              "        features: ['text', 'label'],\n",
              "        num_rows: 1351\n",
              "    })\n",
              "    aug_insert_tfidf: Dataset({\n",
              "        features: ['text', 'label'],\n",
              "        num_rows: 1387\n",
              "    })\n",
              "    aug_insert_BERT: Dataset({\n",
              "        features: ['text', 'label'],\n",
              "        num_rows: 1387\n",
              "    })\n",
              "    aug_replace_synonym: Dataset({\n",
              "        features: ['text', 'label'],\n",
              "        num_rows: 1374\n",
              "    })\n",
              "    aug_replace_w2v: Dataset({\n",
              "        features: ['text', 'label'],\n",
              "        num_rows: 1334\n",
              "    })\n",
              "    aug_replace_tfidf: Dataset({\n",
              "        features: ['text', 'label'],\n",
              "        num_rows: 1387\n",
              "    })\n",
              "    aug_replace_BERT: Dataset({\n",
              "        features: ['text', 'label'],\n",
              "        num_rows: 1387\n",
              "    })\n",
              "    aug_backtranslation: Dataset({\n",
              "        features: ['text', 'label'],\n",
              "        num_rows: 1372\n",
              "    })\n",
              "})"
            ]
          },
          "execution_count": 64,
          "metadata": {},
          "output_type": "execute_result"
        }
      ],
      "source": [
        "import pandas as pd\n",
        "concat_insert = pd.concat([data_aug_insert, data_train]).sample(frac = 1, random_state = 42)\n",
        "concat_insert['text'] = concat_insert['text'].apply(lambda x: x.replace('_', \" \"))\n",
        "concat_insert = concat_insert.drop_duplicates()\n",
        "concat_insert['text'] = concat_insert['text'].apply(str.lower)\n",
        "insert_dict = {'text': list(concat_insert['text']), 'label': list(concat_insert['label'])}\n",
        "insert_dataset = Dataset.from_dict(insert_dict)\n",
        "data['aug_insert_BERT'] = insert_dataset\n",
        "import pickle\n",
        "with open('/content/drive/MyDrive/NLP/Data augmentation/data/Code-mixed dataset with label/'+ dataset_name, 'wb') as f:\n",
        "    pickle.dump(data, f)\n",
        "data"
      ]
    },
    {
      "cell_type": "markdown",
      "metadata": {
        "id": "TKTT0PpkAysX"
      },
      "source": [
        "# Replace"
      ]
    },
    {
      "cell_type": "code",
      "execution_count": null,
      "metadata": {
        "colab": {
          "base_uri": "https://localhost:8080/"
        },
        "id": "QFZqK8S5FsHE",
        "outputId": "100e4088-7637-4529-c178-4c2d97350d2b"
      },
      "outputs": [
        {
          "name": "stderr",
          "output_type": "stream",
          "text": [
            "[nltk_data] Downloading package wordnet to /root/nltk_data...\n",
            "[nltk_data]   Package wordnet is already up-to-date!\n"
          ]
        }
      ],
      "source": [
        "import random\n",
        "from googletrans import Translator\n",
        "import nltk\n",
        "from nltk.corpus import wordnet\n",
        "from mtranslate import translate\n",
        "# Khởi tạo nltk (nếu chưa được khởi tạo trước đó)\n",
        "nltk.download('wordnet')\n",
        "\n",
        "# Khởi tạo Translator\n",
        "translator = Translator()"
      ]
    },
    {
      "cell_type": "code",
      "execution_count": null,
      "metadata": {
        "id": "ACTSg_zDwpTZ"
      },
      "outputs": [],
      "source": [
        "data_aug_replace = data_train.copy()"
      ]
    },
    {
      "cell_type": "code",
      "execution_count": null,
      "metadata": {
        "colab": {
          "base_uri": "https://localhost:8080/"
        },
        "id": "ebnoaN-9BHFy",
        "outputId": "c6168238-3e67-41d9-d451-9cc07ed64375"
      },
      "outputs": [
        {
          "name": "stdout",
          "output_type": "stream",
          "text": [
            "Test hàm aug_replace synonym: nhân_viên ở lại đây rất nhiệt_tình\n",
            "Hàm replace synomym\n",
            "[INFOR] processing 0\n",
            "[INFOR] processing 20\n",
            "[INFOR] processing 40\n",
            "[INFOR] processing 60\n",
            "[INFOR] processing 80\n",
            "[INFOR] processing 100\n",
            "[INFOR] processing 120\n",
            "[INFOR] processing 140\n",
            "[INFOR] processing 160\n",
            "[INFOR] processing 180\n",
            "[INFOR] processing 200\n",
            "[INFOR] processing 220\n",
            "[INFOR] processing 240\n",
            "[INFOR] processing 260\n",
            "[INFOR] processing 280\n",
            "[INFOR] processing 300\n",
            "[INFOR] processing 320\n",
            "[INFOR] processing 340\n",
            "[INFOR] processing 360\n",
            "[INFOR] processing 380\n",
            "[INFOR] processing 400\n",
            "[INFOR] processing 420\n",
            "[INFOR] processing 440\n",
            "[INFOR] processing 460\n",
            "[INFOR] processing 480\n",
            "[INFOR] processing 500\n",
            "[INFOR] processing 520\n",
            "[INFOR] processing 540\n",
            "[INFOR] processing 560\n",
            "[INFOR] processing 580\n",
            "[INFOR] processing 600\n",
            "[INFOR] processing 620\n",
            "[INFOR] processing 640\n",
            "[INFOR] processing 660\n",
            "[INFOR] processing 680\n"
          ]
        }
      ],
      "source": [
        "def aug_replace(text):\n",
        "  output =  vncore_nlp.annotate_text(text)\n",
        "  df = pd.DataFrame(output[0])\n",
        "  word_list = list(df['wordForm'])\n",
        "  pos_list = list(df['posTag'])\n",
        "  numbers = list(range(0, len(word_list)))\n",
        "  l = 0\n",
        "  max_l = int(len(numbers)*0.5)\n",
        "  # Lặp để chọn ngẫu nhiên và xóa số vừa được chọn ra khỏi danh sách\n",
        "  while numbers and l < max_l:\n",
        "      random_number = random.choice(numbers)\n",
        "      word = word_list[random_number].replace('_', ' ')\n",
        "      #print(l, word)\n",
        "      en_word = translate_vi2en(word)[0].lower()\n",
        "      #print(l, en_word)\n",
        "      synsets = wordnet.synsets(en_word)\n",
        "      if synsets:\n",
        "          first_synset = synsets[0]\n",
        "          en_word = first_synset.lemmas()[0].name().replace(\"_\", \" \")\n",
        "      #vi_word = translate(en_word, \"vi\")\n",
        "      vi_word = translate_en2vi(en_word)[0].lower()\n",
        "      #print(l, vi_word)\n",
        "      if vi_word != word:\n",
        "        word_list[random_number] = vi_word\n",
        "        l += 1\n",
        "      numbers.remove(random_number)\n",
        "  text = \" \".join(word_list)\n",
        "  return tien_xu_ly(text)\n",
        "print(\"Test hàm aug_replace synonym:\", aug_replace(\"nhân viên ở đây rất nhiệt tình\") )\n",
        "\n",
        "print(\"Hàm replace synomym\")\n",
        "for i in range(0, len(data_aug_replace['text'])):\n",
        "  text = data_aug_replace['text'][i]\n",
        "  try:\n",
        "    data_aug_replace.loc[i, 'text'] = aug_replace(text)\n",
        "  except:\n",
        "    print(\"Lỗi gọi hàm:\", i)\n",
        "    break\n",
        "  if i % 20 == 0:\n",
        "    print(\"[INFOR] processing\", i)\n"
      ]
    },
    {
      "cell_type": "code",
      "execution_count": null,
      "metadata": {
        "id": "WPeGilYi5rWe"
      },
      "outputs": [],
      "source": [
        "test = data_aug_replace.copy()"
      ]
    },
    {
      "cell_type": "code",
      "execution_count": null,
      "metadata": {
        "id": "H9jyAlD65WvQ"
      },
      "outputs": [],
      "source": [
        "for i in range(0, len(data_aug_replace['text'])):\n",
        "  text = data_aug_replace['text'][i].replace(\"_\", \" \")\n",
        "  word_list = text.split()\n",
        "  if \"đ\" in word_list:\n",
        "    word_list.remove(\"đ\")\n",
        "\n",
        "  data_aug_replace.loc[i, 'text'] = \" \".join(word_list)"
      ]
    },
    {
      "cell_type": "code",
      "execution_count": null,
      "metadata": {
        "colab": {
          "base_uri": "https://localhost:8080/"
        },
        "id": "D2_IEg0KxHsw",
        "outputId": "c8f6a8fa-677b-49f5-c748-480adf9663f9"
      },
      "outputs": [
        {
          "name": "stdout",
          "output_type": "stream",
          "text": [
            "sau 2 ngày đêm ở khách sạn khác chúng tôi quyết định chuyển đến khách sạn camellia thêm 3 ngày đêm nữa\n",
            "mông 2 ngày đêm ở lại lại khách phòng khách sạn cái con người khác chúng tôi quyết định chuyển khoản đến đây đây đây khách phòng khách sạn hoa trà thêm ba làm ơn ngày và đêm ồ rất nhiều nhiều hơn\n",
            "khách sạn mới được nâng cấp nội thất mới phòng hơi chật và thấp thông gió chưa tốt nhân viên chu đáo vị trí gần sông hàn và khu trung tâm\n",
            "khách phòng khách sạn mới vâng được rồi lên cao nội bộ thất mới phòng phòng suite hơi nước chặt chẽ và thấp mạng lưới gió chưa đâu đâu tốt số nhân con sóc hãy hãy chu đáo địa điểm tổ chức điểm dừng lại sông hàn và khu vực trung tâm\n",
            "nhất là bữa cơm tất niên của gđ mình\n",
            "nhất nó là bữa ăn ăn đi gạo tất niên của gđ đúng thế\n",
            "thức ăn tươi ngon rẻ đặc biệt là hải sản tôm cua cá\n",
            "cửa hàng tạp hóa tươi tuyệt vời giá rẻ mạnh mẽ khác biệt nó là bắt đầu cung cấp thuỷ sản tôm cua cá\n",
            "trước khi đi mình mong muốn có một không gian lãng mạng và ấm cúng ở khách sạn này nhưng khi đến mình nhận ra ngay sai lầm\n",
            "trước đó khi nào thôi nào anh bạn đi đúng vậy thì tôi hy vọng thế muốn vâng đúng vậy vậy thì một không con sóc ôi con yêu sóc mạng lưới và ấm cúng ở một lần nữa khách sạn này nhưng khi nào đến đây đúng thế nhận ra ngay lập tức sai lầm\n"
          ]
        }
      ],
      "source": [
        "for i in range(5):\n",
        "  print(data_train['text'][i])\n",
        "  print(data_aug_replace['text'][i])"
      ]
    },
    {
      "cell_type": "code",
      "execution_count": null,
      "metadata": {
        "colab": {
          "base_uri": "https://localhost:8080/"
        },
        "id": "uEQSQb-CRFtU",
        "outputId": "c15b99e2-5111-4904-b587-f3503b695394"
      },
      "outputs": [
        {
          "data": {
            "text/plain": [
              "DatasetDict({\n",
              "    train: Dataset({\n",
              "        features: ['text', 'label'],\n",
              "        num_rows: 700\n",
              "    })\n",
              "    dev: Dataset({\n",
              "        features: ['text', 'label'],\n",
              "        num_rows: 100\n",
              "    })\n",
              "    test: Dataset({\n",
              "        features: ['text', 'label'],\n",
              "        num_rows: 200\n",
              "    })\n",
              "    aug_swap: Dataset({\n",
              "        features: ['text', 'label'],\n",
              "        num_rows: 1369\n",
              "    })\n",
              "    aug_delete: Dataset({\n",
              "        features: ['text', 'label'],\n",
              "        num_rows: 1381\n",
              "    })\n",
              "    aug_replace: Dataset({\n",
              "        features: ['text', 'label'],\n",
              "        num_rows: 1274\n",
              "    })\n",
              "    aug_replace_w2v: Dataset({\n",
              "        features: ['text', 'label'],\n",
              "        num_rows: 1345\n",
              "    })\n",
              "    aug_insert_w2v: Dataset({\n",
              "        features: ['text', 'label'],\n",
              "        num_rows: 1334\n",
              "    })\n",
              "    aug_replace_tfidf: Dataset({\n",
              "        features: ['text', 'label'],\n",
              "        num_rows: 1387\n",
              "    })\n",
              "    aug_replace_BERT: Dataset({\n",
              "        features: ['text', 'label'],\n",
              "        num_rows: 1387\n",
              "    })\n",
              "    aug_backtranslation: Dataset({\n",
              "        features: ['text', 'label'],\n",
              "        num_rows: 1366\n",
              "    })\n",
              "    aug_insert_synonym: Dataset({\n",
              "        features: ['text', 'label'],\n",
              "        num_rows: 1366\n",
              "    })\n",
              "    aug_insert_tfidf: Dataset({\n",
              "        features: ['text', 'label'],\n",
              "        num_rows: 1387\n",
              "    })\n",
              "    aug_insert_BERT: Dataset({\n",
              "        features: ['text', 'label'],\n",
              "        num_rows: 1387\n",
              "    })\n",
              "    aug_replace_synonym: Dataset({\n",
              "        features: ['text', 'label'],\n",
              "        num_rows: 1374\n",
              "    })\n",
              "})"
            ]
          },
          "execution_count": 123,
          "metadata": {},
          "output_type": "execute_result"
        }
      ],
      "source": [
        "import pandas as pd\n",
        "concat_replace = pd.concat([data_aug_replace, data_train]).sample(frac = 1, random_state = 42)\n",
        "concat_replace['text'] = concat_replace['text'].apply(lambda x: x.replace('_', \" \"))\n",
        "concat_replace = concat_replace.drop_duplicates()\n",
        "concat_replace['text'] = concat_replace['text'].apply(str.lower)\n",
        "replace_dict = {'text': list(concat_replace['text']), 'label': list(concat_replace['label'])}\n",
        "replace_dataset = Dataset.from_dict(replace_dict)\n",
        "data['aug_replace_synonym'] = replace_dataset\n",
        "import pickle\n",
        "\n",
        "with open('/content/drive/MyDrive/NLP/Data augmentation/data/Code-mixed dataset with label/'+dataset_name, 'wb') as f:\n",
        "    pickle.dump(data, f)\n",
        "data"
      ]
    },
    {
      "cell_type": "markdown",
      "metadata": {
        "id": "fTgf6BH3yUJ9"
      },
      "source": [
        "## replace Word2vec"
      ]
    },
    {
      "cell_type": "code",
      "execution_count": null,
      "metadata": {
        "id": "gEKIAdTAz4jm"
      },
      "outputs": [],
      "source": [
        "data_aug_replace = data_train.copy()"
      ]
    },
    {
      "cell_type": "code",
      "execution_count": null,
      "metadata": {
        "colab": {
          "base_uri": "https://localhost:8080/"
        },
        "id": "M8WOcrGAyevK",
        "outputId": "bf682dfa-31a5-474f-b01d-6d2c9a211562"
      },
      "outputs": [
        {
          "name": "stdout",
          "output_type": "stream",
          "text": [
            "test hàm aug_replace word2vec khách_sạn như_vậy cực_kì đẹp\n",
            "Hàm aug replace synonym\n",
            "Lỗi gọi hàm: 0 1\n",
            "[INFOR] processing 0\n",
            "Lỗi gọi hàm: 10 2\n",
            "Lỗi gọi hàm: 18 3\n",
            "[INFOR] processing 20\n",
            "[INFOR] processing 40\n",
            "Lỗi gọi hàm: 44 4\n",
            "[INFOR] processing 60\n",
            "Lỗi gọi hàm: 68 5\n",
            "[INFOR] processing 80\n",
            "Lỗi gọi hàm: 84 6\n",
            "Lỗi gọi hàm: 88 7\n",
            "[INFOR] processing 100\n",
            "Lỗi gọi hàm: 117 8\n",
            "Lỗi gọi hàm: 118 9\n",
            "[INFOR] processing 120\n",
            "Lỗi gọi hàm: 124 10\n",
            "Lỗi gọi hàm: 128 11\n",
            "Lỗi gọi hàm: 129 12\n",
            "Lỗi gọi hàm: 140 13\n",
            "[INFOR] processing 140\n",
            "Lỗi gọi hàm: 158 14\n",
            "[INFOR] processing 160\n",
            "Lỗi gọi hàm: 170 15\n",
            "Lỗi gọi hàm: 180 16\n",
            "[INFOR] processing 180\n",
            "[INFOR] processing 200\n",
            "Lỗi gọi hàm: 202 17\n",
            "[INFOR] processing 220\n",
            "Lỗi gọi hàm: 231 18\n",
            "Lỗi gọi hàm: 239 19\n",
            "[INFOR] processing 240\n",
            "Lỗi gọi hàm: 241 20\n",
            "Lỗi gọi hàm: 244 21\n",
            "Lỗi gọi hàm: 256 22\n",
            "[INFOR] processing 260\n",
            "Lỗi gọi hàm: 262 23\n",
            "Lỗi gọi hàm: 276 24\n",
            "[INFOR] processing 280\n",
            "[INFOR] processing 300\n",
            "Lỗi gọi hàm: 320 25\n",
            "[INFOR] processing 320\n",
            "Lỗi gọi hàm: 322 26\n",
            "Lỗi gọi hàm: 329 27\n",
            "Lỗi gọi hàm: 331 28\n",
            "[INFOR] processing 340\n",
            "Lỗi gọi hàm: 359 29\n",
            "[INFOR] processing 360\n",
            "Lỗi gọi hàm: 362 30\n",
            "Lỗi gọi hàm: 369 31\n",
            "Lỗi gọi hàm: 377 32\n",
            "[INFOR] processing 380\n",
            "[INFOR] processing 400\n",
            "Lỗi gọi hàm: 401 33\n",
            "[INFOR] processing 420\n",
            "Lỗi gọi hàm: 434 34\n",
            "Lỗi gọi hàm: 437 35\n",
            "[INFOR] processing 440\n",
            "Lỗi gọi hàm: 443 36\n",
            "Lỗi gọi hàm: 453 37\n",
            "[INFOR] processing 460\n",
            "[INFOR] processing 480\n",
            "Lỗi gọi hàm: 486 38\n",
            "Lỗi gọi hàm: 487 39\n",
            "[INFOR] processing 500\n",
            "Lỗi gọi hàm: 504 40\n",
            "Lỗi gọi hàm: 508 41\n",
            "Lỗi gọi hàm: 518 42\n",
            "Lỗi gọi hàm: 520 43\n",
            "[INFOR] processing 520\n",
            "Lỗi gọi hàm: 523 44\n",
            "Lỗi gọi hàm: 536 45\n",
            "[INFOR] processing 540\n",
            "Lỗi gọi hàm: 550 46\n",
            "Lỗi gọi hàm: 559 47\n",
            "[INFOR] processing 560\n",
            "[INFOR] processing 580\n",
            "[INFOR] processing 600\n",
            "[INFOR] processing 620\n",
            "[INFOR] processing 640\n",
            "[INFOR] processing 660\n",
            "Lỗi gọi hàm: 664 48\n",
            "[INFOR] processing 680\n",
            "Lỗi gọi hàm: 687 49\n"
          ]
        }
      ],
      "source": [
        "from gensim.models import Word2Vec\n",
        "import random\n",
        "model = Word2Vec.load(\"/content/drive/MyDrive/NLP/Data augmentation/data/Code-mixed dataset with label/vncore_word2vec_model.bin\")\n",
        "\n",
        "def aug_replace(text):\n",
        "  output =  vncore_nlp.annotate_text(text)\n",
        "  df = pd.DataFrame(output[0])\n",
        "  word_list = list(df['wordForm'])\n",
        "  numbers = list(range(0, len(word_list)))\n",
        "  l = 0\n",
        "  max_l = int(len(numbers)*0.5)\n",
        "  # Lặp để chọn ngẫu nhiên và xóa số vừa được chọn ra khỏi danh sách\n",
        "  while numbers and l < max_l:\n",
        "      random_number = random.choice(numbers)\n",
        "      word = word_list[random_number]\n",
        "      new_word = model.wv.most_similar(positive=[word], topn=1)[0][0]\n",
        "      #print(word, new_word)\n",
        "      word_list[random_number] = new_word\n",
        "      l += 1\n",
        "  text = \" \".join(word_list)\n",
        "  return tien_xu_ly(text)\n",
        "\n",
        "print(\"test hàm aug_replace word2vec\", aug_replace(\"khách sạn này rất đẹp\"))\n",
        "print(\"Hàm aug replace word2vec\")\n",
        "count = 0\n",
        "for i in range(0, len(data_aug_replace['text'])):\n",
        "  text = data_aug_replace['text'][i]\n",
        "  try:\n",
        "    data_aug_replace.loc[i, 'text'] = aug_replace(text)\n",
        "  except:\n",
        "    count +=1\n",
        "    print(\"Lỗi gọi hàm:\", i, count)\n",
        "  if i % 20 == 0:\n",
        "    print(\"[INFOR] processing\", i)"
      ]
    },
    {
      "cell_type": "code",
      "execution_count": null,
      "metadata": {
        "colab": {
          "base_uri": "https://localhost:8080/"
        },
        "id": "ghyF2pqB0E-J",
        "outputId": "99db3016-7126-4a0d-fcc2-61c153c6734a"
      },
      "outputs": [
        {
          "name": "stdout",
          "output_type": "stream",
          "text": [
            "sau 2 ngày đêm ở khách sạn khác chúng tôi quyết định chuyển đến khách sạn camellia thêm 3 ngày đêm nữa\n",
            "sau 2 ngày đêm ở khách sạn khác chúng tôi quyết định chuyển đến khách sạn camellia thêm 3 ngày đêm nữa\n",
            "khách sạn mới được nâng cấp nội thất mới phòng hơi chật và thấp thông gió chưa tốt nhân viên chu đáo vị trí gần sông hàn và khu trung tâm\n",
            "khách_sạn ms được cập nội_thất mới phòng hơi thúi và thấp chiến_thắng gió chưa_thể tốt nhân_viên chu_đáo vị_trí 12 bờ hàn và vị_trí trung_tâm\n",
            "nhất là bữa cơm tất niên của gđ mình\n",
            "mlb hồi cơm lứa của gđ mình\n"
          ]
        }
      ],
      "source": [
        "for i in range(3):\n",
        "  print(data_train['text'][i])\n",
        "  print(data_aug_replace['text'][i])"
      ]
    },
    {
      "cell_type": "code",
      "execution_count": null,
      "metadata": {
        "colab": {
          "base_uri": "https://localhost:8080/"
        },
        "id": "EuGrZHI30J2t",
        "outputId": "b616c468-5528-4ed8-cc21-e84fbc25640f"
      },
      "outputs": [
        {
          "data": {
            "text/plain": [
              "DatasetDict({\n",
              "    train: Dataset({\n",
              "        features: ['text', 'label'],\n",
              "        num_rows: 700\n",
              "    })\n",
              "    dev: Dataset({\n",
              "        features: ['text', 'label'],\n",
              "        num_rows: 100\n",
              "    })\n",
              "    test: Dataset({\n",
              "        features: ['text', 'label'],\n",
              "        num_rows: 200\n",
              "    })\n",
              "    aug_swap: Dataset({\n",
              "        features: ['text', 'label'],\n",
              "        num_rows: 1369\n",
              "    })\n",
              "    aug_delete: Dataset({\n",
              "        features: ['text', 'label'],\n",
              "        num_rows: 1381\n",
              "    })\n",
              "    aug_replace: Dataset({\n",
              "        features: ['text', 'label'],\n",
              "        num_rows: 1274\n",
              "    })\n",
              "    aug_replace_w2v: Dataset({\n",
              "        features: ['text', 'label'],\n",
              "        num_rows: 1334\n",
              "    })\n",
              "    aug_insert_w2v: Dataset({\n",
              "        features: ['text', 'label'],\n",
              "        num_rows: 1334\n",
              "    })\n",
              "    aug_replace_tfidf: Dataset({\n",
              "        features: ['text', 'label'],\n",
              "        num_rows: 1387\n",
              "    })\n",
              "    aug_replace_BERT: Dataset({\n",
              "        features: ['text', 'label'],\n",
              "        num_rows: 1387\n",
              "    })\n",
              "    aug_backtranslation: Dataset({\n",
              "        features: ['text', 'label'],\n",
              "        num_rows: 1366\n",
              "    })\n",
              "    aug_insert_synonym: Dataset({\n",
              "        features: ['text', 'label'],\n",
              "        num_rows: 1366\n",
              "    })\n",
              "    aug_insert_tfidf: Dataset({\n",
              "        features: ['text', 'label'],\n",
              "        num_rows: 1387\n",
              "    })\n",
              "    aug_insert_BERT: Dataset({\n",
              "        features: ['text', 'label'],\n",
              "        num_rows: 1387\n",
              "    })\n",
              "    aug_replace_synonym: Dataset({\n",
              "        features: ['text', 'label'],\n",
              "        num_rows: 1374\n",
              "    })\n",
              "})"
            ]
          },
          "execution_count": 129,
          "metadata": {},
          "output_type": "execute_result"
        }
      ],
      "source": [
        "import pandas as pd\n",
        "concat_replace = pd.concat([data_aug_replace, data_train]).sample(frac = 1, random_state = 42)\n",
        "concat_replace['text'] = concat_replace['text'].apply(lambda x: x.replace('_', \" \"))\n",
        "concat_replace = concat_replace.drop_duplicates()\n",
        "concat_replace['text'] = concat_replace['text'].apply(str.lower)\n",
        "replace_dict = {'text': list(concat_replace['text']), 'label': list(concat_replace['label'])}\n",
        "replace_dataset = Dataset.from_dict(replace_dict)\n",
        "data['aug_replace_w2v'] = replace_dataset\n",
        "import pickle\n",
        "\n",
        "with open('/content/drive/MyDrive/NLP/Data augmentation/data/Code-mixed dataset with label/'+dataset_name, 'wb') as f:\n",
        "    pickle.dump(data, f)\n",
        "data"
      ]
    },
    {
      "cell_type": "markdown",
      "metadata": {
        "id": "g0K5zfWp2g_i"
      },
      "source": [
        "## replace TFIDF"
      ]
    },
    {
      "cell_type": "code",
      "execution_count": null,
      "metadata": {
        "id": "O3DIGDfs8XWn"
      },
      "outputs": [],
      "source": [
        "data_aug_replace = data_train.copy()"
      ]
    },
    {
      "cell_type": "code",
      "execution_count": null,
      "metadata": {
        "colab": {
          "base_uri": "https://localhost:8080/"
        },
        "id": "C2FSZtZ02kxC",
        "outputId": "7585ee36-288f-482d-802f-e75e7154a279"
      },
      "outputs": [
        {
          "name": "stdout",
          "output_type": "stream",
          "text": [
            "Test hàm aug_replace TFIDF: nước ở đây rất điểm_tâm\n",
            "Hàm replace TFIDF\n",
            "[INFOR] processing 0\n",
            "[INFOR] processing 20\n",
            "[INFOR] processing 40\n",
            "[INFOR] processing 60\n",
            "[INFOR] processing 80\n",
            "[INFOR] processing 100\n",
            "[INFOR] processing 120\n",
            "[INFOR] processing 140\n",
            "[INFOR] processing 160\n",
            "[INFOR] processing 180\n",
            "[INFOR] processing 200\n",
            "[INFOR] processing 220\n",
            "[INFOR] processing 240\n",
            "[INFOR] processing 260\n",
            "[INFOR] processing 280\n",
            "[INFOR] processing 300\n",
            "[INFOR] processing 320\n",
            "[INFOR] processing 340\n",
            "[INFOR] processing 360\n",
            "[INFOR] processing 380\n",
            "[INFOR] processing 400\n",
            "[INFOR] processing 420\n",
            "[INFOR] processing 440\n",
            "[INFOR] processing 460\n",
            "[INFOR] processing 480\n",
            "[INFOR] processing 500\n",
            "[INFOR] processing 520\n",
            "[INFOR] processing 540\n",
            "[INFOR] processing 560\n",
            "[INFOR] processing 580\n",
            "[INFOR] processing 600\n",
            "[INFOR] processing 620\n",
            "[INFOR] processing 640\n",
            "[INFOR] processing 660\n",
            "[INFOR] processing 680\n"
          ]
        }
      ],
      "source": [
        "# Load TF-IDF augmenter\n",
        "nlp_replace = naw.TfIdfAug(model_path='/content/drive/MyDrive/NLP/Data augmentation/data/Code-mixed dataset with label/', aug_p = 0.5, aug_min = 1, action=\"substitute\")\n",
        "\n",
        "def aug_replace(text):\n",
        "  clean = tien_xu_ly(text)\n",
        "  output =  vncore_nlp.annotate_text(clean)\n",
        "  df = pd.DataFrame(output[0])\n",
        "  word_list = list(df['wordForm'])\n",
        "  text = \" \".join(word_list)\n",
        "  text = nlp_replace.augment(text)\n",
        "  return text\n",
        "print(\"Test hàm aug_replace TFIDF:\", aug_replace(\"nhân viên ở đây rất nhiệt tình\") )\n",
        "\n",
        "print(\"Hàm replace TFIDF\")\n",
        "for i in range(0, len(data_aug_replace['text'])):\n",
        "  text = data_aug_replace['text'][i]\n",
        "  try:\n",
        "    data_aug_replace.loc[i, 'text'] = aug_replace(text)\n",
        "  except:\n",
        "    print(\"Lỗi gọi hàm:\", i)\n",
        "    break\n",
        "  if i % 20 == 0:\n",
        "    print(\"[INFOR] processing\", i)"
      ]
    },
    {
      "cell_type": "code",
      "execution_count": null,
      "metadata": {
        "colab": {
          "base_uri": "https://localhost:8080/"
        },
        "id": "zulbLl-H8HVf",
        "outputId": "b420c19e-2f23-461f-92fa-81c3f7c34c11"
      },
      "outputs": [
        {
          "name": "stdout",
          "output_type": "stream",
          "text": [
            "sau 2 ngày đêm ở khách sạn khác chúng tôi quyết định chuyển đến khách sạn camellia thêm 3 ngày đêm nữa\n",
            "sau chú_thích cách tránh xuân khác chúng_tôi quyết_định trò đến khách_sạn bé thêm lót ngày_đêm sữa\n",
            "khách sạn mới được nâng cấp nội thất mới phòng hơi chật và thấp thông gió chưa tốt nhân viên chu đáo vị trí gần sông hàn và khu trung tâm\n",
            "khách_sạn vướng được nhà_cung_cấp nội_thất nệp phòng hơi chật cảnh thấp quý_vị gió ocean mõi nhân_viên chu_đáo tương_tự gần sông hàn và phía đến_nỗi\n",
            "nhất là bữa cơm tất niên của gđ mình\n",
            "nhất_là thiêu_thân cơm tất_niên ngọc_lan gđ gái\n"
          ]
        }
      ],
      "source": [
        "for i in range(3):\n",
        "  print(data_train['text'][i])\n",
        "  print(data_aug_replace['text'][i])"
      ]
    },
    {
      "cell_type": "code",
      "execution_count": null,
      "metadata": {
        "colab": {
          "base_uri": "https://localhost:8080/"
        },
        "id": "NtOk-c1X99Or",
        "outputId": "932f2644-ba62-44ea-dc61-a571b9ec1111"
      },
      "outputs": [
        {
          "data": {
            "text/plain": [
              "DatasetDict({\n",
              "    train: Dataset({\n",
              "        features: ['text', 'label'],\n",
              "        num_rows: 700\n",
              "    })\n",
              "    dev: Dataset({\n",
              "        features: ['text', 'label'],\n",
              "        num_rows: 100\n",
              "    })\n",
              "    test: Dataset({\n",
              "        features: ['text', 'label'],\n",
              "        num_rows: 200\n",
              "    })\n",
              "    aug_swap: Dataset({\n",
              "        features: ['text', 'label'],\n",
              "        num_rows: 1366\n",
              "    })\n",
              "    aug_delete: Dataset({\n",
              "        features: ['text', 'label'],\n",
              "        num_rows: 1383\n",
              "    })\n",
              "    aug_insert_synonym: Dataset({\n",
              "        features: ['text', 'label'],\n",
              "        num_rows: 1387\n",
              "    })\n",
              "    aug_insert_w2v: Dataset({\n",
              "        features: ['text', 'label'],\n",
              "        num_rows: 1351\n",
              "    })\n",
              "    aug_insert_tfidf: Dataset({\n",
              "        features: ['text', 'label'],\n",
              "        num_rows: 1387\n",
              "    })\n",
              "    aug_insert_BERT: Dataset({\n",
              "        features: ['text', 'label'],\n",
              "        num_rows: 1387\n",
              "    })\n",
              "    aug_replace_synonym: Dataset({\n",
              "        features: ['text', 'label'],\n",
              "        num_rows: 1374\n",
              "    })\n",
              "    aug_replace_w2v: Dataset({\n",
              "        features: ['text', 'label'],\n",
              "        num_rows: 1334\n",
              "    })\n",
              "    aug_replace_tfidf: Dataset({\n",
              "        features: ['text', 'label'],\n",
              "        num_rows: 1387\n",
              "    })\n",
              "    aug_replace_BERT: Dataset({\n",
              "        features: ['text', 'label'],\n",
              "        num_rows: 1387\n",
              "    })\n",
              "    aug_backtranslation: Dataset({\n",
              "        features: ['text', 'label'],\n",
              "        num_rows: 1372\n",
              "    })\n",
              "})"
            ]
          },
          "execution_count": 69,
          "metadata": {},
          "output_type": "execute_result"
        }
      ],
      "source": [
        "import pandas as pd\n",
        "concat_replace = pd.concat([data_aug_replace, data_train]).sample(frac = 1, random_state = 42)\n",
        "concat_replace['text'] = concat_replace['text'].apply(lambda x: x.replace('_', \" \"))\n",
        "concat_replace = concat_replace.drop_duplicates()\n",
        "concat_replace['text'] = concat_replace['text'].apply(str.lower)\n",
        "replace_dict = {'text': list(concat_replace['text']), 'label': list(concat_replace['label'])}\n",
        "replace_dataset = Dataset.from_dict(replace_dict)\n",
        "data['aug_replace_tfidf'] = replace_dataset\n",
        "import pickle\n",
        "\n",
        "with open('/content/drive/MyDrive/NLP/Data augmentation/data/Code-mixed dataset with label/'+dataset_name, 'wb') as f:\n",
        "    pickle.dump(data, f)\n",
        "data"
      ]
    },
    {
      "cell_type": "markdown",
      "metadata": {
        "id": "ADzqzUwn-Sdo"
      },
      "source": [
        "## replace BERT"
      ]
    },
    {
      "cell_type": "code",
      "execution_count": null,
      "metadata": {
        "id": "7jEtstuu_7zS"
      },
      "outputs": [],
      "source": [
        "data_aug_replace = data_train.copy()"
      ]
    },
    {
      "cell_type": "code",
      "execution_count": null,
      "metadata": {
        "colab": {
          "base_uri": "https://localhost:8080/"
        },
        "id": "kzZ0u4ej-U9D",
        "outputId": "116f2058-9a32-407e-9d46-7dee459a2747"
      },
      "outputs": [
        {
          "name": "stdout",
          "output_type": "stream",
          "text": [
            "Test hàm aug_replace BERT: thằng bé có vẻ vô cùng hào hứng\n",
            "Hàm replace BERT\n",
            "[INFOR] processing 0\n",
            "[INFOR] processing 20\n",
            "[INFOR] processing 40\n",
            "[INFOR] processing 60\n",
            "[INFOR] processing 80\n",
            "[INFOR] processing 100\n",
            "[INFOR] processing 120\n",
            "[INFOR] processing 140\n",
            "[INFOR] processing 160\n",
            "[INFOR] processing 180\n",
            "[INFOR] processing 200\n",
            "[INFOR] processing 220\n",
            "[INFOR] processing 240\n",
            "[INFOR] processing 260\n",
            "[INFOR] processing 280\n",
            "[INFOR] processing 300\n",
            "[INFOR] processing 320\n",
            "[INFOR] processing 340\n",
            "[INFOR] processing 360\n",
            "[INFOR] processing 380\n",
            "[INFOR] processing 400\n",
            "[INFOR] processing 420\n",
            "[INFOR] processing 440\n",
            "[INFOR] processing 460\n",
            "[INFOR] processing 480\n",
            "[INFOR] processing 500\n",
            "[INFOR] processing 520\n",
            "[INFOR] processing 540\n",
            "[INFOR] processing 560\n",
            "[INFOR] processing 580\n",
            "[INFOR] processing 600\n",
            "[INFOR] processing 620\n",
            "[INFOR] processing 640\n",
            "[INFOR] processing 660\n",
            "[INFOR] processing 680\n"
          ]
        }
      ],
      "source": [
        "nlp_replace = naw.ContextualWordEmbsAug(\n",
        "    model_path=bert_model_name, action=\"substitute\", aug_min=1, aug_p=0.5\n",
        ")\n",
        "def aug_replace(text):\n",
        "  clean = tien_xu_ly(text)\n",
        "  en_sentence = translate_vi2en(clean)[0]\n",
        "  #print(en_sentence)\n",
        "  aug_sentence = nlp_replace.augment(en_sentence)\n",
        "  #print(aug_sentence)\n",
        "  vi_sentence = translate_en2vi(aug_sentence)[0]\n",
        "  #print(vi_sentence)\n",
        "  return tien_xu_ly(vi_sentence)\n",
        "print(\"Test hàm aug_replace BERT:\", aug_replace(\"nhân viên ở đây rất nhiệt tình\") )\n",
        "\n",
        "print(\"Hàm replace BERT\")\n",
        "for i in range(0, len(data_aug_replace['text'])):\n",
        "  text = data_aug_replace['text'][i]\n",
        "  try:\n",
        "    data_aug_replace.loc[i, 'text'] = aug_replace(text)\n",
        "  except:\n",
        "    print(\"Lỗi gọi hàm:\", i)\n",
        "    break\n",
        "  if i % 20 == 0:\n",
        "    print(\"[INFOR] processing\", i)"
      ]
    },
    {
      "cell_type": "code",
      "execution_count": null,
      "metadata": {
        "colab": {
          "base_uri": "https://localhost:8080/"
        },
        "id": "illisUlhAYY3",
        "outputId": "68731fb8-f8a6-43c0-d8bb-ad2f4d35d46e"
      },
      "outputs": [
        {
          "name": "stdout",
          "output_type": "stream",
          "text": [
            "sau 2 ngày đêm ở khách sạn khác chúng tôi quyết định chuyển đến khách sạn camellia thêm 3 ngày đêm nữa\n",
            "sau hai tiếng đồng hồ và đêm quan sát khách sạn của họ jack quyết định chống lại một quán bar hoa trà khác trong ba giờ nữa cả đêm\n",
            "khách sạn mới được nâng cấp nội thất mới phòng hơi chật và thấp thông gió chưa tốt nhân viên chu đáo vị trí gần sông hàn và khu trung tâm\n",
            "khách sạn đã từng bước mở rộng nội thất mới phòng nghỉ tuy chật nhưng thoải mái thông gió kém nhân viên chu đáo vị trí trung tâm làng công nghiệp hàn hàn\n",
            "nhất là bữa cơm tất niên của gđ mình\n",
            "đặc biệt là tại cuộc họp tiếp theo của cha tôi\n"
          ]
        }
      ],
      "source": [
        "for i in range(3):\n",
        "  print(data_train['text'][i])\n",
        "  print(data_aug_replace['text'][i])"
      ]
    },
    {
      "cell_type": "code",
      "execution_count": null,
      "metadata": {
        "colab": {
          "base_uri": "https://localhost:8080/"
        },
        "id": "6mrHyvBYAYY4",
        "outputId": "3885aedd-e440-49e5-a9c2-a588b37a501d"
      },
      "outputs": [
        {
          "data": {
            "text/plain": [
              "DatasetDict({\n",
              "    train: Dataset({\n",
              "        features: ['text', 'label'],\n",
              "        num_rows: 700\n",
              "    })\n",
              "    dev: Dataset({\n",
              "        features: ['text', 'label'],\n",
              "        num_rows: 100\n",
              "    })\n",
              "    test: Dataset({\n",
              "        features: ['text', 'label'],\n",
              "        num_rows: 200\n",
              "    })\n",
              "    aug_swap: Dataset({\n",
              "        features: ['text', 'label'],\n",
              "        num_rows: 1369\n",
              "    })\n",
              "    aug_delete: Dataset({\n",
              "        features: ['text', 'label'],\n",
              "        num_rows: 1381\n",
              "    })\n",
              "    aug_replace: Dataset({\n",
              "        features: ['text', 'label'],\n",
              "        num_rows: 1274\n",
              "    })\n",
              "    aug_replace_w2v: Dataset({\n",
              "        features: ['text', 'label'],\n",
              "        num_rows: 1334\n",
              "    })\n",
              "    aug_insert_w2v: Dataset({\n",
              "        features: ['text', 'label'],\n",
              "        num_rows: 1334\n",
              "    })\n",
              "    aug_replace_tfidf: Dataset({\n",
              "        features: ['text', 'label'],\n",
              "        num_rows: 1387\n",
              "    })\n",
              "    aug_replace_BERT: Dataset({\n",
              "        features: ['text', 'label'],\n",
              "        num_rows: 1387\n",
              "    })\n",
              "    aug_backtranslation: Dataset({\n",
              "        features: ['text', 'label'],\n",
              "        num_rows: 1366\n",
              "    })\n",
              "    aug_insert_synonym: Dataset({\n",
              "        features: ['text', 'label'],\n",
              "        num_rows: 1366\n",
              "    })\n",
              "    aug_insert_tfidf: Dataset({\n",
              "        features: ['text', 'label'],\n",
              "        num_rows: 1387\n",
              "    })\n",
              "    aug_insert_BERT: Dataset({\n",
              "        features: ['text', 'label'],\n",
              "        num_rows: 1387\n",
              "    })\n",
              "    aug_replace_synonym: Dataset({\n",
              "        features: ['text', 'label'],\n",
              "        num_rows: 1374\n",
              "    })\n",
              "})"
            ]
          },
          "execution_count": 150,
          "metadata": {},
          "output_type": "execute_result"
        }
      ],
      "source": [
        "import pandas as pd\n",
        "concat_replace = pd.concat([data_aug_replace, data_train]).sample(frac = 1, random_state = 42)\n",
        "concat_replace['text'] = concat_replace['text'].apply(lambda x: x.replace('_', \" \"))\n",
        "concat_replace = concat_replace.drop_duplicates()\n",
        "concat_replace['text'] = concat_replace['text'].apply(str.lower)\n",
        "replace_dict = {'text': list(concat_replace['text']), 'label': list(concat_replace['label'])}\n",
        "replace_dataset = Dataset.from_dict(replace_dict)\n",
        "data['aug_replace_BERT'] = replace_dataset\n",
        "import pickle\n",
        "\n",
        "with open('/content/drive/MyDrive/NLP/Data augmentation/data/Code-mixed dataset with label/'+dataset_name, 'wb') as f:\n",
        "    pickle.dump(data, f)\n",
        "data"
      ]
    },
    {
      "cell_type": "markdown",
      "metadata": {
        "id": "8qmXly0N-507"
      },
      "source": [
        "# Dịch ngược"
      ]
    },
    {
      "cell_type": "code",
      "execution_count": null,
      "metadata": {
        "colab": {
          "base_uri": "https://localhost:8080/"
        },
        "id": "aN7n_5jwUSIo",
        "outputId": "3ecceffb-e5cb-427f-cad8-6560499e444c"
      },
      "outputs": [
        {
          "data": {
            "text/plain": [
              "285"
            ]
          },
          "execution_count": 9,
          "metadata": {},
          "output_type": "execute_result"
        }
      ],
      "source": [
        "with open('/content/result.txt', 'r', encoding='utf-8-sig') as f:\n",
        "  result = f.read().split('\\n')\n",
        "len(result)"
      ]
    },
    {
      "cell_type": "code",
      "execution_count": null,
      "metadata": {
        "colab": {
          "base_uri": "https://localhost:8080/"
        },
        "id": "ihjB0V9ABGfc",
        "outputId": "5589caf6-bff9-40b7-a7cf-ba89bd80f267"
      },
      "outputs": [
        {
          "name": "stdout",
          "output_type": "stream",
          "text": [
            "Lỗi 289\n"
          ]
        }
      ],
      "source": [
        "data_aug_BackTranslation = data_train.copy()\n",
        "for i in range(285, 700):\n",
        "  try:\n",
        "    sentence_list = list(data_aug_BackTranslation['text'][i])\n",
        "    en_list = translate_vi2en(sentence_list)\n",
        "    vi_list = translate_en2vi(en_list)\n",
        "    result += vi_list\n",
        "  except:\n",
        "    print(\"Lỗi\", i)\n",
        "    break\n",
        "  if i % 50 ==0:\n",
        "    print(\"INFOR processing\", i)"
      ]
    },
    {
      "cell_type": "code",
      "execution_count": null,
      "metadata": {
        "id": "hV8JM3vOTGdw"
      },
      "outputs": [],
      "source": []
    },
    {
      "cell_type": "code",
      "execution_count": null,
      "metadata": {
        "colab": {
          "base_uri": "https://localhost:8080/"
        },
        "id": "ragScKV-RMZT",
        "outputId": "9cb1769c-3aac-44ce-aa15-93ce6687baac"
      },
      "outputs": [
        {
          "data": {
            "text/plain": [
              "285"
            ]
          },
          "execution_count": 19,
          "metadata": {},
          "output_type": "execute_result"
        }
      ],
      "source": [
        "len(result)"
      ]
    },
    {
      "cell_type": "code",
      "execution_count": null,
      "metadata": {
        "colab": {
          "base_uri": "https://localhost:8080/"
        },
        "id": "vV4wxWqySACU",
        "outputId": "192b7bd5-deca-491e-e3c9-5a803cf3b3bd"
      },
      "outputs": [
        {
          "data": {
            "text/plain": [
              "['Sau hai ngày đêm ở một khách sạn khác, chúng tôi quyết định chuyển đến khách sạn Camellia thêm ba ngày đêm nữa.',\n",
              " 'Khách sạn đã được nâng cấp, nội thất mới, phòng hơi chật và thấp, thông gió kém, nhân viên chu đáo, vị trí gần sông Hàn và trung tâm.',\n",
              " 'Đặc biệt là tại bữa tối thường niên của sếp chúng ta.',\n",
              " 'Thực phẩm tươi sống có giá rẻ, đặc biệt là hải sản (tôm, cua, cá).',\n",
              " 'Trước khi rời đi, tôi muốn có một bầu không khí lãng mạn và ấm cúng tại khách sạn này, nhưng khi tôi đến, tôi ngay lập tức nhận ra sai lầm.']"
            ]
          },
          "execution_count": 21,
          "metadata": {},
          "output_type": "execute_result"
        }
      ],
      "source": [
        "result[0:5]"
      ]
    },
    {
      "cell_type": "code",
      "execution_count": null,
      "metadata": {
        "colab": {
          "base_uri": "https://localhost:8080/"
        },
        "id": "LQ-dMYXnSipC",
        "outputId": "85356861-0c71-4671-d3bf-c3c5550c7d53"
      },
      "outputs": [
        {
          "data": {
            "text/plain": [
              "['chúng tôi ở đây hai đêm và rất hài lòng với sự lựa chọn của chúng tôi',\n",
              " 'tôi rất hân hạnh được đi du lịch với gia đình tôi trong khi tôi đang ở khách sạn này',\n",
              " 'anh cũng không có gì',\n",
              " 'tôi đoán tôi đã không nhận được may mắn bản thân mình',\n",
              " 'cứ cho là thái độ của nhân viên khách sạn ở xa khách sạn tư nhân']"
            ]
          },
          "execution_count": 22,
          "metadata": {},
          "output_type": "execute_result"
        }
      ],
      "source": [
        "data['aug_backtranslation']['text'][:5]"
      ]
    },
    {
      "cell_type": "code",
      "execution_count": null,
      "metadata": {
        "colab": {
          "base_uri": "https://localhost:8080/"
        },
        "id": "ZXCudOcdfYRK",
        "outputId": "e5eb2b45-b916-4550-999b-043d10e6a933"
      },
      "outputs": [
        {
          "data": {
            "text/plain": [
              "DatasetDict({\n",
              "    train: Dataset({\n",
              "        features: ['text', 'label'],\n",
              "        num_rows: 700\n",
              "    })\n",
              "    dev: Dataset({\n",
              "        features: ['text', 'label'],\n",
              "        num_rows: 100\n",
              "    })\n",
              "    test: Dataset({\n",
              "        features: ['text', 'label'],\n",
              "        num_rows: 200\n",
              "    })\n",
              "    aug_swap: Dataset({\n",
              "        features: ['text', 'label'],\n",
              "        num_rows: 1369\n",
              "    })\n",
              "    aug_delete: Dataset({\n",
              "        features: ['text', 'label'],\n",
              "        num_rows: 1381\n",
              "    })\n",
              "    aug_insert: Dataset({\n",
              "        features: ['text', 'label'],\n",
              "        num_rows: 1372\n",
              "    })\n",
              "    aug_replace: Dataset({\n",
              "        features: ['text', 'label'],\n",
              "        num_rows: 1274\n",
              "    })\n",
              "    aug_replace_w2v: Dataset({\n",
              "        features: ['text', 'label'],\n",
              "        num_rows: 1345\n",
              "    })\n",
              "    aug_insert_w2v: Dataset({\n",
              "        features: ['text', 'label'],\n",
              "        num_rows: 1335\n",
              "    })\n",
              "    aug_replace_tfidf: Dataset({\n",
              "        features: ['text', 'label'],\n",
              "        num_rows: 1387\n",
              "    })\n",
              "    aug_replace_BERT: Dataset({\n",
              "        features: ['text', 'label'],\n",
              "        num_rows: 1387\n",
              "    })\n",
              "    aug_backtranslation: Dataset({\n",
              "        features: ['text', 'label'],\n",
              "        num_rows: 1366\n",
              "    })\n",
              "})"
            ]
          },
          "execution_count": 42,
          "metadata": {},
          "output_type": "execute_result"
        }
      ],
      "source": [
        "import pandas as pd\n",
        "concat_BackTranslation = pd.concat([data_aug_BackTranslation, data_train]).sample(frac = 1, random_state = 42)\n",
        "concat_BackTranslation['text'] = concat_BackTranslation['text'].apply(lambda x: x.replace('_', \" \"))\n",
        "concat_BackTranslation = concat_BackTranslation.drop_duplicates()\n",
        "concat_BackTranslation['text'] = concat_BackTranslation['text'].apply(str.lower)\n",
        "BackTranslation_dict = {'text': list(concat_BackTranslation['text']), 'label': list(concat_BackTranslation['label'])}\n",
        "BackTranslation_dataset = Dataset.from_dict(BackTranslation_dict)\n",
        "data['aug_backtranslation'] = BackTranslation_dataset\n",
        "\n",
        "import pickle\n",
        "\n",
        "with open('/content/drive/MyDrive/NLP/Data augmentation/data/Code-mixed dataset with label/' + dataset_name, 'wb') as f:\n",
        "    pickle.dump(data, f)\n",
        "data"
      ]
    },
    {
      "cell_type": "markdown",
      "metadata": {
        "id": "mYd6JgZeIMLW"
      },
      "source": [
        "# Check data"
      ]
    },
    {
      "cell_type": "code",
      "execution_count": null,
      "metadata": {
        "colab": {
          "base_uri": "https://localhost:8080/"
        },
        "id": "SJ8jBfHyIOC5",
        "outputId": "cae40ad6-0be9-4ff9-e586-c71332e8cd08"
      },
      "outputs": [
        {
          "data": {
            "text/plain": [
              "DatasetDict({\n",
              "    train: Dataset({\n",
              "        features: ['text', 'label'],\n",
              "        num_rows: 700\n",
              "    })\n",
              "    dev: Dataset({\n",
              "        features: ['text', 'label'],\n",
              "        num_rows: 100\n",
              "    })\n",
              "    test: Dataset({\n",
              "        features: ['text', 'label'],\n",
              "        num_rows: 200\n",
              "    })\n",
              "    aug_swap: Dataset({\n",
              "        features: ['text', 'label'],\n",
              "        num_rows: 1376\n",
              "    })\n",
              "    aug_delete: Dataset({\n",
              "        features: ['text', 'label'],\n",
              "        num_rows: 1383\n",
              "    })\n",
              "    aug_insert_synonym: Dataset({\n",
              "        features: ['text', 'label'],\n",
              "        num_rows: 1387\n",
              "    })\n",
              "    aug_insert_w2v: Dataset({\n",
              "        features: ['text', 'label'],\n",
              "        num_rows: 1351\n",
              "    })\n",
              "    aug_insert_tfidf: Dataset({\n",
              "        features: ['text', 'label'],\n",
              "        num_rows: 1387\n",
              "    })\n",
              "    aug_insert_BERT: Dataset({\n",
              "        features: ['text', 'label'],\n",
              "        num_rows: 1387\n",
              "    })\n",
              "    aug_replace_synonym: Dataset({\n",
              "        features: ['text', 'label'],\n",
              "        num_rows: 1374\n",
              "    })\n",
              "    aug_replace_w2v: Dataset({\n",
              "        features: ['text', 'label'],\n",
              "        num_rows: 1334\n",
              "    })\n",
              "    aug_replace_tfidf: Dataset({\n",
              "        features: ['text', 'label'],\n",
              "        num_rows: 1387\n",
              "    })\n",
              "    aug_replace_BERT: Dataset({\n",
              "        features: ['text', 'label'],\n",
              "        num_rows: 1387\n",
              "    })\n",
              "    aug_backtranslation: Dataset({\n",
              "        features: ['text', 'label'],\n",
              "        num_rows: 1372\n",
              "    })\n",
              "})"
            ]
          },
          "execution_count": 93,
          "metadata": {},
          "output_type": "execute_result"
        }
      ],
      "source": [
        "import pickle\n",
        "from datasets import Dataset, DatasetDict\n",
        "#dataset_name = \"Final_VietNam.pkl\"\n",
        "with open('/content/drive/MyDrive/NLP/Data augmentation/data/Code-mixed dataset with label/' + dataset_name, 'rb') as f:\n",
        "    data = pickle.load(f)\n",
        "data"
      ]
    },
    {
      "cell_type": "code",
      "execution_count": null,
      "metadata": {
        "colab": {
          "base_uri": "https://localhost:8080/"
        },
        "id": "8OY0hRkNITrK",
        "outputId": "353691df-ffd5-4515-a317-f9a65497264b"
      },
      "outputs": [
        {
          "data": {
            "text/plain": [
              "dict_keys(['train', 'dev', 'test', 'aug_swap', 'aug_delete', 'aug_replace', 'aug_replace_w2v', 'aug_insert_w2v', 'aug_replace_tfidf', 'aug_replace_BERT', 'aug_backtranslation', 'aug_insert_synonym', 'aug_insert_tfidf', 'aug_insert_BERT', 'aug_replace_synonym'])"
            ]
          },
          "execution_count": 164,
          "metadata": {},
          "output_type": "execute_result"
        }
      ],
      "source": [
        "data.keys()"
      ]
    },
    {
      "cell_type": "code",
      "execution_count": null,
      "metadata": {
        "id": "pwWpGG7lIY4j"
      },
      "outputs": [],
      "source": [
        "new_key = ['train', 'dev', 'test', 'aug_swap', 'aug_delete', 'aug_insert_synonym', 'aug_insert_w2v', 'aug_insert_tfidf', 'aug_insert_BERT', 'aug_replace_synonym', 'aug_replace_w2v', 'aug_replace_tfidf', 'aug_replace_BERT', 'aug_backtranslation']"
      ]
    },
    {
      "cell_type": "code",
      "execution_count": null,
      "metadata": {
        "colab": {
          "base_uri": "https://localhost:8080/"
        },
        "id": "17xNHJj8JZXE",
        "outputId": "dac97d71-33d4-4856-c9d2-5e3d20ed5e25"
      },
      "outputs": [
        {
          "data": {
            "text/plain": [
              "14"
            ]
          },
          "execution_count": 166,
          "metadata": {},
          "output_type": "execute_result"
        }
      ],
      "source": [
        "len(new_key)"
      ]
    },
    {
      "cell_type": "code",
      "execution_count": null,
      "metadata": {
        "colab": {
          "base_uri": "https://localhost:8080/"
        },
        "id": "TDa4xNZIJb5E",
        "outputId": "be27a306-86fc-4145-c617-8d689a999f30"
      },
      "outputs": [
        {
          "data": {
            "text/plain": [
              "15"
            ]
          },
          "execution_count": 168,
          "metadata": {},
          "output_type": "execute_result"
        }
      ],
      "source": [
        "len(list(data.keys()))"
      ]
    },
    {
      "cell_type": "code",
      "execution_count": null,
      "metadata": {
        "id": "QuVXcdgKJLAD"
      },
      "outputs": [],
      "source": [
        "new_data = {key: data[key] for key in new_key}"
      ]
    },
    {
      "cell_type": "code",
      "execution_count": null,
      "metadata": {
        "colab": {
          "base_uri": "https://localhost:8080/"
        },
        "id": "X4FCQT3uJreO",
        "outputId": "d0bc4a5c-1932-4843-f5cf-965813e719ac"
      },
      "outputs": [
        {
          "data": {
            "text/plain": [
              "{'train': Dataset({\n",
              "     features: ['text', 'label'],\n",
              "     num_rows: 700\n",
              " }),\n",
              " 'dev': Dataset({\n",
              "     features: ['text', 'label'],\n",
              "     num_rows: 100\n",
              " }),\n",
              " 'test': Dataset({\n",
              "     features: ['text', 'label'],\n",
              "     num_rows: 200\n",
              " }),\n",
              " 'aug_swap': Dataset({\n",
              "     features: ['text', 'label'],\n",
              "     num_rows: 1369\n",
              " }),\n",
              " 'aug_delete': Dataset({\n",
              "     features: ['text', 'label'],\n",
              "     num_rows: 1381\n",
              " }),\n",
              " 'aug_insert_synonym': Dataset({\n",
              "     features: ['text', 'label'],\n",
              "     num_rows: 1366\n",
              " }),\n",
              " 'aug_insert_w2v': Dataset({\n",
              "     features: ['text', 'label'],\n",
              "     num_rows: 1334\n",
              " }),\n",
              " 'aug_insert_tfidf': Dataset({\n",
              "     features: ['text', 'label'],\n",
              "     num_rows: 1387\n",
              " }),\n",
              " 'aug_insert_BERT': Dataset({\n",
              "     features: ['text', 'label'],\n",
              "     num_rows: 1387\n",
              " }),\n",
              " 'aug_replace_synonym': Dataset({\n",
              "     features: ['text', 'label'],\n",
              "     num_rows: 1374\n",
              " }),\n",
              " 'aug_replace_w2v': Dataset({\n",
              "     features: ['text', 'label'],\n",
              "     num_rows: 1334\n",
              " }),\n",
              " 'aug_replace_tfidf': Dataset({\n",
              "     features: ['text', 'label'],\n",
              "     num_rows: 1387\n",
              " }),\n",
              " 'aug_replace_BERT': Dataset({\n",
              "     features: ['text', 'label'],\n",
              "     num_rows: 1387\n",
              " }),\n",
              " 'aug_backtranslation': Dataset({\n",
              "     features: ['text', 'label'],\n",
              "     num_rows: 1366\n",
              " })}"
            ]
          },
          "execution_count": 170,
          "metadata": {},
          "output_type": "execute_result"
        }
      ],
      "source": [
        "new_data"
      ]
    },
    {
      "cell_type": "code",
      "execution_count": null,
      "metadata": {
        "colab": {
          "base_uri": "https://localhost:8080/"
        },
        "id": "tf9GpJFFJtTq",
        "outputId": "9a27dee5-5435-4e72-c6c8-80456e929488"
      },
      "outputs": [
        {
          "name": "stdout",
          "output_type": "stream",
          "text": [
            "train ['sau 2 ngày đêm ở khách sạn khác chúng tôi quyết định chuyển đến khách sạn camellia thêm 3 ngày đêm nữa', 'khách sạn mới được nâng cấp nội thất mới phòng hơi chật và thấp thông gió chưa tốt nhân viên chu đáo vị trí gần sông hàn và khu trung tâm', 'nhất là bữa cơm tất niên của gđ mình', 'thức ăn tươi ngon rẻ đặc biệt là hải sản tôm cua cá', 'trước khi đi mình mong muốn có một không gian lãng mạng và ấm cúng ở khách sạn này nhưng khi đến mình nhận ra ngay sai lầm']\n",
            "dev ['vui vẻ và hấp dẫn khách sạn có quầy bar ở lobby rất ấm cúng và nhẹ nhàng với nhiều loại đồ uống không khí quầy bar tạo cho khách cảm giác hết sức thư thái và tĩnh mịch dù cho chỉ cần nhìn ra ngoài đã thấy quang cảnh phố tây tấp nập ở nha trang', 'tuy nhiên nếu có dịp quay lại tôi vẫn thích được ở đây', 'cám ơn', 'có bức tường rất to chắn trước cửa sổ muốn ngắm hồ phải bắc ghế', 'mặt tiền khách sạn hơi nhỏ và bên cạnh đang sửa chữa nên có một chút gì ảnh hưởng đến mỹ quan của khách sạn nhưng không sao có thể bỏ qua']\n",
            "test ['nhìn chung là rất hài lòng', 'đồ dùng trong phòng thiếu nhiều cái cơ bản dao cạo râu nếu 4 sao thế này thì hơi tệ', 'chắc mắc thêm quạt thì tốt hơn', 'never stay in this hotel ever again', 'một kỳ nghỉ rất vui vẻ và thoải mái không gian ấm cúng thích hợp cho gia đình nghỉ dưỡng']\n",
            "aug_swap ['chúng tôi đây ở 2 đêm rất và hài lòng sự về lựa chọn của mình', 'khá tôi hài lòng với chuyến cùng du lịch cả nhà ở khi nghỉ khách sạn này', 'thái độ phục vụ của nhân viên tuyệt vời', 'chắc mình bản thân gặp ko may', 'có thể nói thái độ là của phục vụ nhân viên khách sạn kém xa so với các khách sạn tư nhân 4 3 sao tại hồ chí minh tp']\n",
            "aug_delete ['chúng tôi ở đây đêm và rất hài lòng về sự lựa chọn', 'khá hài lòng chuyến du lịch cùng cả nhà khi ở này', 'thái độ phục vụ của', 'chắc mình ko gặp', 'nói là thái độ phục vụ khách sạn kém xa so với khách sạn tư nhân 4 sao tp hồ chí minh']\n",
            "aug_insert_synonym ['chúng tôi ở đây 2 đêm và hai rất hài lòng của các hài lòng về sự hài lòng đây đây về chúng tôi lựa chọn của mình', 'về nhà nghỉ ngơi tôi nghỉ ngơi khá chuyến đi hài lòng với chuyến du lịch cùng cả cũng vậy thôi nhà khi nghỉ tôi ở khách sạn chuyến đi này', 'thái độ phục vụ của các của nhân viên rất tuyệt tuyệt vời', 'chắc bản thân mình không không ko may không không gặp may', 'rất xa bố làm ơn ba làm ơn giúp đỡ rất xa có thể nói là khách sạn thái độ phục vụ của nhân viên khách sạn khách sạn kém khách sạn xa so với các khách sạn tư nhân khách sạn 3 4 giúp đỡ sao tại tp hồ chí minh']\n",
            "aug_insert_w2v ['lên lớp chúng tôi ở đây sự 2 đêm và kỳ rất ã hài lòng về sự ks lựa chọn 3 của mình', 'tôi khá hài lòng với nhà hàng chuyến kỳ rất du lịch cùng ucui cả nhà khi nghỉ much khách sạn ở kỳ khách sạn này', 'thái độ báu vật phục vụ tuyệt của nhân viên tuyệt vời', 'tui quen chắc bản thân mình tình yêu ko gặp may', 'tận tình có thể nói là thái độ những phục vụ much shiper của nhân viên xã ấp khách sạn kém xa so với vui vẻ yếu các khách sạn shiper tư nhân 3 4 4 sao tại tp hồ chí minh']\n",
            "aug_insert_tfidf ['chúng tôi nội thất ở đây 2 đêm có thể và rất hot hài lòng đảng về s sự tai lựa chọn của mình', 'tôi khá hài lòng với 2 chuyến đoàn du lịch kì cùng cả thú vị nhà khi nghỉ bí ở xem khách sạn bảo vệ này', 'thái độ phục vụ danh thắng của dc nhân viên tuyệt vời', 'tuyet chắc bản thân hàn mình ko gặp giao thông may', '100 có thể nói là phụcv thái độ sân bay phục vụ dc của nhân viên chứng tỏ khách sạn kém bất hợp lý xa nền so với các khách sạn tư nhân dựa 3 số 4 sao tại tp nhược điểm hồ chí minh']\n",
            "aug_insert_BERT ['may mắn thay chúng tôi vẫn ở cách nhau hai đêm và chúng tôi lại rất hài lòng khi nghe sự lựa chọn của mình', 'bản thân tôi thực sự khá hài lòng với ngay cả chuyến đi tuyệt vời còn lại với gia đình tôi khi ở với họ tại khách sạn này', 'cho đội ngũ nhân viên xuất sắc về thái độ phục vụ', 'vậy thì đoán là tôi thật sự đã không gặp may', 'tuy nhiên có thể nói rằng thái độ phục vụ bình thường của nhân viên khách sạn tuy nhiên kém hơn nhiều so với các khách sạn sang trọng tư nhân hạng 3 4 sao tại thành phố hồ chí minh']\n",
            "aug_replace_synonym ['chúng tôi ở lại đây đây 2 đêm và rất hài lòng về sự lựa chọn của các mình', 'tôi khá hài lòng với chuyến đi du lịch cũng vậy thôi cả nhà khi nghỉ ngơi ở khách sạn này anh bạn', 'thái độ giúp đỡ của nhân viên rất tuyệt', 'chắc bản thân mình không không gặp may', 'có thể nói nó là thái độ giúp đỡ của các nhân viên khách sạn tội nghiệp rất xa so với các khách sạn tư nhân ba làm ơn 4 có chuyện gì vậy ở tp hồ chí minh']\n",
            "aug_replace_w2v ['chúng tôi ở đây 3 đêm tuy nhiên cực kỳ rõ ràng về sự lựa chọn của mình', 'nghỉ khá hài lòng với chuyến du lịch cùng ucui chi nhánh khi son kỳ ã khách sạn này', 'thái độ vui vẻ của shiper tuyệt vời', 'chắc cuộc đời mình ko khắc phục may', 'có thể nói là thái độ vui vẻ của tư vấn khách sạn kém xa funhd với những khách sạn fbfbr 3 4 sao tại xã hồ chí minh']\n",
            "aug_replace_tfidf ['ks đổi đây 2 đêm và khong tiên về sự lựa chọn hoang khiếu nại', 'không thể khắc phục hài lòng tuyệt vời chuyến du lịch cùng đâu nhà quận râu ở khách sạn cởi mở', 'thái độ phục vụ xtress xe lửa tuyệt vời', 'chắc bản thân mình chủ yếu niêm yết cởi mở', 'dơn tuy là thức ăn túc trực của nhân viên khách sạn kém xa so với bình minh anh đào tư nhân hình giao thông vài tại giây phút hồ chí minh']\n",
            "aug_replace_BERT ['chúng ta có hai phút tôi đã rất hài lòng trong kế hoạch', 'julia trở nên khá hài lòng với một chuyến đi ở bà của mình khi ở trong khu nghỉ mát này', 'dịch vụ cộng đồng tuyệt vời để', 'chắc là anh không may mắn', 'có thể nói thái độ chỉ trích của nhân viên khách sạn tương đương xa với khách sạn tư nhân 3 18 dan ở thành phố hồ tùng sin']\n",
            "aug_backtranslation ['chúng tôi ở đây hai đêm và rất hài lòng với sự lựa chọn của chúng tôi', 'tôi rất hân hạnh được đi du lịch với gia đình tôi trong khi tôi đang ở khách sạn này', 'anh cũng không có gì', 'tôi đoán tôi đã không nhận được may mắn bản thân mình', 'cứ cho là thái độ của nhân viên khách sạn ở xa khách sạn tư nhân']\n"
          ]
        }
      ],
      "source": [
        "for data_name in new_key:\n",
        "  print(data_name, new_data[data_name]['text'][0:5])"
      ]
    },
    {
      "cell_type": "code",
      "execution_count": null,
      "metadata": {
        "id": "QZI8HVv0Kmr9"
      },
      "outputs": [],
      "source": [
        "with open('/content/drive/MyDrive/NLP/Data augmentation/data/Code-mixed dataset with label/'+dataset_name, 'wb') as f:\n",
        "    pickle.dump(new_data, f)"
      ]
    }
  ],
  "metadata": {
    "accelerator": "GPU",
    "colab": {
      "collapsed_sections": [
        "-v2UCGrL864u",
        "D9T1poQhAPPg",
        "KMd6tRhukTnY",
        "qJhBAVYwctws",
        "lDk4U3FoghCt",
        "g0K5zfWp2g_i"
      ],
      "gpuType": "T4",
      "provenance": [],
      "toc_visible": true
    },
    "kernelspec": {
      "display_name": "Python 3",
      "name": "python3"
    },
    "language_info": {
      "name": "python"
    },
    "widgets": {
      "application/vnd.jupyter.widget-state+json": {
        "079164a3837b4a8e977ec3658cb8f39d": {
          "model_module": "@jupyter-widgets/base",
          "model_module_version": "1.2.0",
          "model_name": "LayoutModel",
          "state": {
            "_model_module": "@jupyter-widgets/base",
            "_model_module_version": "1.2.0",
            "_model_name": "LayoutModel",
            "_view_count": null,
            "_view_module": "@jupyter-widgets/base",
            "_view_module_version": "1.2.0",
            "_view_name": "LayoutView",
            "align_content": null,
            "align_items": null,
            "align_self": null,
            "border": null,
            "bottom": null,
            "display": null,
            "flex": null,
            "flex_flow": null,
            "grid_area": null,
            "grid_auto_columns": null,
            "grid_auto_flow": null,
            "grid_auto_rows": null,
            "grid_column": null,
            "grid_gap": null,
            "grid_row": null,
            "grid_template_areas": null,
            "grid_template_columns": null,
            "grid_template_rows": null,
            "height": null,
            "justify_content": null,
            "justify_items": null,
            "left": null,
            "margin": null,
            "max_height": null,
            "max_width": null,
            "min_height": null,
            "min_width": null,
            "object_fit": null,
            "object_position": null,
            "order": null,
            "overflow": null,
            "overflow_x": null,
            "overflow_y": null,
            "padding": null,
            "right": null,
            "top": null,
            "visibility": null,
            "width": null
          }
        },
        "09afe201309a49349045d2686a265f6f": {
          "model_module": "@jupyter-widgets/controls",
          "model_module_version": "1.5.0",
          "model_name": "HBoxModel",
          "state": {
            "_dom_classes": [],
            "_model_module": "@jupyter-widgets/controls",
            "_model_module_version": "1.5.0",
            "_model_name": "HBoxModel",
            "_view_count": null,
            "_view_module": "@jupyter-widgets/controls",
            "_view_module_version": "1.5.0",
            "_view_name": "HBoxView",
            "box_style": "",
            "children": [
              "IPY_MODEL_87355f3d761d4179bb677cff4c4e957d",
              "IPY_MODEL_eeb0a68ab96544a5a557d7e3d27f56a3",
              "IPY_MODEL_fb0972062f6b45c3937bad8370684f3a"
            ],
            "layout": "IPY_MODEL_33512e712c614948a618253a649c8058"
          }
        },
        "0b8f82177d8b406c9a2e463f07c1fb2d": {
          "model_module": "@jupyter-widgets/controls",
          "model_module_version": "1.5.0",
          "model_name": "HBoxModel",
          "state": {
            "_dom_classes": [],
            "_model_module": "@jupyter-widgets/controls",
            "_model_module_version": "1.5.0",
            "_model_name": "HBoxModel",
            "_view_count": null,
            "_view_module": "@jupyter-widgets/controls",
            "_view_module_version": "1.5.0",
            "_view_name": "HBoxView",
            "box_style": "",
            "children": [
              "IPY_MODEL_494321a78c09418088b60f674b08ce7a",
              "IPY_MODEL_40d5523fc4054183aa5ffc64bb8cb47c",
              "IPY_MODEL_941a29f0f4574cddb66a3522e28c3882"
            ],
            "layout": "IPY_MODEL_d582fb7c18684921acf0dd3606857b7e"
          }
        },
        "0dea983dd55d487daaa771e580dd4934": {
          "model_module": "@jupyter-widgets/controls",
          "model_module_version": "1.5.0",
          "model_name": "DescriptionStyleModel",
          "state": {
            "_model_module": "@jupyter-widgets/controls",
            "_model_module_version": "1.5.0",
            "_model_name": "DescriptionStyleModel",
            "_view_count": null,
            "_view_module": "@jupyter-widgets/base",
            "_view_module_version": "1.2.0",
            "_view_name": "StyleView",
            "description_width": ""
          }
        },
        "0f4fec6e28a141079bc56a96b7e499c6": {
          "model_module": "@jupyter-widgets/base",
          "model_module_version": "1.2.0",
          "model_name": "LayoutModel",
          "state": {
            "_model_module": "@jupyter-widgets/base",
            "_model_module_version": "1.2.0",
            "_model_name": "LayoutModel",
            "_view_count": null,
            "_view_module": "@jupyter-widgets/base",
            "_view_module_version": "1.2.0",
            "_view_name": "LayoutView",
            "align_content": null,
            "align_items": null,
            "align_self": null,
            "border": null,
            "bottom": null,
            "display": null,
            "flex": null,
            "flex_flow": null,
            "grid_area": null,
            "grid_auto_columns": null,
            "grid_auto_flow": null,
            "grid_auto_rows": null,
            "grid_column": null,
            "grid_gap": null,
            "grid_row": null,
            "grid_template_areas": null,
            "grid_template_columns": null,
            "grid_template_rows": null,
            "height": null,
            "justify_content": null,
            "justify_items": null,
            "left": null,
            "margin": null,
            "max_height": null,
            "max_width": null,
            "min_height": null,
            "min_width": null,
            "object_fit": null,
            "object_position": null,
            "order": null,
            "overflow": null,
            "overflow_x": null,
            "overflow_y": null,
            "padding": null,
            "right": null,
            "top": null,
            "visibility": null,
            "width": null
          }
        },
        "127ae7160689495eb0583efc18fd4e26": {
          "model_module": "@jupyter-widgets/base",
          "model_module_version": "1.2.0",
          "model_name": "LayoutModel",
          "state": {
            "_model_module": "@jupyter-widgets/base",
            "_model_module_version": "1.2.0",
            "_model_name": "LayoutModel",
            "_view_count": null,
            "_view_module": "@jupyter-widgets/base",
            "_view_module_version": "1.2.0",
            "_view_name": "LayoutView",
            "align_content": null,
            "align_items": null,
            "align_self": null,
            "border": null,
            "bottom": null,
            "display": null,
            "flex": null,
            "flex_flow": null,
            "grid_area": null,
            "grid_auto_columns": null,
            "grid_auto_flow": null,
            "grid_auto_rows": null,
            "grid_column": null,
            "grid_gap": null,
            "grid_row": null,
            "grid_template_areas": null,
            "grid_template_columns": null,
            "grid_template_rows": null,
            "height": null,
            "justify_content": null,
            "justify_items": null,
            "left": null,
            "margin": null,
            "max_height": null,
            "max_width": null,
            "min_height": null,
            "min_width": null,
            "object_fit": null,
            "object_position": null,
            "order": null,
            "overflow": null,
            "overflow_x": null,
            "overflow_y": null,
            "padding": null,
            "right": null,
            "top": null,
            "visibility": null,
            "width": null
          }
        },
        "15754082b3c74638adcf30659a751383": {
          "model_module": "@jupyter-widgets/base",
          "model_module_version": "1.2.0",
          "model_name": "LayoutModel",
          "state": {
            "_model_module": "@jupyter-widgets/base",
            "_model_module_version": "1.2.0",
            "_model_name": "LayoutModel",
            "_view_count": null,
            "_view_module": "@jupyter-widgets/base",
            "_view_module_version": "1.2.0",
            "_view_name": "LayoutView",
            "align_content": null,
            "align_items": null,
            "align_self": null,
            "border": null,
            "bottom": null,
            "display": null,
            "flex": null,
            "flex_flow": null,
            "grid_area": null,
            "grid_auto_columns": null,
            "grid_auto_flow": null,
            "grid_auto_rows": null,
            "grid_column": null,
            "grid_gap": null,
            "grid_row": null,
            "grid_template_areas": null,
            "grid_template_columns": null,
            "grid_template_rows": null,
            "height": null,
            "justify_content": null,
            "justify_items": null,
            "left": null,
            "margin": null,
            "max_height": null,
            "max_width": null,
            "min_height": null,
            "min_width": null,
            "object_fit": null,
            "object_position": null,
            "order": null,
            "overflow": null,
            "overflow_x": null,
            "overflow_y": null,
            "padding": null,
            "right": null,
            "top": null,
            "visibility": null,
            "width": null
          }
        },
        "16099c0a97b4471f957a2f3c4e971398": {
          "model_module": "@jupyter-widgets/controls",
          "model_module_version": "1.5.0",
          "model_name": "HTMLModel",
          "state": {
            "_dom_classes": [],
            "_model_module": "@jupyter-widgets/controls",
            "_model_module_version": "1.5.0",
            "_model_name": "HTMLModel",
            "_view_count": null,
            "_view_module": "@jupyter-widgets/controls",
            "_view_module_version": "1.5.0",
            "_view_name": "HTMLView",
            "description": "",
            "description_tooltip": null,
            "layout": "IPY_MODEL_f6817af75eac43e2987075b323f36a2e",
            "placeholder": "​",
            "style": "IPY_MODEL_6327219b26b84bac9edb8eb3e3e70c55",
            "value": " 232k/232k [00:00&lt;00:00, 4.90MB/s]"
          }
        },
        "16f4c428887b46799ee599a1483048c0": {
          "model_module": "@jupyter-widgets/controls",
          "model_module_version": "1.5.0",
          "model_name": "HBoxModel",
          "state": {
            "_dom_classes": [],
            "_model_module": "@jupyter-widgets/controls",
            "_model_module_version": "1.5.0",
            "_model_name": "HBoxModel",
            "_view_count": null,
            "_view_module": "@jupyter-widgets/controls",
            "_view_module_version": "1.5.0",
            "_view_name": "HBoxView",
            "box_style": "",
            "children": [
              "IPY_MODEL_6e642c4b84244d06913a3bea82ee1d4a",
              "IPY_MODEL_c31b06416c3841149dfa0b8d6d0b956c",
              "IPY_MODEL_952d648e26c146348ee43307c8fdcc5d"
            ],
            "layout": "IPY_MODEL_e07fda3b6c4e46d78ace2b04a21d49a1"
          }
        },
        "1e068afc612044d3859e119b5c53e2bd": {
          "model_module": "@jupyter-widgets/base",
          "model_module_version": "1.2.0",
          "model_name": "LayoutModel",
          "state": {
            "_model_module": "@jupyter-widgets/base",
            "_model_module_version": "1.2.0",
            "_model_name": "LayoutModel",
            "_view_count": null,
            "_view_module": "@jupyter-widgets/base",
            "_view_module_version": "1.2.0",
            "_view_name": "LayoutView",
            "align_content": null,
            "align_items": null,
            "align_self": null,
            "border": null,
            "bottom": null,
            "display": null,
            "flex": null,
            "flex_flow": null,
            "grid_area": null,
            "grid_auto_columns": null,
            "grid_auto_flow": null,
            "grid_auto_rows": null,
            "grid_column": null,
            "grid_gap": null,
            "grid_row": null,
            "grid_template_areas": null,
            "grid_template_columns": null,
            "grid_template_rows": null,
            "height": null,
            "justify_content": null,
            "justify_items": null,
            "left": null,
            "margin": null,
            "max_height": null,
            "max_width": null,
            "min_height": null,
            "min_width": null,
            "object_fit": null,
            "object_position": null,
            "order": null,
            "overflow": null,
            "overflow_x": null,
            "overflow_y": null,
            "padding": null,
            "right": null,
            "top": null,
            "visibility": null,
            "width": null
          }
        },
        "2028d0c7f68142898073c1f779bd872e": {
          "model_module": "@jupyter-widgets/controls",
          "model_module_version": "1.5.0",
          "model_name": "DescriptionStyleModel",
          "state": {
            "_model_module": "@jupyter-widgets/controls",
            "_model_module_version": "1.5.0",
            "_model_name": "DescriptionStyleModel",
            "_view_count": null,
            "_view_module": "@jupyter-widgets/base",
            "_view_module_version": "1.2.0",
            "_view_name": "StyleView",
            "description_width": ""
          }
        },
        "20ae6d5e458449a18962401d9b787888": {
          "model_module": "@jupyter-widgets/controls",
          "model_module_version": "1.5.0",
          "model_name": "HTMLModel",
          "state": {
            "_dom_classes": [],
            "_model_module": "@jupyter-widgets/controls",
            "_model_module_version": "1.5.0",
            "_model_name": "HTMLModel",
            "_view_count": null,
            "_view_module": "@jupyter-widgets/controls",
            "_view_module_version": "1.5.0",
            "_view_name": "HTMLView",
            "description": "",
            "description_tooltip": null,
            "layout": "IPY_MODEL_e3895cd14cd44db0816fb9f2bf935976",
            "placeholder": "​",
            "style": "IPY_MODEL_2028d0c7f68142898073c1f779bd872e",
            "value": " 1.88M/1.88M [00:00&lt;00:00, 50.0MB/s]"
          }
        },
        "21f6b67e21ba4a32815be3cfaad6aecf": {
          "model_module": "@jupyter-widgets/controls",
          "model_module_version": "1.5.0",
          "model_name": "HTMLModel",
          "state": {
            "_dom_classes": [],
            "_model_module": "@jupyter-widgets/controls",
            "_model_module_version": "1.5.0",
            "_model_name": "HTMLModel",
            "_view_count": null,
            "_view_module": "@jupyter-widgets/controls",
            "_view_module_version": "1.5.0",
            "_view_name": "HTMLView",
            "description": "",
            "description_tooltip": null,
            "layout": "IPY_MODEL_e7bc6e3a24d046dfb5e76f384617be84",
            "placeholder": "​",
            "style": "IPY_MODEL_f8fd4d7033f249cd8c79c5ce002b3a65",
            "value": "Downloading (…)tencepiece.bpe.model: 100%"
          }
        },
        "21fca1d0d8424d949d2d1ea2c89ae904": {
          "model_module": "@jupyter-widgets/controls",
          "model_module_version": "1.5.0",
          "model_name": "HBoxModel",
          "state": {
            "_dom_classes": [],
            "_model_module": "@jupyter-widgets/controls",
            "_model_module_version": "1.5.0",
            "_model_name": "HBoxModel",
            "_view_count": null,
            "_view_module": "@jupyter-widgets/controls",
            "_view_module_version": "1.5.0",
            "_view_name": "HBoxView",
            "box_style": "",
            "children": [
              "IPY_MODEL_67dfbbde36b044599deaca8c8d102807",
              "IPY_MODEL_e82ee0bf9260413c80fb47a0de1fe915",
              "IPY_MODEL_700f9fce962c45e0bce2ce5dd1e98e67"
            ],
            "layout": "IPY_MODEL_283e14a3fd7146bfbaef9b443c3668bb"
          }
        },
        "242787d6ca7c4de098ef2ffdbd4783af": {
          "model_module": "@jupyter-widgets/controls",
          "model_module_version": "1.5.0",
          "model_name": "HTMLModel",
          "state": {
            "_dom_classes": [],
            "_model_module": "@jupyter-widgets/controls",
            "_model_module_version": "1.5.0",
            "_model_name": "HTMLModel",
            "_view_count": null,
            "_view_module": "@jupyter-widgets/controls",
            "_view_module_version": "1.5.0",
            "_view_name": "HTMLView",
            "description": "",
            "description_tooltip": null,
            "layout": "IPY_MODEL_cc41ead347d7468bad26043c7b171697",
            "placeholder": "​",
            "style": "IPY_MODEL_b00f3b6bbcd544f0b49f6f71bff005e4",
            "value": " 1.47k/1.47k [00:00&lt;00:00, 91.1kB/s]"
          }
        },
        "257b56590f344073bee70416596a28f1": {
          "model_module": "@jupyter-widgets/base",
          "model_module_version": "1.2.0",
          "model_name": "LayoutModel",
          "state": {
            "_model_module": "@jupyter-widgets/base",
            "_model_module_version": "1.2.0",
            "_model_name": "LayoutModel",
            "_view_count": null,
            "_view_module": "@jupyter-widgets/base",
            "_view_module_version": "1.2.0",
            "_view_name": "LayoutView",
            "align_content": null,
            "align_items": null,
            "align_self": null,
            "border": null,
            "bottom": null,
            "display": null,
            "flex": null,
            "flex_flow": null,
            "grid_area": null,
            "grid_auto_columns": null,
            "grid_auto_flow": null,
            "grid_auto_rows": null,
            "grid_column": null,
            "grid_gap": null,
            "grid_row": null,
            "grid_template_areas": null,
            "grid_template_columns": null,
            "grid_template_rows": null,
            "height": null,
            "justify_content": null,
            "justify_items": null,
            "left": null,
            "margin": null,
            "max_height": null,
            "max_width": null,
            "min_height": null,
            "min_width": null,
            "object_fit": null,
            "object_position": null,
            "order": null,
            "overflow": null,
            "overflow_x": null,
            "overflow_y": null,
            "padding": null,
            "right": null,
            "top": null,
            "visibility": null,
            "width": null
          }
        },
        "283e14a3fd7146bfbaef9b443c3668bb": {
          "model_module": "@jupyter-widgets/base",
          "model_module_version": "1.2.0",
          "model_name": "LayoutModel",
          "state": {
            "_model_module": "@jupyter-widgets/base",
            "_model_module_version": "1.2.0",
            "_model_name": "LayoutModel",
            "_view_count": null,
            "_view_module": "@jupyter-widgets/base",
            "_view_module_version": "1.2.0",
            "_view_name": "LayoutView",
            "align_content": null,
            "align_items": null,
            "align_self": null,
            "border": null,
            "bottom": null,
            "display": null,
            "flex": null,
            "flex_flow": null,
            "grid_area": null,
            "grid_auto_columns": null,
            "grid_auto_flow": null,
            "grid_auto_rows": null,
            "grid_column": null,
            "grid_gap": null,
            "grid_row": null,
            "grid_template_areas": null,
            "grid_template_columns": null,
            "grid_template_rows": null,
            "height": null,
            "justify_content": null,
            "justify_items": null,
            "left": null,
            "margin": null,
            "max_height": null,
            "max_width": null,
            "min_height": null,
            "min_width": null,
            "object_fit": null,
            "object_position": null,
            "order": null,
            "overflow": null,
            "overflow_x": null,
            "overflow_y": null,
            "padding": null,
            "right": null,
            "top": null,
            "visibility": null,
            "width": null
          }
        },
        "288ef994feb0492fa5508969d84d3802": {
          "model_module": "@jupyter-widgets/base",
          "model_module_version": "1.2.0",
          "model_name": "LayoutModel",
          "state": {
            "_model_module": "@jupyter-widgets/base",
            "_model_module_version": "1.2.0",
            "_model_name": "LayoutModel",
            "_view_count": null,
            "_view_module": "@jupyter-widgets/base",
            "_view_module_version": "1.2.0",
            "_view_name": "LayoutView",
            "align_content": null,
            "align_items": null,
            "align_self": null,
            "border": null,
            "bottom": null,
            "display": null,
            "flex": null,
            "flex_flow": null,
            "grid_area": null,
            "grid_auto_columns": null,
            "grid_auto_flow": null,
            "grid_auto_rows": null,
            "grid_column": null,
            "grid_gap": null,
            "grid_row": null,
            "grid_template_areas": null,
            "grid_template_columns": null,
            "grid_template_rows": null,
            "height": null,
            "justify_content": null,
            "justify_items": null,
            "left": null,
            "margin": null,
            "max_height": null,
            "max_width": null,
            "min_height": null,
            "min_width": null,
            "object_fit": null,
            "object_position": null,
            "order": null,
            "overflow": null,
            "overflow_x": null,
            "overflow_y": null,
            "padding": null,
            "right": null,
            "top": null,
            "visibility": null,
            "width": null
          }
        },
        "2cfa22c438e743018d3460edacf472ba": {
          "model_module": "@jupyter-widgets/base",
          "model_module_version": "1.2.0",
          "model_name": "LayoutModel",
          "state": {
            "_model_module": "@jupyter-widgets/base",
            "_model_module_version": "1.2.0",
            "_model_name": "LayoutModel",
            "_view_count": null,
            "_view_module": "@jupyter-widgets/base",
            "_view_module_version": "1.2.0",
            "_view_name": "LayoutView",
            "align_content": null,
            "align_items": null,
            "align_self": null,
            "border": null,
            "bottom": null,
            "display": null,
            "flex": null,
            "flex_flow": null,
            "grid_area": null,
            "grid_auto_columns": null,
            "grid_auto_flow": null,
            "grid_auto_rows": null,
            "grid_column": null,
            "grid_gap": null,
            "grid_row": null,
            "grid_template_areas": null,
            "grid_template_columns": null,
            "grid_template_rows": null,
            "height": null,
            "justify_content": null,
            "justify_items": null,
            "left": null,
            "margin": null,
            "max_height": null,
            "max_width": null,
            "min_height": null,
            "min_width": null,
            "object_fit": null,
            "object_position": null,
            "order": null,
            "overflow": null,
            "overflow_x": null,
            "overflow_y": null,
            "padding": null,
            "right": null,
            "top": null,
            "visibility": null,
            "width": null
          }
        },
        "2ed4a3e8166947e78f29651abd4d65b4": {
          "model_module": "@jupyter-widgets/base",
          "model_module_version": "1.2.0",
          "model_name": "LayoutModel",
          "state": {
            "_model_module": "@jupyter-widgets/base",
            "_model_module_version": "1.2.0",
            "_model_name": "LayoutModel",
            "_view_count": null,
            "_view_module": "@jupyter-widgets/base",
            "_view_module_version": "1.2.0",
            "_view_name": "LayoutView",
            "align_content": null,
            "align_items": null,
            "align_self": null,
            "border": null,
            "bottom": null,
            "display": null,
            "flex": null,
            "flex_flow": null,
            "grid_area": null,
            "grid_auto_columns": null,
            "grid_auto_flow": null,
            "grid_auto_rows": null,
            "grid_column": null,
            "grid_gap": null,
            "grid_row": null,
            "grid_template_areas": null,
            "grid_template_columns": null,
            "grid_template_rows": null,
            "height": null,
            "justify_content": null,
            "justify_items": null,
            "left": null,
            "margin": null,
            "max_height": null,
            "max_width": null,
            "min_height": null,
            "min_width": null,
            "object_fit": null,
            "object_position": null,
            "order": null,
            "overflow": null,
            "overflow_x": null,
            "overflow_y": null,
            "padding": null,
            "right": null,
            "top": null,
            "visibility": null,
            "width": null
          }
        },
        "2f51de9f343243ef9ab61e6ba88f4840": {
          "model_module": "@jupyter-widgets/controls",
          "model_module_version": "1.5.0",
          "model_name": "DescriptionStyleModel",
          "state": {
            "_model_module": "@jupyter-widgets/controls",
            "_model_module_version": "1.5.0",
            "_model_name": "DescriptionStyleModel",
            "_view_count": null,
            "_view_module": "@jupyter-widgets/base",
            "_view_module_version": "1.2.0",
            "_view_name": "StyleView",
            "description_width": ""
          }
        },
        "3338d859d3cd40df85ff7a4ec5a5f0da": {
          "model_module": "@jupyter-widgets/base",
          "model_module_version": "1.2.0",
          "model_name": "LayoutModel",
          "state": {
            "_model_module": "@jupyter-widgets/base",
            "_model_module_version": "1.2.0",
            "_model_name": "LayoutModel",
            "_view_count": null,
            "_view_module": "@jupyter-widgets/base",
            "_view_module_version": "1.2.0",
            "_view_name": "LayoutView",
            "align_content": null,
            "align_items": null,
            "align_self": null,
            "border": null,
            "bottom": null,
            "display": null,
            "flex": null,
            "flex_flow": null,
            "grid_area": null,
            "grid_auto_columns": null,
            "grid_auto_flow": null,
            "grid_auto_rows": null,
            "grid_column": null,
            "grid_gap": null,
            "grid_row": null,
            "grid_template_areas": null,
            "grid_template_columns": null,
            "grid_template_rows": null,
            "height": null,
            "justify_content": null,
            "justify_items": null,
            "left": null,
            "margin": null,
            "max_height": null,
            "max_width": null,
            "min_height": null,
            "min_width": null,
            "object_fit": null,
            "object_position": null,
            "order": null,
            "overflow": null,
            "overflow_x": null,
            "overflow_y": null,
            "padding": null,
            "right": null,
            "top": null,
            "visibility": null,
            "width": null
          }
        },
        "33512e712c614948a618253a649c8058": {
          "model_module": "@jupyter-widgets/base",
          "model_module_version": "1.2.0",
          "model_name": "LayoutModel",
          "state": {
            "_model_module": "@jupyter-widgets/base",
            "_model_module_version": "1.2.0",
            "_model_name": "LayoutModel",
            "_view_count": null,
            "_view_module": "@jupyter-widgets/base",
            "_view_module_version": "1.2.0",
            "_view_name": "LayoutView",
            "align_content": null,
            "align_items": null,
            "align_self": null,
            "border": null,
            "bottom": null,
            "display": null,
            "flex": null,
            "flex_flow": null,
            "grid_area": null,
            "grid_auto_columns": null,
            "grid_auto_flow": null,
            "grid_auto_rows": null,
            "grid_column": null,
            "grid_gap": null,
            "grid_row": null,
            "grid_template_areas": null,
            "grid_template_columns": null,
            "grid_template_rows": null,
            "height": null,
            "justify_content": null,
            "justify_items": null,
            "left": null,
            "margin": null,
            "max_height": null,
            "max_width": null,
            "min_height": null,
            "min_width": null,
            "object_fit": null,
            "object_position": null,
            "order": null,
            "overflow": null,
            "overflow_x": null,
            "overflow_y": null,
            "padding": null,
            "right": null,
            "top": null,
            "visibility": null,
            "width": null
          }
        },
        "35917a43a0124768b8139e3e5cb2b1b8": {
          "model_module": "@jupyter-widgets/base",
          "model_module_version": "1.2.0",
          "model_name": "LayoutModel",
          "state": {
            "_model_module": "@jupyter-widgets/base",
            "_model_module_version": "1.2.0",
            "_model_name": "LayoutModel",
            "_view_count": null,
            "_view_module": "@jupyter-widgets/base",
            "_view_module_version": "1.2.0",
            "_view_name": "LayoutView",
            "align_content": null,
            "align_items": null,
            "align_self": null,
            "border": null,
            "bottom": null,
            "display": null,
            "flex": null,
            "flex_flow": null,
            "grid_area": null,
            "grid_auto_columns": null,
            "grid_auto_flow": null,
            "grid_auto_rows": null,
            "grid_column": null,
            "grid_gap": null,
            "grid_row": null,
            "grid_template_areas": null,
            "grid_template_columns": null,
            "grid_template_rows": null,
            "height": null,
            "justify_content": null,
            "justify_items": null,
            "left": null,
            "margin": null,
            "max_height": null,
            "max_width": null,
            "min_height": null,
            "min_width": null,
            "object_fit": null,
            "object_position": null,
            "order": null,
            "overflow": null,
            "overflow_x": null,
            "overflow_y": null,
            "padding": null,
            "right": null,
            "top": null,
            "visibility": null,
            "width": null
          }
        },
        "385be8639cd144ea8459f183423d5a54": {
          "model_module": "@jupyter-widgets/base",
          "model_module_version": "1.2.0",
          "model_name": "LayoutModel",
          "state": {
            "_model_module": "@jupyter-widgets/base",
            "_model_module_version": "1.2.0",
            "_model_name": "LayoutModel",
            "_view_count": null,
            "_view_module": "@jupyter-widgets/base",
            "_view_module_version": "1.2.0",
            "_view_name": "LayoutView",
            "align_content": null,
            "align_items": null,
            "align_self": null,
            "border": null,
            "bottom": null,
            "display": null,
            "flex": null,
            "flex_flow": null,
            "grid_area": null,
            "grid_auto_columns": null,
            "grid_auto_flow": null,
            "grid_auto_rows": null,
            "grid_column": null,
            "grid_gap": null,
            "grid_row": null,
            "grid_template_areas": null,
            "grid_template_columns": null,
            "grid_template_rows": null,
            "height": null,
            "justify_content": null,
            "justify_items": null,
            "left": null,
            "margin": null,
            "max_height": null,
            "max_width": null,
            "min_height": null,
            "min_width": null,
            "object_fit": null,
            "object_position": null,
            "order": null,
            "overflow": null,
            "overflow_x": null,
            "overflow_y": null,
            "padding": null,
            "right": null,
            "top": null,
            "visibility": null,
            "width": null
          }
        },
        "3d8586d52d41423b81a4c0ec93eb494b": {
          "model_module": "@jupyter-widgets/controls",
          "model_module_version": "1.5.0",
          "model_name": "HTMLModel",
          "state": {
            "_dom_classes": [],
            "_model_module": "@jupyter-widgets/controls",
            "_model_module_version": "1.5.0",
            "_model_name": "HTMLModel",
            "_view_count": null,
            "_view_module": "@jupyter-widgets/controls",
            "_view_module_version": "1.5.0",
            "_view_name": "HTMLView",
            "description": "",
            "description_tooltip": null,
            "layout": "IPY_MODEL_e73ade784ae946d7989c9c104456bf24",
            "placeholder": "​",
            "style": "IPY_MODEL_e7c4d255319d47e0a64d6d7218a215d7",
            "value": "Downloading (…)lve/main/config.json: 100%"
          }
        },
        "3ee51731ba1f4bafb2974c05d544d00f": {
          "model_module": "@jupyter-widgets/base",
          "model_module_version": "1.2.0",
          "model_name": "LayoutModel",
          "state": {
            "_model_module": "@jupyter-widgets/base",
            "_model_module_version": "1.2.0",
            "_model_name": "LayoutModel",
            "_view_count": null,
            "_view_module": "@jupyter-widgets/base",
            "_view_module_version": "1.2.0",
            "_view_name": "LayoutView",
            "align_content": null,
            "align_items": null,
            "align_self": null,
            "border": null,
            "bottom": null,
            "display": null,
            "flex": null,
            "flex_flow": null,
            "grid_area": null,
            "grid_auto_columns": null,
            "grid_auto_flow": null,
            "grid_auto_rows": null,
            "grid_column": null,
            "grid_gap": null,
            "grid_row": null,
            "grid_template_areas": null,
            "grid_template_columns": null,
            "grid_template_rows": null,
            "height": null,
            "justify_content": null,
            "justify_items": null,
            "left": null,
            "margin": null,
            "max_height": null,
            "max_width": null,
            "min_height": null,
            "min_width": null,
            "object_fit": null,
            "object_position": null,
            "order": null,
            "overflow": null,
            "overflow_x": null,
            "overflow_y": null,
            "padding": null,
            "right": null,
            "top": null,
            "visibility": null,
            "width": null
          }
        },
        "40d5523fc4054183aa5ffc64bb8cb47c": {
          "model_module": "@jupyter-widgets/controls",
          "model_module_version": "1.5.0",
          "model_name": "FloatProgressModel",
          "state": {
            "_dom_classes": [],
            "_model_module": "@jupyter-widgets/controls",
            "_model_module_version": "1.5.0",
            "_model_name": "FloatProgressModel",
            "_view_count": null,
            "_view_module": "@jupyter-widgets/controls",
            "_view_module_version": "1.5.0",
            "_view_name": "ProgressView",
            "bar_style": "success",
            "description": "",
            "description_tooltip": null,
            "layout": "IPY_MODEL_1e068afc612044d3859e119b5c53e2bd",
            "max": 466062,
            "min": 0,
            "orientation": "horizontal",
            "style": "IPY_MODEL_a5b91ad68cbc41efb2f8ebd46fb6018b",
            "value": 466062
          }
        },
        "436976e76eed4fe78ec24673e552f684": {
          "model_module": "@jupyter-widgets/controls",
          "model_module_version": "1.5.0",
          "model_name": "FloatProgressModel",
          "state": {
            "_dom_classes": [],
            "_model_module": "@jupyter-widgets/controls",
            "_model_module_version": "1.5.0",
            "_model_name": "FloatProgressModel",
            "_view_count": null,
            "_view_module": "@jupyter-widgets/controls",
            "_view_module_version": "1.5.0",
            "_view_name": "ProgressView",
            "bar_style": "success",
            "description": "",
            "description_tooltip": null,
            "layout": "IPY_MODEL_15754082b3c74638adcf30659a751383",
            "max": 1466,
            "min": 0,
            "orientation": "horizontal",
            "style": "IPY_MODEL_79211b62aebc417399a2191c7b3fc4f9",
            "value": 1466
          }
        },
        "44ad3992ea18480499bde87aa54eb561": {
          "model_module": "@jupyter-widgets/controls",
          "model_module_version": "1.5.0",
          "model_name": "ProgressStyleModel",
          "state": {
            "_model_module": "@jupyter-widgets/controls",
            "_model_module_version": "1.5.0",
            "_model_name": "ProgressStyleModel",
            "_view_count": null,
            "_view_module": "@jupyter-widgets/base",
            "_view_module_version": "1.2.0",
            "_view_name": "StyleView",
            "bar_color": null,
            "description_width": ""
          }
        },
        "452d0165c33e4782889968c23bde980f": {
          "model_module": "@jupyter-widgets/controls",
          "model_module_version": "1.5.0",
          "model_name": "HTMLModel",
          "state": {
            "_dom_classes": [],
            "_model_module": "@jupyter-widgets/controls",
            "_model_module_version": "1.5.0",
            "_model_name": "HTMLModel",
            "_view_count": null,
            "_view_module": "@jupyter-widgets/controls",
            "_view_module_version": "1.5.0",
            "_view_name": "HTMLView",
            "description": "",
            "description_tooltip": null,
            "layout": "IPY_MODEL_7fdfde4c25424d5badb816bf433d5272",
            "placeholder": "​",
            "style": "IPY_MODEL_8f909eaf03e2402d832f521bff317f54",
            "value": "Downloading model.safetensors: 100%"
          }
        },
        "47bb58c3d68545c7961857ce96728ee2": {
          "model_module": "@jupyter-widgets/controls",
          "model_module_version": "1.5.0",
          "model_name": "DescriptionStyleModel",
          "state": {
            "_model_module": "@jupyter-widgets/controls",
            "_model_module_version": "1.5.0",
            "_model_name": "DescriptionStyleModel",
            "_view_count": null,
            "_view_module": "@jupyter-widgets/base",
            "_view_module_version": "1.2.0",
            "_view_name": "StyleView",
            "description_width": ""
          }
        },
        "494321a78c09418088b60f674b08ce7a": {
          "model_module": "@jupyter-widgets/controls",
          "model_module_version": "1.5.0",
          "model_name": "HTMLModel",
          "state": {
            "_dom_classes": [],
            "_model_module": "@jupyter-widgets/controls",
            "_model_module_version": "1.5.0",
            "_model_name": "HTMLModel",
            "_view_count": null,
            "_view_module": "@jupyter-widgets/controls",
            "_view_module_version": "1.5.0",
            "_view_name": "HTMLView",
            "description": "",
            "description_tooltip": null,
            "layout": "IPY_MODEL_3338d859d3cd40df85ff7a4ec5a5f0da",
            "placeholder": "​",
            "style": "IPY_MODEL_0dea983dd55d487daaa771e580dd4934",
            "value": "Downloading (…)/main/tokenizer.json: 100%"
          }
        },
        "4de3091d20ed49b08eeaff5ed40dc81b": {
          "model_module": "@jupyter-widgets/base",
          "model_module_version": "1.2.0",
          "model_name": "LayoutModel",
          "state": {
            "_model_module": "@jupyter-widgets/base",
            "_model_module_version": "1.2.0",
            "_model_name": "LayoutModel",
            "_view_count": null,
            "_view_module": "@jupyter-widgets/base",
            "_view_module_version": "1.2.0",
            "_view_name": "LayoutView",
            "align_content": null,
            "align_items": null,
            "align_self": null,
            "border": null,
            "bottom": null,
            "display": null,
            "flex": null,
            "flex_flow": null,
            "grid_area": null,
            "grid_auto_columns": null,
            "grid_auto_flow": null,
            "grid_auto_rows": null,
            "grid_column": null,
            "grid_gap": null,
            "grid_row": null,
            "grid_template_areas": null,
            "grid_template_columns": null,
            "grid_template_rows": null,
            "height": null,
            "justify_content": null,
            "justify_items": null,
            "left": null,
            "margin": null,
            "max_height": null,
            "max_width": null,
            "min_height": null,
            "min_width": null,
            "object_fit": null,
            "object_position": null,
            "order": null,
            "overflow": null,
            "overflow_x": null,
            "overflow_y": null,
            "padding": null,
            "right": null,
            "top": null,
            "visibility": null,
            "width": null
          }
        },
        "513f175b45b44818b256b7cb045085bd": {
          "model_module": "@jupyter-widgets/base",
          "model_module_version": "1.2.0",
          "model_name": "LayoutModel",
          "state": {
            "_model_module": "@jupyter-widgets/base",
            "_model_module_version": "1.2.0",
            "_model_name": "LayoutModel",
            "_view_count": null,
            "_view_module": "@jupyter-widgets/base",
            "_view_module_version": "1.2.0",
            "_view_name": "LayoutView",
            "align_content": null,
            "align_items": null,
            "align_self": null,
            "border": null,
            "bottom": null,
            "display": null,
            "flex": null,
            "flex_flow": null,
            "grid_area": null,
            "grid_auto_columns": null,
            "grid_auto_flow": null,
            "grid_auto_rows": null,
            "grid_column": null,
            "grid_gap": null,
            "grid_row": null,
            "grid_template_areas": null,
            "grid_template_columns": null,
            "grid_template_rows": null,
            "height": null,
            "justify_content": null,
            "justify_items": null,
            "left": null,
            "margin": null,
            "max_height": null,
            "max_width": null,
            "min_height": null,
            "min_width": null,
            "object_fit": null,
            "object_position": null,
            "order": null,
            "overflow": null,
            "overflow_x": null,
            "overflow_y": null,
            "padding": null,
            "right": null,
            "top": null,
            "visibility": null,
            "width": null
          }
        },
        "54530d56a91744708f1b53ca0db9caa0": {
          "model_module": "@jupyter-widgets/controls",
          "model_module_version": "1.5.0",
          "model_name": "DescriptionStyleModel",
          "state": {
            "_model_module": "@jupyter-widgets/controls",
            "_model_module_version": "1.5.0",
            "_model_name": "DescriptionStyleModel",
            "_view_count": null,
            "_view_module": "@jupyter-widgets/base",
            "_view_module_version": "1.2.0",
            "_view_name": "StyleView",
            "description_width": ""
          }
        },
        "54793d8614a34ce69be55e98fdf0d638": {
          "model_module": "@jupyter-widgets/base",
          "model_module_version": "1.2.0",
          "model_name": "LayoutModel",
          "state": {
            "_model_module": "@jupyter-widgets/base",
            "_model_module_version": "1.2.0",
            "_model_name": "LayoutModel",
            "_view_count": null,
            "_view_module": "@jupyter-widgets/base",
            "_view_module_version": "1.2.0",
            "_view_name": "LayoutView",
            "align_content": null,
            "align_items": null,
            "align_self": null,
            "border": null,
            "bottom": null,
            "display": null,
            "flex": null,
            "flex_flow": null,
            "grid_area": null,
            "grid_auto_columns": null,
            "grid_auto_flow": null,
            "grid_auto_rows": null,
            "grid_column": null,
            "grid_gap": null,
            "grid_row": null,
            "grid_template_areas": null,
            "grid_template_columns": null,
            "grid_template_rows": null,
            "height": null,
            "justify_content": null,
            "justify_items": null,
            "left": null,
            "margin": null,
            "max_height": null,
            "max_width": null,
            "min_height": null,
            "min_width": null,
            "object_fit": null,
            "object_position": null,
            "order": null,
            "overflow": null,
            "overflow_x": null,
            "overflow_y": null,
            "padding": null,
            "right": null,
            "top": null,
            "visibility": null,
            "width": null
          }
        },
        "58409c3b37964ea1b22c6de7b69227fd": {
          "model_module": "@jupyter-widgets/base",
          "model_module_version": "1.2.0",
          "model_name": "LayoutModel",
          "state": {
            "_model_module": "@jupyter-widgets/base",
            "_model_module_version": "1.2.0",
            "_model_name": "LayoutModel",
            "_view_count": null,
            "_view_module": "@jupyter-widgets/base",
            "_view_module_version": "1.2.0",
            "_view_name": "LayoutView",
            "align_content": null,
            "align_items": null,
            "align_self": null,
            "border": null,
            "bottom": null,
            "display": null,
            "flex": null,
            "flex_flow": null,
            "grid_area": null,
            "grid_auto_columns": null,
            "grid_auto_flow": null,
            "grid_auto_rows": null,
            "grid_column": null,
            "grid_gap": null,
            "grid_row": null,
            "grid_template_areas": null,
            "grid_template_columns": null,
            "grid_template_rows": null,
            "height": null,
            "justify_content": null,
            "justify_items": null,
            "left": null,
            "margin": null,
            "max_height": null,
            "max_width": null,
            "min_height": null,
            "min_width": null,
            "object_fit": null,
            "object_position": null,
            "order": null,
            "overflow": null,
            "overflow_x": null,
            "overflow_y": null,
            "padding": null,
            "right": null,
            "top": null,
            "visibility": null,
            "width": null
          }
        },
        "6024740a8cc4483eb26d259e1e9d929b": {
          "model_module": "@jupyter-widgets/controls",
          "model_module_version": "1.5.0",
          "model_name": "DescriptionStyleModel",
          "state": {
            "_model_module": "@jupyter-widgets/controls",
            "_model_module_version": "1.5.0",
            "_model_name": "DescriptionStyleModel",
            "_view_count": null,
            "_view_module": "@jupyter-widgets/base",
            "_view_module_version": "1.2.0",
            "_view_name": "StyleView",
            "description_width": ""
          }
        },
        "61a2f02f06cb4bc7a847576f19ebdb06": {
          "model_module": "@jupyter-widgets/controls",
          "model_module_version": "1.5.0",
          "model_name": "HBoxModel",
          "state": {
            "_dom_classes": [],
            "_model_module": "@jupyter-widgets/controls",
            "_model_module_version": "1.5.0",
            "_model_name": "HBoxModel",
            "_view_count": null,
            "_view_module": "@jupyter-widgets/controls",
            "_view_module_version": "1.5.0",
            "_view_name": "HBoxView",
            "box_style": "",
            "children": [
              "IPY_MODEL_db1536d2ee9c48b78783aff732caf57e",
              "IPY_MODEL_cf532d8179d840d398cdfe1bfe4f332b",
              "IPY_MODEL_20ae6d5e458449a18962401d9b787888"
            ],
            "layout": "IPY_MODEL_89b01df0d207492cb182af981ac6f348"
          }
        },
        "625df141d2214f5683abb07f0bbc0c00": {
          "model_module": "@jupyter-widgets/controls",
          "model_module_version": "1.5.0",
          "model_name": "FloatProgressModel",
          "state": {
            "_dom_classes": [],
            "_model_module": "@jupyter-widgets/controls",
            "_model_module_version": "1.5.0",
            "_model_name": "FloatProgressModel",
            "_view_count": null,
            "_view_module": "@jupyter-widgets/controls",
            "_view_module_version": "1.5.0",
            "_view_name": "ProgressView",
            "bar_style": "success",
            "description": "",
            "description_tooltip": null,
            "layout": "IPY_MODEL_874f66397a8a49d18b190ba3ffcf939c",
            "max": 231508,
            "min": 0,
            "orientation": "horizontal",
            "style": "IPY_MODEL_ada26aee88e247ebb01d11e29151bf4c",
            "value": 231508
          }
        },
        "6327219b26b84bac9edb8eb3e3e70c55": {
          "model_module": "@jupyter-widgets/controls",
          "model_module_version": "1.5.0",
          "model_name": "DescriptionStyleModel",
          "state": {
            "_model_module": "@jupyter-widgets/controls",
            "_model_module_version": "1.5.0",
            "_model_name": "DescriptionStyleModel",
            "_view_count": null,
            "_view_module": "@jupyter-widgets/base",
            "_view_module_version": "1.2.0",
            "_view_name": "StyleView",
            "description_width": ""
          }
        },
        "654de3fafef24ef5956d1b93bd333396": {
          "model_module": "@jupyter-widgets/controls",
          "model_module_version": "1.5.0",
          "model_name": "ProgressStyleModel",
          "state": {
            "_model_module": "@jupyter-widgets/controls",
            "_model_module_version": "1.5.0",
            "_model_name": "ProgressStyleModel",
            "_view_count": null,
            "_view_module": "@jupyter-widgets/base",
            "_view_module_version": "1.2.0",
            "_view_name": "StyleView",
            "bar_color": null,
            "description_width": ""
          }
        },
        "65a48b30b64a44ab8b671599e8a6194a": {
          "model_module": "@jupyter-widgets/controls",
          "model_module_version": "1.5.0",
          "model_name": "HTMLModel",
          "state": {
            "_dom_classes": [],
            "_model_module": "@jupyter-widgets/controls",
            "_model_module_version": "1.5.0",
            "_model_name": "HTMLModel",
            "_view_count": null,
            "_view_module": "@jupyter-widgets/controls",
            "_view_module_version": "1.5.0",
            "_view_name": "HTMLView",
            "description": "",
            "description_tooltip": null,
            "layout": "IPY_MODEL_84f223217ec6462495a1421e26459513",
            "placeholder": "​",
            "style": "IPY_MODEL_47bb58c3d68545c7961857ce96728ee2",
            "value": " 1.47k/1.47k [00:00&lt;00:00, 80.8kB/s]"
          }
        },
        "67dfbbde36b044599deaca8c8d102807": {
          "model_module": "@jupyter-widgets/controls",
          "model_module_version": "1.5.0",
          "model_name": "HTMLModel",
          "state": {
            "_dom_classes": [],
            "_model_module": "@jupyter-widgets/controls",
            "_model_module_version": "1.5.0",
            "_model_name": "HTMLModel",
            "_view_count": null,
            "_view_module": "@jupyter-widgets/controls",
            "_view_module_version": "1.5.0",
            "_view_name": "HTMLView",
            "description": "",
            "description_tooltip": null,
            "layout": "IPY_MODEL_127ae7160689495eb0583efc18fd4e26",
            "placeholder": "​",
            "style": "IPY_MODEL_ee19aba0b3224df28759dbf99834749d",
            "value": "Downloading pytorch_model.bin: 100%"
          }
        },
        "698f6bf9289643d79606f0879f9c349a": {
          "model_module": "@jupyter-widgets/controls",
          "model_module_version": "1.5.0",
          "model_name": "DescriptionStyleModel",
          "state": {
            "_model_module": "@jupyter-widgets/controls",
            "_model_module_version": "1.5.0",
            "_model_name": "DescriptionStyleModel",
            "_view_count": null,
            "_view_module": "@jupyter-widgets/base",
            "_view_module_version": "1.2.0",
            "_view_name": "StyleView",
            "description_width": ""
          }
        },
        "6b73a3b2575341b3b5de7930f35bdeb7": {
          "model_module": "@jupyter-widgets/controls",
          "model_module_version": "1.5.0",
          "model_name": "HBoxModel",
          "state": {
            "_dom_classes": [],
            "_model_module": "@jupyter-widgets/controls",
            "_model_module_version": "1.5.0",
            "_model_name": "HBoxModel",
            "_view_count": null,
            "_view_module": "@jupyter-widgets/controls",
            "_view_module_version": "1.5.0",
            "_view_name": "HBoxView",
            "box_style": "",
            "children": [
              "IPY_MODEL_21f6b67e21ba4a32815be3cfaad6aecf",
              "IPY_MODEL_7ccb55d09b5546ceb407f200341ca868",
              "IPY_MODEL_a269826c0b8c4721ba77ef3570fad28b"
            ],
            "layout": "IPY_MODEL_288ef994feb0492fa5508969d84d3802"
          }
        },
        "6e642c4b84244d06913a3bea82ee1d4a": {
          "model_module": "@jupyter-widgets/controls",
          "model_module_version": "1.5.0",
          "model_name": "HTMLModel",
          "state": {
            "_dom_classes": [],
            "_model_module": "@jupyter-widgets/controls",
            "_model_module_version": "1.5.0",
            "_model_name": "HTMLModel",
            "_view_count": null,
            "_view_module": "@jupyter-widgets/controls",
            "_view_module_version": "1.5.0",
            "_view_name": "HTMLView",
            "description": "",
            "description_tooltip": null,
            "layout": "IPY_MODEL_54793d8614a34ce69be55e98fdf0d638",
            "placeholder": "​",
            "style": "IPY_MODEL_efcda6fa41644cc9ac1a5ba04e07b0b3",
            "value": "Downloading (…)okenizer_config.json: 100%"
          }
        },
        "700f9fce962c45e0bce2ce5dd1e98e67": {
          "model_module": "@jupyter-widgets/controls",
          "model_module_version": "1.5.0",
          "model_name": "HTMLModel",
          "state": {
            "_dom_classes": [],
            "_model_module": "@jupyter-widgets/controls",
            "_model_module_version": "1.5.0",
            "_model_name": "HTMLModel",
            "_view_count": null,
            "_view_module": "@jupyter-widgets/controls",
            "_view_module_version": "1.5.0",
            "_view_name": "HTMLView",
            "description": "",
            "description_tooltip": null,
            "layout": "IPY_MODEL_f1b1fcb460644976867c8047e18931a0",
            "placeholder": "​",
            "style": "IPY_MODEL_2f51de9f343243ef9ab61e6ba88f4840",
            "value": " 1.79G/1.79G [02:03&lt;00:00, 16.3MB/s]"
          }
        },
        "70fef04640524143bf753b3aea3f0335": {
          "model_module": "@jupyter-widgets/controls",
          "model_module_version": "1.5.0",
          "model_name": "ProgressStyleModel",
          "state": {
            "_model_module": "@jupyter-widgets/controls",
            "_model_module_version": "1.5.0",
            "_model_name": "ProgressStyleModel",
            "_view_count": null,
            "_view_module": "@jupyter-widgets/base",
            "_view_module_version": "1.2.0",
            "_view_name": "StyleView",
            "bar_color": null,
            "description_width": ""
          }
        },
        "7815b32534634349ab4181d05892cf49": {
          "model_module": "@jupyter-widgets/base",
          "model_module_version": "1.2.0",
          "model_name": "LayoutModel",
          "state": {
            "_model_module": "@jupyter-widgets/base",
            "_model_module_version": "1.2.0",
            "_model_name": "LayoutModel",
            "_view_count": null,
            "_view_module": "@jupyter-widgets/base",
            "_view_module_version": "1.2.0",
            "_view_name": "LayoutView",
            "align_content": null,
            "align_items": null,
            "align_self": null,
            "border": null,
            "bottom": null,
            "display": null,
            "flex": null,
            "flex_flow": null,
            "grid_area": null,
            "grid_auto_columns": null,
            "grid_auto_flow": null,
            "grid_auto_rows": null,
            "grid_column": null,
            "grid_gap": null,
            "grid_row": null,
            "grid_template_areas": null,
            "grid_template_columns": null,
            "grid_template_rows": null,
            "height": null,
            "justify_content": null,
            "justify_items": null,
            "left": null,
            "margin": null,
            "max_height": null,
            "max_width": null,
            "min_height": null,
            "min_width": null,
            "object_fit": null,
            "object_position": null,
            "order": null,
            "overflow": null,
            "overflow_x": null,
            "overflow_y": null,
            "padding": null,
            "right": null,
            "top": null,
            "visibility": null,
            "width": null
          }
        },
        "79211b62aebc417399a2191c7b3fc4f9": {
          "model_module": "@jupyter-widgets/controls",
          "model_module_version": "1.5.0",
          "model_name": "ProgressStyleModel",
          "state": {
            "_model_module": "@jupyter-widgets/controls",
            "_model_module_version": "1.5.0",
            "_model_name": "ProgressStyleModel",
            "_view_count": null,
            "_view_module": "@jupyter-widgets/base",
            "_view_module_version": "1.2.0",
            "_view_name": "StyleView",
            "bar_color": null,
            "description_width": ""
          }
        },
        "7ccb55d09b5546ceb407f200341ca868": {
          "model_module": "@jupyter-widgets/controls",
          "model_module_version": "1.5.0",
          "model_name": "FloatProgressModel",
          "state": {
            "_dom_classes": [],
            "_model_module": "@jupyter-widgets/controls",
            "_model_module_version": "1.5.0",
            "_model_name": "FloatProgressModel",
            "_view_count": null,
            "_view_module": "@jupyter-widgets/controls",
            "_view_module_version": "1.5.0",
            "_view_name": "ProgressView",
            "bar_style": "success",
            "description": "",
            "description_tooltip": null,
            "layout": "IPY_MODEL_2ed4a3e8166947e78f29651abd4d65b4",
            "max": 1879553,
            "min": 0,
            "orientation": "horizontal",
            "style": "IPY_MODEL_8aaf0fe518724b3a8cbefd2a9cbd97d8",
            "value": 1879553
          }
        },
        "7fdfde4c25424d5badb816bf433d5272": {
          "model_module": "@jupyter-widgets/base",
          "model_module_version": "1.2.0",
          "model_name": "LayoutModel",
          "state": {
            "_model_module": "@jupyter-widgets/base",
            "_model_module_version": "1.2.0",
            "_model_name": "LayoutModel",
            "_view_count": null,
            "_view_module": "@jupyter-widgets/base",
            "_view_module_version": "1.2.0",
            "_view_name": "LayoutView",
            "align_content": null,
            "align_items": null,
            "align_self": null,
            "border": null,
            "bottom": null,
            "display": null,
            "flex": null,
            "flex_flow": null,
            "grid_area": null,
            "grid_auto_columns": null,
            "grid_auto_flow": null,
            "grid_auto_rows": null,
            "grid_column": null,
            "grid_gap": null,
            "grid_row": null,
            "grid_template_areas": null,
            "grid_template_columns": null,
            "grid_template_rows": null,
            "height": null,
            "justify_content": null,
            "justify_items": null,
            "left": null,
            "margin": null,
            "max_height": null,
            "max_width": null,
            "min_height": null,
            "min_width": null,
            "object_fit": null,
            "object_position": null,
            "order": null,
            "overflow": null,
            "overflow_x": null,
            "overflow_y": null,
            "padding": null,
            "right": null,
            "top": null,
            "visibility": null,
            "width": null
          }
        },
        "8048f94ccb1048008b58f98762c12e86": {
          "model_module": "@jupyter-widgets/controls",
          "model_module_version": "1.5.0",
          "model_name": "HBoxModel",
          "state": {
            "_dom_classes": [],
            "_model_module": "@jupyter-widgets/controls",
            "_model_module_version": "1.5.0",
            "_model_name": "HBoxModel",
            "_view_count": null,
            "_view_module": "@jupyter-widgets/controls",
            "_view_module_version": "1.5.0",
            "_view_name": "HBoxView",
            "box_style": "",
            "children": [
              "IPY_MODEL_452d0165c33e4782889968c23bde980f",
              "IPY_MODEL_981b535d5af0434eadcbe4714ef963b9",
              "IPY_MODEL_8ce70fdf21ab4f508054cc8d3be5b2da"
            ],
            "layout": "IPY_MODEL_7815b32534634349ab4181d05892cf49"
          }
        },
        "84f223217ec6462495a1421e26459513": {
          "model_module": "@jupyter-widgets/base",
          "model_module_version": "1.2.0",
          "model_name": "LayoutModel",
          "state": {
            "_model_module": "@jupyter-widgets/base",
            "_model_module_version": "1.2.0",
            "_model_name": "LayoutModel",
            "_view_count": null,
            "_view_module": "@jupyter-widgets/base",
            "_view_module_version": "1.2.0",
            "_view_name": "LayoutView",
            "align_content": null,
            "align_items": null,
            "align_self": null,
            "border": null,
            "bottom": null,
            "display": null,
            "flex": null,
            "flex_flow": null,
            "grid_area": null,
            "grid_auto_columns": null,
            "grid_auto_flow": null,
            "grid_auto_rows": null,
            "grid_column": null,
            "grid_gap": null,
            "grid_row": null,
            "grid_template_areas": null,
            "grid_template_columns": null,
            "grid_template_rows": null,
            "height": null,
            "justify_content": null,
            "justify_items": null,
            "left": null,
            "margin": null,
            "max_height": null,
            "max_width": null,
            "min_height": null,
            "min_width": null,
            "object_fit": null,
            "object_position": null,
            "order": null,
            "overflow": null,
            "overflow_x": null,
            "overflow_y": null,
            "padding": null,
            "right": null,
            "top": null,
            "visibility": null,
            "width": null
          }
        },
        "87355f3d761d4179bb677cff4c4e957d": {
          "model_module": "@jupyter-widgets/controls",
          "model_module_version": "1.5.0",
          "model_name": "HTMLModel",
          "state": {
            "_dom_classes": [],
            "_model_module": "@jupyter-widgets/controls",
            "_model_module_version": "1.5.0",
            "_model_name": "HTMLModel",
            "_view_count": null,
            "_view_module": "@jupyter-widgets/controls",
            "_view_module_version": "1.5.0",
            "_view_name": "HTMLView",
            "description": "",
            "description_tooltip": null,
            "layout": "IPY_MODEL_3ee51731ba1f4bafb2974c05d544d00f",
            "placeholder": "​",
            "style": "IPY_MODEL_f54c95640a7c48089a73669b2aa2abda",
            "value": "Downloading pytorch_model.bin: 100%"
          }
        },
        "874f66397a8a49d18b190ba3ffcf939c": {
          "model_module": "@jupyter-widgets/base",
          "model_module_version": "1.2.0",
          "model_name": "LayoutModel",
          "state": {
            "_model_module": "@jupyter-widgets/base",
            "_model_module_version": "1.2.0",
            "_model_name": "LayoutModel",
            "_view_count": null,
            "_view_module": "@jupyter-widgets/base",
            "_view_module_version": "1.2.0",
            "_view_name": "LayoutView",
            "align_content": null,
            "align_items": null,
            "align_self": null,
            "border": null,
            "bottom": null,
            "display": null,
            "flex": null,
            "flex_flow": null,
            "grid_area": null,
            "grid_auto_columns": null,
            "grid_auto_flow": null,
            "grid_auto_rows": null,
            "grid_column": null,
            "grid_gap": null,
            "grid_row": null,
            "grid_template_areas": null,
            "grid_template_columns": null,
            "grid_template_rows": null,
            "height": null,
            "justify_content": null,
            "justify_items": null,
            "left": null,
            "margin": null,
            "max_height": null,
            "max_width": null,
            "min_height": null,
            "min_width": null,
            "object_fit": null,
            "object_position": null,
            "order": null,
            "overflow": null,
            "overflow_x": null,
            "overflow_y": null,
            "padding": null,
            "right": null,
            "top": null,
            "visibility": null,
            "width": null
          }
        },
        "877b4c6b9be34414b7d633838525d270": {
          "model_module": "@jupyter-widgets/controls",
          "model_module_version": "1.5.0",
          "model_name": "ProgressStyleModel",
          "state": {
            "_model_module": "@jupyter-widgets/controls",
            "_model_module_version": "1.5.0",
            "_model_name": "ProgressStyleModel",
            "_view_count": null,
            "_view_module": "@jupyter-widgets/base",
            "_view_module_version": "1.2.0",
            "_view_name": "StyleView",
            "bar_color": null,
            "description_width": ""
          }
        },
        "89b01df0d207492cb182af981ac6f348": {
          "model_module": "@jupyter-widgets/base",
          "model_module_version": "1.2.0",
          "model_name": "LayoutModel",
          "state": {
            "_model_module": "@jupyter-widgets/base",
            "_model_module_version": "1.2.0",
            "_model_name": "LayoutModel",
            "_view_count": null,
            "_view_module": "@jupyter-widgets/base",
            "_view_module_version": "1.2.0",
            "_view_name": "LayoutView",
            "align_content": null,
            "align_items": null,
            "align_self": null,
            "border": null,
            "bottom": null,
            "display": null,
            "flex": null,
            "flex_flow": null,
            "grid_area": null,
            "grid_auto_columns": null,
            "grid_auto_flow": null,
            "grid_auto_rows": null,
            "grid_column": null,
            "grid_gap": null,
            "grid_row": null,
            "grid_template_areas": null,
            "grid_template_columns": null,
            "grid_template_rows": null,
            "height": null,
            "justify_content": null,
            "justify_items": null,
            "left": null,
            "margin": null,
            "max_height": null,
            "max_width": null,
            "min_height": null,
            "min_width": null,
            "object_fit": null,
            "object_position": null,
            "order": null,
            "overflow": null,
            "overflow_x": null,
            "overflow_y": null,
            "padding": null,
            "right": null,
            "top": null,
            "visibility": null,
            "width": null
          }
        },
        "8aaf0fe518724b3a8cbefd2a9cbd97d8": {
          "model_module": "@jupyter-widgets/controls",
          "model_module_version": "1.5.0",
          "model_name": "ProgressStyleModel",
          "state": {
            "_model_module": "@jupyter-widgets/controls",
            "_model_module_version": "1.5.0",
            "_model_name": "ProgressStyleModel",
            "_view_count": null,
            "_view_module": "@jupyter-widgets/base",
            "_view_module_version": "1.2.0",
            "_view_name": "StyleView",
            "bar_color": null,
            "description_width": ""
          }
        },
        "8ce70fdf21ab4f508054cc8d3be5b2da": {
          "model_module": "@jupyter-widgets/controls",
          "model_module_version": "1.5.0",
          "model_name": "HTMLModel",
          "state": {
            "_dom_classes": [],
            "_model_module": "@jupyter-widgets/controls",
            "_model_module_version": "1.5.0",
            "_model_name": "HTMLModel",
            "_view_count": null,
            "_view_module": "@jupyter-widgets/controls",
            "_view_module_version": "1.5.0",
            "_view_name": "HTMLView",
            "description": "",
            "description_tooltip": null,
            "layout": "IPY_MODEL_c67cdf85b5cf4feeb4488ba5a1b2d9b3",
            "placeholder": "​",
            "style": "IPY_MODEL_698f6bf9289643d79606f0879f9c349a",
            "value": " 440M/440M [00:03&lt;00:00, 128MB/s]"
          }
        },
        "8f909eaf03e2402d832f521bff317f54": {
          "model_module": "@jupyter-widgets/controls",
          "model_module_version": "1.5.0",
          "model_name": "DescriptionStyleModel",
          "state": {
            "_model_module": "@jupyter-widgets/controls",
            "_model_module_version": "1.5.0",
            "_model_name": "DescriptionStyleModel",
            "_view_count": null,
            "_view_module": "@jupyter-widgets/base",
            "_view_module_version": "1.2.0",
            "_view_name": "StyleView",
            "description_width": ""
          }
        },
        "9275f6dd25e847b5aabc01985afe6014": {
          "model_module": "@jupyter-widgets/base",
          "model_module_version": "1.2.0",
          "model_name": "LayoutModel",
          "state": {
            "_model_module": "@jupyter-widgets/base",
            "_model_module_version": "1.2.0",
            "_model_name": "LayoutModel",
            "_view_count": null,
            "_view_module": "@jupyter-widgets/base",
            "_view_module_version": "1.2.0",
            "_view_name": "LayoutView",
            "align_content": null,
            "align_items": null,
            "align_self": null,
            "border": null,
            "bottom": null,
            "display": null,
            "flex": null,
            "flex_flow": null,
            "grid_area": null,
            "grid_auto_columns": null,
            "grid_auto_flow": null,
            "grid_auto_rows": null,
            "grid_column": null,
            "grid_gap": null,
            "grid_row": null,
            "grid_template_areas": null,
            "grid_template_columns": null,
            "grid_template_rows": null,
            "height": null,
            "justify_content": null,
            "justify_items": null,
            "left": null,
            "margin": null,
            "max_height": null,
            "max_width": null,
            "min_height": null,
            "min_width": null,
            "object_fit": null,
            "object_position": null,
            "order": null,
            "overflow": null,
            "overflow_x": null,
            "overflow_y": null,
            "padding": null,
            "right": null,
            "top": null,
            "visibility": null,
            "width": null
          }
        },
        "941a29f0f4574cddb66a3522e28c3882": {
          "model_module": "@jupyter-widgets/controls",
          "model_module_version": "1.5.0",
          "model_name": "HTMLModel",
          "state": {
            "_dom_classes": [],
            "_model_module": "@jupyter-widgets/controls",
            "_model_module_version": "1.5.0",
            "_model_name": "HTMLModel",
            "_view_count": null,
            "_view_module": "@jupyter-widgets/controls",
            "_view_module_version": "1.5.0",
            "_view_name": "HTMLView",
            "description": "",
            "description_tooltip": null,
            "layout": "IPY_MODEL_385be8639cd144ea8459f183423d5a54",
            "placeholder": "​",
            "style": "IPY_MODEL_fc126a727b0744afbb6fd210c31472ff",
            "value": " 466k/466k [00:00&lt;00:00, 19.0MB/s]"
          }
        },
        "9520b7ea9f94405a92969567e71490b7": {
          "model_module": "@jupyter-widgets/controls",
          "model_module_version": "1.5.0",
          "model_name": "HBoxModel",
          "state": {
            "_dom_classes": [],
            "_model_module": "@jupyter-widgets/controls",
            "_model_module_version": "1.5.0",
            "_model_name": "HBoxModel",
            "_view_count": null,
            "_view_module": "@jupyter-widgets/controls",
            "_view_module_version": "1.5.0",
            "_view_name": "HBoxView",
            "box_style": "",
            "children": [
              "IPY_MODEL_beae7e19e80f44d782ec9639935eeddb",
              "IPY_MODEL_b98aea617e8140ec8c4b10cf29d075a1",
              "IPY_MODEL_242787d6ca7c4de098ef2ffdbd4783af"
            ],
            "layout": "IPY_MODEL_f49deab74ed8458686c8a78432691144"
          }
        },
        "952d648e26c146348ee43307c8fdcc5d": {
          "model_module": "@jupyter-widgets/controls",
          "model_module_version": "1.5.0",
          "model_name": "HTMLModel",
          "state": {
            "_dom_classes": [],
            "_model_module": "@jupyter-widgets/controls",
            "_model_module_version": "1.5.0",
            "_model_name": "HTMLModel",
            "_view_count": null,
            "_view_module": "@jupyter-widgets/controls",
            "_view_module_version": "1.5.0",
            "_view_name": "HTMLView",
            "description": "",
            "description_tooltip": null,
            "layout": "IPY_MODEL_bcd672a1adf544d4828c9deef2eefe76",
            "placeholder": "​",
            "style": "IPY_MODEL_fbe4a4511aae4aec88d3312c3fffe8e9",
            "value": " 28.0/28.0 [00:00&lt;00:00, 1.91kB/s]"
          }
        },
        "95bb197516aa4deaa8d895c46c17fd5b": {
          "model_module": "@jupyter-widgets/controls",
          "model_module_version": "1.5.0",
          "model_name": "DescriptionStyleModel",
          "state": {
            "_model_module": "@jupyter-widgets/controls",
            "_model_module_version": "1.5.0",
            "_model_name": "DescriptionStyleModel",
            "_view_count": null,
            "_view_module": "@jupyter-widgets/base",
            "_view_module_version": "1.2.0",
            "_view_name": "StyleView",
            "description_width": ""
          }
        },
        "981b535d5af0434eadcbe4714ef963b9": {
          "model_module": "@jupyter-widgets/controls",
          "model_module_version": "1.5.0",
          "model_name": "FloatProgressModel",
          "state": {
            "_dom_classes": [],
            "_model_module": "@jupyter-widgets/controls",
            "_model_module_version": "1.5.0",
            "_model_name": "FloatProgressModel",
            "_view_count": null,
            "_view_module": "@jupyter-widgets/controls",
            "_view_module_version": "1.5.0",
            "_view_name": "ProgressView",
            "bar_style": "success",
            "description": "",
            "description_tooltip": null,
            "layout": "IPY_MODEL_ccdd2f4945094a2097cd33b1909ba524",
            "max": 440449768,
            "min": 0,
            "orientation": "horizontal",
            "style": "IPY_MODEL_fdba5956e010404f8bdb999f1067b122",
            "value": 440449768
          }
        },
        "a269826c0b8c4721ba77ef3570fad28b": {
          "model_module": "@jupyter-widgets/controls",
          "model_module_version": "1.5.0",
          "model_name": "HTMLModel",
          "state": {
            "_dom_classes": [],
            "_model_module": "@jupyter-widgets/controls",
            "_model_module_version": "1.5.0",
            "_model_name": "HTMLModel",
            "_view_count": null,
            "_view_module": "@jupyter-widgets/controls",
            "_view_module_version": "1.5.0",
            "_view_name": "HTMLView",
            "description": "",
            "description_tooltip": null,
            "layout": "IPY_MODEL_513f175b45b44818b256b7cb045085bd",
            "placeholder": "​",
            "style": "IPY_MODEL_dab8229db5284c2085fd565b361341ac",
            "value": " 1.88M/1.88M [00:00&lt;00:00, 8.51MB/s]"
          }
        },
        "a282a0daabba43f1bc8d17cada844408": {
          "model_module": "@jupyter-widgets/controls",
          "model_module_version": "1.5.0",
          "model_name": "ProgressStyleModel",
          "state": {
            "_model_module": "@jupyter-widgets/controls",
            "_model_module_version": "1.5.0",
            "_model_name": "ProgressStyleModel",
            "_view_count": null,
            "_view_module": "@jupyter-widgets/base",
            "_view_module_version": "1.2.0",
            "_view_name": "StyleView",
            "bar_color": null,
            "description_width": ""
          }
        },
        "a4683849fe5742d8b537bb9ef25c352a": {
          "model_module": "@jupyter-widgets/base",
          "model_module_version": "1.2.0",
          "model_name": "LayoutModel",
          "state": {
            "_model_module": "@jupyter-widgets/base",
            "_model_module_version": "1.2.0",
            "_model_name": "LayoutModel",
            "_view_count": null,
            "_view_module": "@jupyter-widgets/base",
            "_view_module_version": "1.2.0",
            "_view_name": "LayoutView",
            "align_content": null,
            "align_items": null,
            "align_self": null,
            "border": null,
            "bottom": null,
            "display": null,
            "flex": null,
            "flex_flow": null,
            "grid_area": null,
            "grid_auto_columns": null,
            "grid_auto_flow": null,
            "grid_auto_rows": null,
            "grid_column": null,
            "grid_gap": null,
            "grid_row": null,
            "grid_template_areas": null,
            "grid_template_columns": null,
            "grid_template_rows": null,
            "height": null,
            "justify_content": null,
            "justify_items": null,
            "left": null,
            "margin": null,
            "max_height": null,
            "max_width": null,
            "min_height": null,
            "min_width": null,
            "object_fit": null,
            "object_position": null,
            "order": null,
            "overflow": null,
            "overflow_x": null,
            "overflow_y": null,
            "padding": null,
            "right": null,
            "top": null,
            "visibility": null,
            "width": null
          }
        },
        "a5b91ad68cbc41efb2f8ebd46fb6018b": {
          "model_module": "@jupyter-widgets/controls",
          "model_module_version": "1.5.0",
          "model_name": "ProgressStyleModel",
          "state": {
            "_model_module": "@jupyter-widgets/controls",
            "_model_module_version": "1.5.0",
            "_model_name": "ProgressStyleModel",
            "_view_count": null,
            "_view_module": "@jupyter-widgets/base",
            "_view_module_version": "1.2.0",
            "_view_name": "StyleView",
            "bar_color": null,
            "description_width": ""
          }
        },
        "a9a1d546d16642339442821b5215f5ff": {
          "model_module": "@jupyter-widgets/controls",
          "model_module_version": "1.5.0",
          "model_name": "HBoxModel",
          "state": {
            "_dom_classes": [],
            "_model_module": "@jupyter-widgets/controls",
            "_model_module_version": "1.5.0",
            "_model_name": "HBoxModel",
            "_view_count": null,
            "_view_module": "@jupyter-widgets/controls",
            "_view_module_version": "1.5.0",
            "_view_name": "HBoxView",
            "box_style": "",
            "children": [
              "IPY_MODEL_3d8586d52d41423b81a4c0ec93eb494b",
              "IPY_MODEL_436976e76eed4fe78ec24673e552f684",
              "IPY_MODEL_65a48b30b64a44ab8b671599e8a6194a"
            ],
            "layout": "IPY_MODEL_0f4fec6e28a141079bc56a96b7e499c6"
          }
        },
        "aae0da0e78d24113947872678f338120": {
          "model_module": "@jupyter-widgets/base",
          "model_module_version": "1.2.0",
          "model_name": "LayoutModel",
          "state": {
            "_model_module": "@jupyter-widgets/base",
            "_model_module_version": "1.2.0",
            "_model_name": "LayoutModel",
            "_view_count": null,
            "_view_module": "@jupyter-widgets/base",
            "_view_module_version": "1.2.0",
            "_view_name": "LayoutView",
            "align_content": null,
            "align_items": null,
            "align_self": null,
            "border": null,
            "bottom": null,
            "display": null,
            "flex": null,
            "flex_flow": null,
            "grid_area": null,
            "grid_auto_columns": null,
            "grid_auto_flow": null,
            "grid_auto_rows": null,
            "grid_column": null,
            "grid_gap": null,
            "grid_row": null,
            "grid_template_areas": null,
            "grid_template_columns": null,
            "grid_template_rows": null,
            "height": null,
            "justify_content": null,
            "justify_items": null,
            "left": null,
            "margin": null,
            "max_height": null,
            "max_width": null,
            "min_height": null,
            "min_width": null,
            "object_fit": null,
            "object_position": null,
            "order": null,
            "overflow": null,
            "overflow_x": null,
            "overflow_y": null,
            "padding": null,
            "right": null,
            "top": null,
            "visibility": null,
            "width": null
          }
        },
        "ada26aee88e247ebb01d11e29151bf4c": {
          "model_module": "@jupyter-widgets/controls",
          "model_module_version": "1.5.0",
          "model_name": "ProgressStyleModel",
          "state": {
            "_model_module": "@jupyter-widgets/controls",
            "_model_module_version": "1.5.0",
            "_model_name": "ProgressStyleModel",
            "_view_count": null,
            "_view_module": "@jupyter-widgets/base",
            "_view_module_version": "1.2.0",
            "_view_name": "StyleView",
            "bar_color": null,
            "description_width": ""
          }
        },
        "aebd0fcc9b294131bc7dff503e86b67a": {
          "model_module": "@jupyter-widgets/base",
          "model_module_version": "1.2.0",
          "model_name": "LayoutModel",
          "state": {
            "_model_module": "@jupyter-widgets/base",
            "_model_module_version": "1.2.0",
            "_model_name": "LayoutModel",
            "_view_count": null,
            "_view_module": "@jupyter-widgets/base",
            "_view_module_version": "1.2.0",
            "_view_name": "LayoutView",
            "align_content": null,
            "align_items": null,
            "align_self": null,
            "border": null,
            "bottom": null,
            "display": null,
            "flex": null,
            "flex_flow": null,
            "grid_area": null,
            "grid_auto_columns": null,
            "grid_auto_flow": null,
            "grid_auto_rows": null,
            "grid_column": null,
            "grid_gap": null,
            "grid_row": null,
            "grid_template_areas": null,
            "grid_template_columns": null,
            "grid_template_rows": null,
            "height": null,
            "justify_content": null,
            "justify_items": null,
            "left": null,
            "margin": null,
            "max_height": null,
            "max_width": null,
            "min_height": null,
            "min_width": null,
            "object_fit": null,
            "object_position": null,
            "order": null,
            "overflow": null,
            "overflow_x": null,
            "overflow_y": null,
            "padding": null,
            "right": null,
            "top": null,
            "visibility": null,
            "width": null
          }
        },
        "aed9c440889b4ac283b40434f0d68a06": {
          "model_module": "@jupyter-widgets/base",
          "model_module_version": "1.2.0",
          "model_name": "LayoutModel",
          "state": {
            "_model_module": "@jupyter-widgets/base",
            "_model_module_version": "1.2.0",
            "_model_name": "LayoutModel",
            "_view_count": null,
            "_view_module": "@jupyter-widgets/base",
            "_view_module_version": "1.2.0",
            "_view_name": "LayoutView",
            "align_content": null,
            "align_items": null,
            "align_self": null,
            "border": null,
            "bottom": null,
            "display": null,
            "flex": null,
            "flex_flow": null,
            "grid_area": null,
            "grid_auto_columns": null,
            "grid_auto_flow": null,
            "grid_auto_rows": null,
            "grid_column": null,
            "grid_gap": null,
            "grid_row": null,
            "grid_template_areas": null,
            "grid_template_columns": null,
            "grid_template_rows": null,
            "height": null,
            "justify_content": null,
            "justify_items": null,
            "left": null,
            "margin": null,
            "max_height": null,
            "max_width": null,
            "min_height": null,
            "min_width": null,
            "object_fit": null,
            "object_position": null,
            "order": null,
            "overflow": null,
            "overflow_x": null,
            "overflow_y": null,
            "padding": null,
            "right": null,
            "top": null,
            "visibility": null,
            "width": null
          }
        },
        "b00f3b6bbcd544f0b49f6f71bff005e4": {
          "model_module": "@jupyter-widgets/controls",
          "model_module_version": "1.5.0",
          "model_name": "DescriptionStyleModel",
          "state": {
            "_model_module": "@jupyter-widgets/controls",
            "_model_module_version": "1.5.0",
            "_model_name": "DescriptionStyleModel",
            "_view_count": null,
            "_view_module": "@jupyter-widgets/base",
            "_view_module_version": "1.2.0",
            "_view_name": "StyleView",
            "description_width": ""
          }
        },
        "b781ac51647f40bfb6272f4197039f2c": {
          "model_module": "@jupyter-widgets/controls",
          "model_module_version": "1.5.0",
          "model_name": "ProgressStyleModel",
          "state": {
            "_model_module": "@jupyter-widgets/controls",
            "_model_module_version": "1.5.0",
            "_model_name": "ProgressStyleModel",
            "_view_count": null,
            "_view_module": "@jupyter-widgets/base",
            "_view_module_version": "1.2.0",
            "_view_name": "StyleView",
            "bar_color": null,
            "description_width": ""
          }
        },
        "b98aea617e8140ec8c4b10cf29d075a1": {
          "model_module": "@jupyter-widgets/controls",
          "model_module_version": "1.5.0",
          "model_name": "FloatProgressModel",
          "state": {
            "_dom_classes": [],
            "_model_module": "@jupyter-widgets/controls",
            "_model_module_version": "1.5.0",
            "_model_name": "FloatProgressModel",
            "_view_count": null,
            "_view_module": "@jupyter-widgets/controls",
            "_view_module_version": "1.5.0",
            "_view_name": "ProgressView",
            "bar_style": "success",
            "description": "",
            "description_tooltip": null,
            "layout": "IPY_MODEL_f6345efd451b481f8511f39e8934c6da",
            "max": 1466,
            "min": 0,
            "orientation": "horizontal",
            "style": "IPY_MODEL_b781ac51647f40bfb6272f4197039f2c",
            "value": 1466
          }
        },
        "bcd56b2d137c42cab51186070f5435d0": {
          "model_module": "@jupyter-widgets/controls",
          "model_module_version": "1.5.0",
          "model_name": "DescriptionStyleModel",
          "state": {
            "_model_module": "@jupyter-widgets/controls",
            "_model_module_version": "1.5.0",
            "_model_name": "DescriptionStyleModel",
            "_view_count": null,
            "_view_module": "@jupyter-widgets/base",
            "_view_module_version": "1.2.0",
            "_view_name": "StyleView",
            "description_width": ""
          }
        },
        "bcd672a1adf544d4828c9deef2eefe76": {
          "model_module": "@jupyter-widgets/base",
          "model_module_version": "1.2.0",
          "model_name": "LayoutModel",
          "state": {
            "_model_module": "@jupyter-widgets/base",
            "_model_module_version": "1.2.0",
            "_model_name": "LayoutModel",
            "_view_count": null,
            "_view_module": "@jupyter-widgets/base",
            "_view_module_version": "1.2.0",
            "_view_name": "LayoutView",
            "align_content": null,
            "align_items": null,
            "align_self": null,
            "border": null,
            "bottom": null,
            "display": null,
            "flex": null,
            "flex_flow": null,
            "grid_area": null,
            "grid_auto_columns": null,
            "grid_auto_flow": null,
            "grid_auto_rows": null,
            "grid_column": null,
            "grid_gap": null,
            "grid_row": null,
            "grid_template_areas": null,
            "grid_template_columns": null,
            "grid_template_rows": null,
            "height": null,
            "justify_content": null,
            "justify_items": null,
            "left": null,
            "margin": null,
            "max_height": null,
            "max_width": null,
            "min_height": null,
            "min_width": null,
            "object_fit": null,
            "object_position": null,
            "order": null,
            "overflow": null,
            "overflow_x": null,
            "overflow_y": null,
            "padding": null,
            "right": null,
            "top": null,
            "visibility": null,
            "width": null
          }
        },
        "beae7e19e80f44d782ec9639935eeddb": {
          "model_module": "@jupyter-widgets/controls",
          "model_module_version": "1.5.0",
          "model_name": "HTMLModel",
          "state": {
            "_dom_classes": [],
            "_model_module": "@jupyter-widgets/controls",
            "_model_module_version": "1.5.0",
            "_model_name": "HTMLModel",
            "_view_count": null,
            "_view_module": "@jupyter-widgets/controls",
            "_view_module_version": "1.5.0",
            "_view_name": "HTMLView",
            "description": "",
            "description_tooltip": null,
            "layout": "IPY_MODEL_58409c3b37964ea1b22c6de7b69227fd",
            "placeholder": "​",
            "style": "IPY_MODEL_54530d56a91744708f1b53ca0db9caa0",
            "value": "Downloading (…)lve/main/config.json: 100%"
          }
        },
        "c0f8dd9a38c44905b99abaa45c7e4642": {
          "model_module": "@jupyter-widgets/controls",
          "model_module_version": "1.5.0",
          "model_name": "DescriptionStyleModel",
          "state": {
            "_model_module": "@jupyter-widgets/controls",
            "_model_module_version": "1.5.0",
            "_model_name": "DescriptionStyleModel",
            "_view_count": null,
            "_view_module": "@jupyter-widgets/base",
            "_view_module_version": "1.2.0",
            "_view_name": "StyleView",
            "description_width": ""
          }
        },
        "c31b06416c3841149dfa0b8d6d0b956c": {
          "model_module": "@jupyter-widgets/controls",
          "model_module_version": "1.5.0",
          "model_name": "FloatProgressModel",
          "state": {
            "_dom_classes": [],
            "_model_module": "@jupyter-widgets/controls",
            "_model_module_version": "1.5.0",
            "_model_name": "FloatProgressModel",
            "_view_count": null,
            "_view_module": "@jupyter-widgets/controls",
            "_view_module_version": "1.5.0",
            "_view_name": "ProgressView",
            "bar_style": "success",
            "description": "",
            "description_tooltip": null,
            "layout": "IPY_MODEL_aae0da0e78d24113947872678f338120",
            "max": 28,
            "min": 0,
            "orientation": "horizontal",
            "style": "IPY_MODEL_a282a0daabba43f1bc8d17cada844408",
            "value": 28
          }
        },
        "c40429823fc84d199ad24146ab6e46bc": {
          "model_module": "@jupyter-widgets/controls",
          "model_module_version": "1.5.0",
          "model_name": "HTMLModel",
          "state": {
            "_dom_classes": [],
            "_model_module": "@jupyter-widgets/controls",
            "_model_module_version": "1.5.0",
            "_model_name": "HTMLModel",
            "_view_count": null,
            "_view_module": "@jupyter-widgets/controls",
            "_view_module_version": "1.5.0",
            "_view_name": "HTMLView",
            "description": "",
            "description_tooltip": null,
            "layout": "IPY_MODEL_a4683849fe5742d8b537bb9ef25c352a",
            "placeholder": "​",
            "style": "IPY_MODEL_95bb197516aa4deaa8d895c46c17fd5b",
            "value": "Downloading (…)solve/main/vocab.txt: 100%"
          }
        },
        "c67cdf85b5cf4feeb4488ba5a1b2d9b3": {
          "model_module": "@jupyter-widgets/base",
          "model_module_version": "1.2.0",
          "model_name": "LayoutModel",
          "state": {
            "_model_module": "@jupyter-widgets/base",
            "_model_module_version": "1.2.0",
            "_model_name": "LayoutModel",
            "_view_count": null,
            "_view_module": "@jupyter-widgets/base",
            "_view_module_version": "1.2.0",
            "_view_name": "LayoutView",
            "align_content": null,
            "align_items": null,
            "align_self": null,
            "border": null,
            "bottom": null,
            "display": null,
            "flex": null,
            "flex_flow": null,
            "grid_area": null,
            "grid_auto_columns": null,
            "grid_auto_flow": null,
            "grid_auto_rows": null,
            "grid_column": null,
            "grid_gap": null,
            "grid_row": null,
            "grid_template_areas": null,
            "grid_template_columns": null,
            "grid_template_rows": null,
            "height": null,
            "justify_content": null,
            "justify_items": null,
            "left": null,
            "margin": null,
            "max_height": null,
            "max_width": null,
            "min_height": null,
            "min_width": null,
            "object_fit": null,
            "object_position": null,
            "order": null,
            "overflow": null,
            "overflow_x": null,
            "overflow_y": null,
            "padding": null,
            "right": null,
            "top": null,
            "visibility": null,
            "width": null
          }
        },
        "cc41ead347d7468bad26043c7b171697": {
          "model_module": "@jupyter-widgets/base",
          "model_module_version": "1.2.0",
          "model_name": "LayoutModel",
          "state": {
            "_model_module": "@jupyter-widgets/base",
            "_model_module_version": "1.2.0",
            "_model_name": "LayoutModel",
            "_view_count": null,
            "_view_module": "@jupyter-widgets/base",
            "_view_module_version": "1.2.0",
            "_view_name": "LayoutView",
            "align_content": null,
            "align_items": null,
            "align_self": null,
            "border": null,
            "bottom": null,
            "display": null,
            "flex": null,
            "flex_flow": null,
            "grid_area": null,
            "grid_auto_columns": null,
            "grid_auto_flow": null,
            "grid_auto_rows": null,
            "grid_column": null,
            "grid_gap": null,
            "grid_row": null,
            "grid_template_areas": null,
            "grid_template_columns": null,
            "grid_template_rows": null,
            "height": null,
            "justify_content": null,
            "justify_items": null,
            "left": null,
            "margin": null,
            "max_height": null,
            "max_width": null,
            "min_height": null,
            "min_width": null,
            "object_fit": null,
            "object_position": null,
            "order": null,
            "overflow": null,
            "overflow_x": null,
            "overflow_y": null,
            "padding": null,
            "right": null,
            "top": null,
            "visibility": null,
            "width": null
          }
        },
        "cc52a75de72442c2a529b659d0debf9d": {
          "model_module": "@jupyter-widgets/controls",
          "model_module_version": "1.5.0",
          "model_name": "HBoxModel",
          "state": {
            "_dom_classes": [],
            "_model_module": "@jupyter-widgets/controls",
            "_model_module_version": "1.5.0",
            "_model_name": "HBoxModel",
            "_view_count": null,
            "_view_module": "@jupyter-widgets/controls",
            "_view_module_version": "1.5.0",
            "_view_name": "HBoxView",
            "box_style": "",
            "children": [
              "IPY_MODEL_c40429823fc84d199ad24146ab6e46bc",
              "IPY_MODEL_625df141d2214f5683abb07f0bbc0c00",
              "IPY_MODEL_16099c0a97b4471f957a2f3c4e971398"
            ],
            "layout": "IPY_MODEL_aed9c440889b4ac283b40434f0d68a06"
          }
        },
        "cc61433135fd4276843936af104ec0bc": {
          "model_module": "@jupyter-widgets/controls",
          "model_module_version": "1.5.0",
          "model_name": "DescriptionStyleModel",
          "state": {
            "_model_module": "@jupyter-widgets/controls",
            "_model_module_version": "1.5.0",
            "_model_name": "DescriptionStyleModel",
            "_view_count": null,
            "_view_module": "@jupyter-widgets/base",
            "_view_module_version": "1.2.0",
            "_view_name": "StyleView",
            "description_width": ""
          }
        },
        "ccdd2f4945094a2097cd33b1909ba524": {
          "model_module": "@jupyter-widgets/base",
          "model_module_version": "1.2.0",
          "model_name": "LayoutModel",
          "state": {
            "_model_module": "@jupyter-widgets/base",
            "_model_module_version": "1.2.0",
            "_model_name": "LayoutModel",
            "_view_count": null,
            "_view_module": "@jupyter-widgets/base",
            "_view_module_version": "1.2.0",
            "_view_name": "LayoutView",
            "align_content": null,
            "align_items": null,
            "align_self": null,
            "border": null,
            "bottom": null,
            "display": null,
            "flex": null,
            "flex_flow": null,
            "grid_area": null,
            "grid_auto_columns": null,
            "grid_auto_flow": null,
            "grid_auto_rows": null,
            "grid_column": null,
            "grid_gap": null,
            "grid_row": null,
            "grid_template_areas": null,
            "grid_template_columns": null,
            "grid_template_rows": null,
            "height": null,
            "justify_content": null,
            "justify_items": null,
            "left": null,
            "margin": null,
            "max_height": null,
            "max_width": null,
            "min_height": null,
            "min_width": null,
            "object_fit": null,
            "object_position": null,
            "order": null,
            "overflow": null,
            "overflow_x": null,
            "overflow_y": null,
            "padding": null,
            "right": null,
            "top": null,
            "visibility": null,
            "width": null
          }
        },
        "cf532d8179d840d398cdfe1bfe4f332b": {
          "model_module": "@jupyter-widgets/controls",
          "model_module_version": "1.5.0",
          "model_name": "FloatProgressModel",
          "state": {
            "_dom_classes": [],
            "_model_module": "@jupyter-widgets/controls",
            "_model_module_version": "1.5.0",
            "_model_name": "FloatProgressModel",
            "_view_count": null,
            "_view_module": "@jupyter-widgets/controls",
            "_view_module_version": "1.5.0",
            "_view_name": "ProgressView",
            "bar_style": "success",
            "description": "",
            "description_tooltip": null,
            "layout": "IPY_MODEL_aebd0fcc9b294131bc7dff503e86b67a",
            "max": 1879553,
            "min": 0,
            "orientation": "horizontal",
            "style": "IPY_MODEL_70fef04640524143bf753b3aea3f0335",
            "value": 1879553
          }
        },
        "d09d6d2da3bb4a189816f4fd2e74a76d": {
          "model_module": "@jupyter-widgets/controls",
          "model_module_version": "1.5.0",
          "model_name": "HTMLModel",
          "state": {
            "_dom_classes": [],
            "_model_module": "@jupyter-widgets/controls",
            "_model_module_version": "1.5.0",
            "_model_name": "HTMLModel",
            "_view_count": null,
            "_view_module": "@jupyter-widgets/controls",
            "_view_module_version": "1.5.0",
            "_view_name": "HTMLView",
            "description": "",
            "description_tooltip": null,
            "layout": "IPY_MODEL_257b56590f344073bee70416596a28f1",
            "placeholder": "​",
            "style": "IPY_MODEL_cc61433135fd4276843936af104ec0bc",
            "value": "Downloading (…)lve/main/config.json: 100%"
          }
        },
        "d582fb7c18684921acf0dd3606857b7e": {
          "model_module": "@jupyter-widgets/base",
          "model_module_version": "1.2.0",
          "model_name": "LayoutModel",
          "state": {
            "_model_module": "@jupyter-widgets/base",
            "_model_module_version": "1.2.0",
            "_model_name": "LayoutModel",
            "_view_count": null,
            "_view_module": "@jupyter-widgets/base",
            "_view_module_version": "1.2.0",
            "_view_name": "LayoutView",
            "align_content": null,
            "align_items": null,
            "align_self": null,
            "border": null,
            "bottom": null,
            "display": null,
            "flex": null,
            "flex_flow": null,
            "grid_area": null,
            "grid_auto_columns": null,
            "grid_auto_flow": null,
            "grid_auto_rows": null,
            "grid_column": null,
            "grid_gap": null,
            "grid_row": null,
            "grid_template_areas": null,
            "grid_template_columns": null,
            "grid_template_rows": null,
            "height": null,
            "justify_content": null,
            "justify_items": null,
            "left": null,
            "margin": null,
            "max_height": null,
            "max_width": null,
            "min_height": null,
            "min_width": null,
            "object_fit": null,
            "object_position": null,
            "order": null,
            "overflow": null,
            "overflow_x": null,
            "overflow_y": null,
            "padding": null,
            "right": null,
            "top": null,
            "visibility": null,
            "width": null
          }
        },
        "dab8229db5284c2085fd565b361341ac": {
          "model_module": "@jupyter-widgets/controls",
          "model_module_version": "1.5.0",
          "model_name": "DescriptionStyleModel",
          "state": {
            "_model_module": "@jupyter-widgets/controls",
            "_model_module_version": "1.5.0",
            "_model_name": "DescriptionStyleModel",
            "_view_count": null,
            "_view_module": "@jupyter-widgets/base",
            "_view_module_version": "1.2.0",
            "_view_name": "StyleView",
            "description_width": ""
          }
        },
        "db1536d2ee9c48b78783aff732caf57e": {
          "model_module": "@jupyter-widgets/controls",
          "model_module_version": "1.5.0",
          "model_name": "HTMLModel",
          "state": {
            "_dom_classes": [],
            "_model_module": "@jupyter-widgets/controls",
            "_model_module_version": "1.5.0",
            "_model_name": "HTMLModel",
            "_view_count": null,
            "_view_module": "@jupyter-widgets/controls",
            "_view_module_version": "1.5.0",
            "_view_name": "HTMLView",
            "description": "",
            "description_tooltip": null,
            "layout": "IPY_MODEL_9275f6dd25e847b5aabc01985afe6014",
            "placeholder": "​",
            "style": "IPY_MODEL_bcd56b2d137c42cab51186070f5435d0",
            "value": "Downloading (…)tencepiece.bpe.model: 100%"
          }
        },
        "ddee008b52fa47c8aa2527661a708ec6": {
          "model_module": "@jupyter-widgets/controls",
          "model_module_version": "1.5.0",
          "model_name": "HBoxModel",
          "state": {
            "_dom_classes": [],
            "_model_module": "@jupyter-widgets/controls",
            "_model_module_version": "1.5.0",
            "_model_name": "HBoxModel",
            "_view_count": null,
            "_view_module": "@jupyter-widgets/controls",
            "_view_module_version": "1.5.0",
            "_view_name": "HBoxView",
            "box_style": "",
            "children": [
              "IPY_MODEL_d09d6d2da3bb4a189816f4fd2e74a76d",
              "IPY_MODEL_fe7e605840ff41cab1030264f7ac1f64",
              "IPY_MODEL_fea0e847a49c415b85ed6772b51d7fc1"
            ],
            "layout": "IPY_MODEL_079164a3837b4a8e977ec3658cb8f39d"
          }
        },
        "e07fda3b6c4e46d78ace2b04a21d49a1": {
          "model_module": "@jupyter-widgets/base",
          "model_module_version": "1.2.0",
          "model_name": "LayoutModel",
          "state": {
            "_model_module": "@jupyter-widgets/base",
            "_model_module_version": "1.2.0",
            "_model_name": "LayoutModel",
            "_view_count": null,
            "_view_module": "@jupyter-widgets/base",
            "_view_module_version": "1.2.0",
            "_view_name": "LayoutView",
            "align_content": null,
            "align_items": null,
            "align_self": null,
            "border": null,
            "bottom": null,
            "display": null,
            "flex": null,
            "flex_flow": null,
            "grid_area": null,
            "grid_auto_columns": null,
            "grid_auto_flow": null,
            "grid_auto_rows": null,
            "grid_column": null,
            "grid_gap": null,
            "grid_row": null,
            "grid_template_areas": null,
            "grid_template_columns": null,
            "grid_template_rows": null,
            "height": null,
            "justify_content": null,
            "justify_items": null,
            "left": null,
            "margin": null,
            "max_height": null,
            "max_width": null,
            "min_height": null,
            "min_width": null,
            "object_fit": null,
            "object_position": null,
            "order": null,
            "overflow": null,
            "overflow_x": null,
            "overflow_y": null,
            "padding": null,
            "right": null,
            "top": null,
            "visibility": null,
            "width": null
          }
        },
        "e3895cd14cd44db0816fb9f2bf935976": {
          "model_module": "@jupyter-widgets/base",
          "model_module_version": "1.2.0",
          "model_name": "LayoutModel",
          "state": {
            "_model_module": "@jupyter-widgets/base",
            "_model_module_version": "1.2.0",
            "_model_name": "LayoutModel",
            "_view_count": null,
            "_view_module": "@jupyter-widgets/base",
            "_view_module_version": "1.2.0",
            "_view_name": "LayoutView",
            "align_content": null,
            "align_items": null,
            "align_self": null,
            "border": null,
            "bottom": null,
            "display": null,
            "flex": null,
            "flex_flow": null,
            "grid_area": null,
            "grid_auto_columns": null,
            "grid_auto_flow": null,
            "grid_auto_rows": null,
            "grid_column": null,
            "grid_gap": null,
            "grid_row": null,
            "grid_template_areas": null,
            "grid_template_columns": null,
            "grid_template_rows": null,
            "height": null,
            "justify_content": null,
            "justify_items": null,
            "left": null,
            "margin": null,
            "max_height": null,
            "max_width": null,
            "min_height": null,
            "min_width": null,
            "object_fit": null,
            "object_position": null,
            "order": null,
            "overflow": null,
            "overflow_x": null,
            "overflow_y": null,
            "padding": null,
            "right": null,
            "top": null,
            "visibility": null,
            "width": null
          }
        },
        "e73ade784ae946d7989c9c104456bf24": {
          "model_module": "@jupyter-widgets/base",
          "model_module_version": "1.2.0",
          "model_name": "LayoutModel",
          "state": {
            "_model_module": "@jupyter-widgets/base",
            "_model_module_version": "1.2.0",
            "_model_name": "LayoutModel",
            "_view_count": null,
            "_view_module": "@jupyter-widgets/base",
            "_view_module_version": "1.2.0",
            "_view_name": "LayoutView",
            "align_content": null,
            "align_items": null,
            "align_self": null,
            "border": null,
            "bottom": null,
            "display": null,
            "flex": null,
            "flex_flow": null,
            "grid_area": null,
            "grid_auto_columns": null,
            "grid_auto_flow": null,
            "grid_auto_rows": null,
            "grid_column": null,
            "grid_gap": null,
            "grid_row": null,
            "grid_template_areas": null,
            "grid_template_columns": null,
            "grid_template_rows": null,
            "height": null,
            "justify_content": null,
            "justify_items": null,
            "left": null,
            "margin": null,
            "max_height": null,
            "max_width": null,
            "min_height": null,
            "min_width": null,
            "object_fit": null,
            "object_position": null,
            "order": null,
            "overflow": null,
            "overflow_x": null,
            "overflow_y": null,
            "padding": null,
            "right": null,
            "top": null,
            "visibility": null,
            "width": null
          }
        },
        "e7bc6e3a24d046dfb5e76f384617be84": {
          "model_module": "@jupyter-widgets/base",
          "model_module_version": "1.2.0",
          "model_name": "LayoutModel",
          "state": {
            "_model_module": "@jupyter-widgets/base",
            "_model_module_version": "1.2.0",
            "_model_name": "LayoutModel",
            "_view_count": null,
            "_view_module": "@jupyter-widgets/base",
            "_view_module_version": "1.2.0",
            "_view_name": "LayoutView",
            "align_content": null,
            "align_items": null,
            "align_self": null,
            "border": null,
            "bottom": null,
            "display": null,
            "flex": null,
            "flex_flow": null,
            "grid_area": null,
            "grid_auto_columns": null,
            "grid_auto_flow": null,
            "grid_auto_rows": null,
            "grid_column": null,
            "grid_gap": null,
            "grid_row": null,
            "grid_template_areas": null,
            "grid_template_columns": null,
            "grid_template_rows": null,
            "height": null,
            "justify_content": null,
            "justify_items": null,
            "left": null,
            "margin": null,
            "max_height": null,
            "max_width": null,
            "min_height": null,
            "min_width": null,
            "object_fit": null,
            "object_position": null,
            "order": null,
            "overflow": null,
            "overflow_x": null,
            "overflow_y": null,
            "padding": null,
            "right": null,
            "top": null,
            "visibility": null,
            "width": null
          }
        },
        "e7c4d255319d47e0a64d6d7218a215d7": {
          "model_module": "@jupyter-widgets/controls",
          "model_module_version": "1.5.0",
          "model_name": "DescriptionStyleModel",
          "state": {
            "_model_module": "@jupyter-widgets/controls",
            "_model_module_version": "1.5.0",
            "_model_name": "DescriptionStyleModel",
            "_view_count": null,
            "_view_module": "@jupyter-widgets/base",
            "_view_module_version": "1.2.0",
            "_view_name": "StyleView",
            "description_width": ""
          }
        },
        "e82ee0bf9260413c80fb47a0de1fe915": {
          "model_module": "@jupyter-widgets/controls",
          "model_module_version": "1.5.0",
          "model_name": "FloatProgressModel",
          "state": {
            "_dom_classes": [],
            "_model_module": "@jupyter-widgets/controls",
            "_model_module_version": "1.5.0",
            "_model_name": "FloatProgressModel",
            "_view_count": null,
            "_view_module": "@jupyter-widgets/controls",
            "_view_module_version": "1.5.0",
            "_view_name": "ProgressView",
            "bar_style": "success",
            "description": "",
            "description_tooltip": null,
            "layout": "IPY_MODEL_e9b928dc83fb428281be4518dda986e5",
            "max": 1794247767,
            "min": 0,
            "orientation": "horizontal",
            "style": "IPY_MODEL_654de3fafef24ef5956d1b93bd333396",
            "value": 1794247767
          }
        },
        "e9b928dc83fb428281be4518dda986e5": {
          "model_module": "@jupyter-widgets/base",
          "model_module_version": "1.2.0",
          "model_name": "LayoutModel",
          "state": {
            "_model_module": "@jupyter-widgets/base",
            "_model_module_version": "1.2.0",
            "_model_name": "LayoutModel",
            "_view_count": null,
            "_view_module": "@jupyter-widgets/base",
            "_view_module_version": "1.2.0",
            "_view_name": "LayoutView",
            "align_content": null,
            "align_items": null,
            "align_self": null,
            "border": null,
            "bottom": null,
            "display": null,
            "flex": null,
            "flex_flow": null,
            "grid_area": null,
            "grid_auto_columns": null,
            "grid_auto_flow": null,
            "grid_auto_rows": null,
            "grid_column": null,
            "grid_gap": null,
            "grid_row": null,
            "grid_template_areas": null,
            "grid_template_columns": null,
            "grid_template_rows": null,
            "height": null,
            "justify_content": null,
            "justify_items": null,
            "left": null,
            "margin": null,
            "max_height": null,
            "max_width": null,
            "min_height": null,
            "min_width": null,
            "object_fit": null,
            "object_position": null,
            "order": null,
            "overflow": null,
            "overflow_x": null,
            "overflow_y": null,
            "padding": null,
            "right": null,
            "top": null,
            "visibility": null,
            "width": null
          }
        },
        "ee19aba0b3224df28759dbf99834749d": {
          "model_module": "@jupyter-widgets/controls",
          "model_module_version": "1.5.0",
          "model_name": "DescriptionStyleModel",
          "state": {
            "_model_module": "@jupyter-widgets/controls",
            "_model_module_version": "1.5.0",
            "_model_name": "DescriptionStyleModel",
            "_view_count": null,
            "_view_module": "@jupyter-widgets/base",
            "_view_module_version": "1.2.0",
            "_view_name": "StyleView",
            "description_width": ""
          }
        },
        "eeb0a68ab96544a5a557d7e3d27f56a3": {
          "model_module": "@jupyter-widgets/controls",
          "model_module_version": "1.5.0",
          "model_name": "FloatProgressModel",
          "state": {
            "_dom_classes": [],
            "_model_module": "@jupyter-widgets/controls",
            "_model_module_version": "1.5.0",
            "_model_name": "FloatProgressModel",
            "_view_count": null,
            "_view_module": "@jupyter-widgets/controls",
            "_view_module_version": "1.5.0",
            "_view_name": "ProgressView",
            "bar_style": "success",
            "description": "",
            "description_tooltip": null,
            "layout": "IPY_MODEL_35917a43a0124768b8139e3e5cb2b1b8",
            "max": 1794247767,
            "min": 0,
            "orientation": "horizontal",
            "style": "IPY_MODEL_877b4c6b9be34414b7d633838525d270",
            "value": 1794247767
          }
        },
        "efcda6fa41644cc9ac1a5ba04e07b0b3": {
          "model_module": "@jupyter-widgets/controls",
          "model_module_version": "1.5.0",
          "model_name": "DescriptionStyleModel",
          "state": {
            "_model_module": "@jupyter-widgets/controls",
            "_model_module_version": "1.5.0",
            "_model_name": "DescriptionStyleModel",
            "_view_count": null,
            "_view_module": "@jupyter-widgets/base",
            "_view_module_version": "1.2.0",
            "_view_name": "StyleView",
            "description_width": ""
          }
        },
        "f1b1fcb460644976867c8047e18931a0": {
          "model_module": "@jupyter-widgets/base",
          "model_module_version": "1.2.0",
          "model_name": "LayoutModel",
          "state": {
            "_model_module": "@jupyter-widgets/base",
            "_model_module_version": "1.2.0",
            "_model_name": "LayoutModel",
            "_view_count": null,
            "_view_module": "@jupyter-widgets/base",
            "_view_module_version": "1.2.0",
            "_view_name": "LayoutView",
            "align_content": null,
            "align_items": null,
            "align_self": null,
            "border": null,
            "bottom": null,
            "display": null,
            "flex": null,
            "flex_flow": null,
            "grid_area": null,
            "grid_auto_columns": null,
            "grid_auto_flow": null,
            "grid_auto_rows": null,
            "grid_column": null,
            "grid_gap": null,
            "grid_row": null,
            "grid_template_areas": null,
            "grid_template_columns": null,
            "grid_template_rows": null,
            "height": null,
            "justify_content": null,
            "justify_items": null,
            "left": null,
            "margin": null,
            "max_height": null,
            "max_width": null,
            "min_height": null,
            "min_width": null,
            "object_fit": null,
            "object_position": null,
            "order": null,
            "overflow": null,
            "overflow_x": null,
            "overflow_y": null,
            "padding": null,
            "right": null,
            "top": null,
            "visibility": null,
            "width": null
          }
        },
        "f49deab74ed8458686c8a78432691144": {
          "model_module": "@jupyter-widgets/base",
          "model_module_version": "1.2.0",
          "model_name": "LayoutModel",
          "state": {
            "_model_module": "@jupyter-widgets/base",
            "_model_module_version": "1.2.0",
            "_model_name": "LayoutModel",
            "_view_count": null,
            "_view_module": "@jupyter-widgets/base",
            "_view_module_version": "1.2.0",
            "_view_name": "LayoutView",
            "align_content": null,
            "align_items": null,
            "align_self": null,
            "border": null,
            "bottom": null,
            "display": null,
            "flex": null,
            "flex_flow": null,
            "grid_area": null,
            "grid_auto_columns": null,
            "grid_auto_flow": null,
            "grid_auto_rows": null,
            "grid_column": null,
            "grid_gap": null,
            "grid_row": null,
            "grid_template_areas": null,
            "grid_template_columns": null,
            "grid_template_rows": null,
            "height": null,
            "justify_content": null,
            "justify_items": null,
            "left": null,
            "margin": null,
            "max_height": null,
            "max_width": null,
            "min_height": null,
            "min_width": null,
            "object_fit": null,
            "object_position": null,
            "order": null,
            "overflow": null,
            "overflow_x": null,
            "overflow_y": null,
            "padding": null,
            "right": null,
            "top": null,
            "visibility": null,
            "width": null
          }
        },
        "f54c95640a7c48089a73669b2aa2abda": {
          "model_module": "@jupyter-widgets/controls",
          "model_module_version": "1.5.0",
          "model_name": "DescriptionStyleModel",
          "state": {
            "_model_module": "@jupyter-widgets/controls",
            "_model_module_version": "1.5.0",
            "_model_name": "DescriptionStyleModel",
            "_view_count": null,
            "_view_module": "@jupyter-widgets/base",
            "_view_module_version": "1.2.0",
            "_view_name": "StyleView",
            "description_width": ""
          }
        },
        "f6345efd451b481f8511f39e8934c6da": {
          "model_module": "@jupyter-widgets/base",
          "model_module_version": "1.2.0",
          "model_name": "LayoutModel",
          "state": {
            "_model_module": "@jupyter-widgets/base",
            "_model_module_version": "1.2.0",
            "_model_name": "LayoutModel",
            "_view_count": null,
            "_view_module": "@jupyter-widgets/base",
            "_view_module_version": "1.2.0",
            "_view_name": "LayoutView",
            "align_content": null,
            "align_items": null,
            "align_self": null,
            "border": null,
            "bottom": null,
            "display": null,
            "flex": null,
            "flex_flow": null,
            "grid_area": null,
            "grid_auto_columns": null,
            "grid_auto_flow": null,
            "grid_auto_rows": null,
            "grid_column": null,
            "grid_gap": null,
            "grid_row": null,
            "grid_template_areas": null,
            "grid_template_columns": null,
            "grid_template_rows": null,
            "height": null,
            "justify_content": null,
            "justify_items": null,
            "left": null,
            "margin": null,
            "max_height": null,
            "max_width": null,
            "min_height": null,
            "min_width": null,
            "object_fit": null,
            "object_position": null,
            "order": null,
            "overflow": null,
            "overflow_x": null,
            "overflow_y": null,
            "padding": null,
            "right": null,
            "top": null,
            "visibility": null,
            "width": null
          }
        },
        "f6817af75eac43e2987075b323f36a2e": {
          "model_module": "@jupyter-widgets/base",
          "model_module_version": "1.2.0",
          "model_name": "LayoutModel",
          "state": {
            "_model_module": "@jupyter-widgets/base",
            "_model_module_version": "1.2.0",
            "_model_name": "LayoutModel",
            "_view_count": null,
            "_view_module": "@jupyter-widgets/base",
            "_view_module_version": "1.2.0",
            "_view_name": "LayoutView",
            "align_content": null,
            "align_items": null,
            "align_self": null,
            "border": null,
            "bottom": null,
            "display": null,
            "flex": null,
            "flex_flow": null,
            "grid_area": null,
            "grid_auto_columns": null,
            "grid_auto_flow": null,
            "grid_auto_rows": null,
            "grid_column": null,
            "grid_gap": null,
            "grid_row": null,
            "grid_template_areas": null,
            "grid_template_columns": null,
            "grid_template_rows": null,
            "height": null,
            "justify_content": null,
            "justify_items": null,
            "left": null,
            "margin": null,
            "max_height": null,
            "max_width": null,
            "min_height": null,
            "min_width": null,
            "object_fit": null,
            "object_position": null,
            "order": null,
            "overflow": null,
            "overflow_x": null,
            "overflow_y": null,
            "padding": null,
            "right": null,
            "top": null,
            "visibility": null,
            "width": null
          }
        },
        "f8fd4d7033f249cd8c79c5ce002b3a65": {
          "model_module": "@jupyter-widgets/controls",
          "model_module_version": "1.5.0",
          "model_name": "DescriptionStyleModel",
          "state": {
            "_model_module": "@jupyter-widgets/controls",
            "_model_module_version": "1.5.0",
            "_model_name": "DescriptionStyleModel",
            "_view_count": null,
            "_view_module": "@jupyter-widgets/base",
            "_view_module_version": "1.2.0",
            "_view_name": "StyleView",
            "description_width": ""
          }
        },
        "faa74a32e2ea4d1dbfe4eff4ffcee7ae": {
          "model_module": "@jupyter-widgets/base",
          "model_module_version": "1.2.0",
          "model_name": "LayoutModel",
          "state": {
            "_model_module": "@jupyter-widgets/base",
            "_model_module_version": "1.2.0",
            "_model_name": "LayoutModel",
            "_view_count": null,
            "_view_module": "@jupyter-widgets/base",
            "_view_module_version": "1.2.0",
            "_view_name": "LayoutView",
            "align_content": null,
            "align_items": null,
            "align_self": null,
            "border": null,
            "bottom": null,
            "display": null,
            "flex": null,
            "flex_flow": null,
            "grid_area": null,
            "grid_auto_columns": null,
            "grid_auto_flow": null,
            "grid_auto_rows": null,
            "grid_column": null,
            "grid_gap": null,
            "grid_row": null,
            "grid_template_areas": null,
            "grid_template_columns": null,
            "grid_template_rows": null,
            "height": null,
            "justify_content": null,
            "justify_items": null,
            "left": null,
            "margin": null,
            "max_height": null,
            "max_width": null,
            "min_height": null,
            "min_width": null,
            "object_fit": null,
            "object_position": null,
            "order": null,
            "overflow": null,
            "overflow_x": null,
            "overflow_y": null,
            "padding": null,
            "right": null,
            "top": null,
            "visibility": null,
            "width": null
          }
        },
        "fb0972062f6b45c3937bad8370684f3a": {
          "model_module": "@jupyter-widgets/controls",
          "model_module_version": "1.5.0",
          "model_name": "HTMLModel",
          "state": {
            "_dom_classes": [],
            "_model_module": "@jupyter-widgets/controls",
            "_model_module_version": "1.5.0",
            "_model_name": "HTMLModel",
            "_view_count": null,
            "_view_module": "@jupyter-widgets/controls",
            "_view_module_version": "1.5.0",
            "_view_name": "HTMLView",
            "description": "",
            "description_tooltip": null,
            "layout": "IPY_MODEL_2cfa22c438e743018d3460edacf472ba",
            "placeholder": "​",
            "style": "IPY_MODEL_c0f8dd9a38c44905b99abaa45c7e4642",
            "value": " 1.79G/1.79G [00:07&lt;00:00, 254MB/s]"
          }
        },
        "fbe4a4511aae4aec88d3312c3fffe8e9": {
          "model_module": "@jupyter-widgets/controls",
          "model_module_version": "1.5.0",
          "model_name": "DescriptionStyleModel",
          "state": {
            "_model_module": "@jupyter-widgets/controls",
            "_model_module_version": "1.5.0",
            "_model_name": "DescriptionStyleModel",
            "_view_count": null,
            "_view_module": "@jupyter-widgets/base",
            "_view_module_version": "1.2.0",
            "_view_name": "StyleView",
            "description_width": ""
          }
        },
        "fc126a727b0744afbb6fd210c31472ff": {
          "model_module": "@jupyter-widgets/controls",
          "model_module_version": "1.5.0",
          "model_name": "DescriptionStyleModel",
          "state": {
            "_model_module": "@jupyter-widgets/controls",
            "_model_module_version": "1.5.0",
            "_model_name": "DescriptionStyleModel",
            "_view_count": null,
            "_view_module": "@jupyter-widgets/base",
            "_view_module_version": "1.2.0",
            "_view_name": "StyleView",
            "description_width": ""
          }
        },
        "fdba5956e010404f8bdb999f1067b122": {
          "model_module": "@jupyter-widgets/controls",
          "model_module_version": "1.5.0",
          "model_name": "ProgressStyleModel",
          "state": {
            "_model_module": "@jupyter-widgets/controls",
            "_model_module_version": "1.5.0",
            "_model_name": "ProgressStyleModel",
            "_view_count": null,
            "_view_module": "@jupyter-widgets/base",
            "_view_module_version": "1.2.0",
            "_view_name": "StyleView",
            "bar_color": null,
            "description_width": ""
          }
        },
        "fe7e605840ff41cab1030264f7ac1f64": {
          "model_module": "@jupyter-widgets/controls",
          "model_module_version": "1.5.0",
          "model_name": "FloatProgressModel",
          "state": {
            "_dom_classes": [],
            "_model_module": "@jupyter-widgets/controls",
            "_model_module_version": "1.5.0",
            "_model_name": "FloatProgressModel",
            "_view_count": null,
            "_view_module": "@jupyter-widgets/controls",
            "_view_module_version": "1.5.0",
            "_view_name": "ProgressView",
            "bar_style": "success",
            "description": "",
            "description_tooltip": null,
            "layout": "IPY_MODEL_faa74a32e2ea4d1dbfe4eff4ffcee7ae",
            "max": 570,
            "min": 0,
            "orientation": "horizontal",
            "style": "IPY_MODEL_44ad3992ea18480499bde87aa54eb561",
            "value": 570
          }
        },
        "fea0e847a49c415b85ed6772b51d7fc1": {
          "model_module": "@jupyter-widgets/controls",
          "model_module_version": "1.5.0",
          "model_name": "HTMLModel",
          "state": {
            "_dom_classes": [],
            "_model_module": "@jupyter-widgets/controls",
            "_model_module_version": "1.5.0",
            "_model_name": "HTMLModel",
            "_view_count": null,
            "_view_module": "@jupyter-widgets/controls",
            "_view_module_version": "1.5.0",
            "_view_name": "HTMLView",
            "description": "",
            "description_tooltip": null,
            "layout": "IPY_MODEL_4de3091d20ed49b08eeaff5ed40dc81b",
            "placeholder": "​",
            "style": "IPY_MODEL_6024740a8cc4483eb26d259e1e9d929b",
            "value": " 570/570 [00:00&lt;00:00, 42.8kB/s]"
          }
        }
      }
    }
  },
  "nbformat": 4,
  "nbformat_minor": 0
}
